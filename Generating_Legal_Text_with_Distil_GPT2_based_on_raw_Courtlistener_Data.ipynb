{
  "nbformat": 4,
  "nbformat_minor": 0,
  "metadata": {
    "colab": {
      "name": "Generating Legal Text with Distil-GPT2 based on raw Courtlistener Data.ipynb",
      "provenance": [],
      "mount_file_id": "1EknVyQW6-xiO2R7Q1Ut-SVloxjEuAQ7S",
      "authorship_tag": "ABX9TyN1rRoNs8CMcmgTDaD0q2S5",
      "include_colab_link": true
    },
    "kernelspec": {
      "name": "python3",
      "display_name": "Python 3"
    },
    "language_info": {
      "name": "python"
    },
    "accelerator": "TPU",
    "widgets": {
      "application/vnd.jupyter.widget-state+json": {
        "6a7de2f60fc347db84cec8321233e91d": {
          "model_module": "@jupyter-widgets/controls",
          "model_name": "HBoxModel",
          "model_module_version": "1.5.0",
          "state": {
            "_view_name": "HBoxView",
            "_dom_classes": [],
            "_model_name": "HBoxModel",
            "_view_module": "@jupyter-widgets/controls",
            "_model_module_version": "1.5.0",
            "_view_count": null,
            "_view_module_version": "1.5.0",
            "box_style": "",
            "layout": "IPY_MODEL_2ea1864e5f834f19ba01bf854cf9d61f",
            "_model_module": "@jupyter-widgets/controls",
            "children": [
              "IPY_MODEL_be645a1205ca494b944b83a13d0e3a6b",
              "IPY_MODEL_9495883025224cf597d05b2bb3d6f191",
              "IPY_MODEL_ea46832c9c5049d6a2a6263d8934aada"
            ]
          }
        },
        "2ea1864e5f834f19ba01bf854cf9d61f": {
          "model_module": "@jupyter-widgets/base",
          "model_name": "LayoutModel",
          "model_module_version": "1.2.0",
          "state": {
            "_view_name": "LayoutView",
            "grid_template_rows": null,
            "right": null,
            "justify_content": null,
            "_view_module": "@jupyter-widgets/base",
            "overflow": null,
            "_model_module_version": "1.2.0",
            "_view_count": null,
            "flex_flow": null,
            "width": null,
            "min_width": null,
            "border": null,
            "align_items": null,
            "bottom": null,
            "_model_module": "@jupyter-widgets/base",
            "top": null,
            "grid_column": null,
            "overflow_y": null,
            "overflow_x": null,
            "grid_auto_flow": null,
            "grid_area": null,
            "grid_template_columns": null,
            "flex": null,
            "_model_name": "LayoutModel",
            "justify_items": null,
            "grid_row": null,
            "max_height": null,
            "align_content": null,
            "visibility": null,
            "align_self": null,
            "height": null,
            "min_height": null,
            "padding": null,
            "grid_auto_rows": null,
            "grid_gap": null,
            "max_width": null,
            "order": null,
            "_view_module_version": "1.2.0",
            "grid_template_areas": null,
            "object_position": null,
            "object_fit": null,
            "grid_auto_columns": null,
            "margin": null,
            "display": null,
            "left": null
          }
        },
        "be645a1205ca494b944b83a13d0e3a6b": {
          "model_module": "@jupyter-widgets/controls",
          "model_name": "HTMLModel",
          "model_module_version": "1.5.0",
          "state": {
            "_view_name": "HTMLView",
            "style": "IPY_MODEL_af23c2a9e49a46f3b44f227480224bbc",
            "_dom_classes": [],
            "description": "",
            "_model_name": "HTMLModel",
            "placeholder": "​",
            "_view_module": "@jupyter-widgets/controls",
            "_model_module_version": "1.5.0",
            "value": "Downloading: 100%",
            "_view_count": null,
            "_view_module_version": "1.5.0",
            "description_tooltip": null,
            "_model_module": "@jupyter-widgets/controls",
            "layout": "IPY_MODEL_d2c5365618d44424a97322ada7c396b4"
          }
        },
        "9495883025224cf597d05b2bb3d6f191": {
          "model_module": "@jupyter-widgets/controls",
          "model_name": "FloatProgressModel",
          "model_module_version": "1.5.0",
          "state": {
            "_view_name": "ProgressView",
            "style": "IPY_MODEL_453f4e5d52664f0f85abe05cb073bb3f",
            "_dom_classes": [],
            "description": "",
            "_model_name": "FloatProgressModel",
            "bar_style": "success",
            "max": 665,
            "_view_module": "@jupyter-widgets/controls",
            "_model_module_version": "1.5.0",
            "value": 665,
            "_view_count": null,
            "_view_module_version": "1.5.0",
            "orientation": "horizontal",
            "min": 0,
            "description_tooltip": null,
            "_model_module": "@jupyter-widgets/controls",
            "layout": "IPY_MODEL_b83a2964c7404161a6167291a10986a3"
          }
        },
        "ea46832c9c5049d6a2a6263d8934aada": {
          "model_module": "@jupyter-widgets/controls",
          "model_name": "HTMLModel",
          "model_module_version": "1.5.0",
          "state": {
            "_view_name": "HTMLView",
            "style": "IPY_MODEL_10b71aeac5194d16bda60b61ef233619",
            "_dom_classes": [],
            "description": "",
            "_model_name": "HTMLModel",
            "placeholder": "​",
            "_view_module": "@jupyter-widgets/controls",
            "_model_module_version": "1.5.0",
            "value": " 665/665 [00:00&lt;00:00, 15.3kB/s]",
            "_view_count": null,
            "_view_module_version": "1.5.0",
            "description_tooltip": null,
            "_model_module": "@jupyter-widgets/controls",
            "layout": "IPY_MODEL_99d2501178264283a16f8efe63e0e118"
          }
        },
        "af23c2a9e49a46f3b44f227480224bbc": {
          "model_module": "@jupyter-widgets/controls",
          "model_name": "DescriptionStyleModel",
          "model_module_version": "1.5.0",
          "state": {
            "_view_name": "StyleView",
            "_model_name": "DescriptionStyleModel",
            "description_width": "",
            "_view_module": "@jupyter-widgets/base",
            "_model_module_version": "1.5.0",
            "_view_count": null,
            "_view_module_version": "1.2.0",
            "_model_module": "@jupyter-widgets/controls"
          }
        },
        "d2c5365618d44424a97322ada7c396b4": {
          "model_module": "@jupyter-widgets/base",
          "model_name": "LayoutModel",
          "model_module_version": "1.2.0",
          "state": {
            "_view_name": "LayoutView",
            "grid_template_rows": null,
            "right": null,
            "justify_content": null,
            "_view_module": "@jupyter-widgets/base",
            "overflow": null,
            "_model_module_version": "1.2.0",
            "_view_count": null,
            "flex_flow": null,
            "width": null,
            "min_width": null,
            "border": null,
            "align_items": null,
            "bottom": null,
            "_model_module": "@jupyter-widgets/base",
            "top": null,
            "grid_column": null,
            "overflow_y": null,
            "overflow_x": null,
            "grid_auto_flow": null,
            "grid_area": null,
            "grid_template_columns": null,
            "flex": null,
            "_model_name": "LayoutModel",
            "justify_items": null,
            "grid_row": null,
            "max_height": null,
            "align_content": null,
            "visibility": null,
            "align_self": null,
            "height": null,
            "min_height": null,
            "padding": null,
            "grid_auto_rows": null,
            "grid_gap": null,
            "max_width": null,
            "order": null,
            "_view_module_version": "1.2.0",
            "grid_template_areas": null,
            "object_position": null,
            "object_fit": null,
            "grid_auto_columns": null,
            "margin": null,
            "display": null,
            "left": null
          }
        },
        "453f4e5d52664f0f85abe05cb073bb3f": {
          "model_module": "@jupyter-widgets/controls",
          "model_name": "ProgressStyleModel",
          "model_module_version": "1.5.0",
          "state": {
            "_view_name": "StyleView",
            "_model_name": "ProgressStyleModel",
            "description_width": "",
            "_view_module": "@jupyter-widgets/base",
            "_model_module_version": "1.5.0",
            "_view_count": null,
            "_view_module_version": "1.2.0",
            "bar_color": null,
            "_model_module": "@jupyter-widgets/controls"
          }
        },
        "b83a2964c7404161a6167291a10986a3": {
          "model_module": "@jupyter-widgets/base",
          "model_name": "LayoutModel",
          "model_module_version": "1.2.0",
          "state": {
            "_view_name": "LayoutView",
            "grid_template_rows": null,
            "right": null,
            "justify_content": null,
            "_view_module": "@jupyter-widgets/base",
            "overflow": null,
            "_model_module_version": "1.2.0",
            "_view_count": null,
            "flex_flow": null,
            "width": null,
            "min_width": null,
            "border": null,
            "align_items": null,
            "bottom": null,
            "_model_module": "@jupyter-widgets/base",
            "top": null,
            "grid_column": null,
            "overflow_y": null,
            "overflow_x": null,
            "grid_auto_flow": null,
            "grid_area": null,
            "grid_template_columns": null,
            "flex": null,
            "_model_name": "LayoutModel",
            "justify_items": null,
            "grid_row": null,
            "max_height": null,
            "align_content": null,
            "visibility": null,
            "align_self": null,
            "height": null,
            "min_height": null,
            "padding": null,
            "grid_auto_rows": null,
            "grid_gap": null,
            "max_width": null,
            "order": null,
            "_view_module_version": "1.2.0",
            "grid_template_areas": null,
            "object_position": null,
            "object_fit": null,
            "grid_auto_columns": null,
            "margin": null,
            "display": null,
            "left": null
          }
        },
        "10b71aeac5194d16bda60b61ef233619": {
          "model_module": "@jupyter-widgets/controls",
          "model_name": "DescriptionStyleModel",
          "model_module_version": "1.5.0",
          "state": {
            "_view_name": "StyleView",
            "_model_name": "DescriptionStyleModel",
            "description_width": "",
            "_view_module": "@jupyter-widgets/base",
            "_model_module_version": "1.5.0",
            "_view_count": null,
            "_view_module_version": "1.2.0",
            "_model_module": "@jupyter-widgets/controls"
          }
        },
        "99d2501178264283a16f8efe63e0e118": {
          "model_module": "@jupyter-widgets/base",
          "model_name": "LayoutModel",
          "model_module_version": "1.2.0",
          "state": {
            "_view_name": "LayoutView",
            "grid_template_rows": null,
            "right": null,
            "justify_content": null,
            "_view_module": "@jupyter-widgets/base",
            "overflow": null,
            "_model_module_version": "1.2.0",
            "_view_count": null,
            "flex_flow": null,
            "width": null,
            "min_width": null,
            "border": null,
            "align_items": null,
            "bottom": null,
            "_model_module": "@jupyter-widgets/base",
            "top": null,
            "grid_column": null,
            "overflow_y": null,
            "overflow_x": null,
            "grid_auto_flow": null,
            "grid_area": null,
            "grid_template_columns": null,
            "flex": null,
            "_model_name": "LayoutModel",
            "justify_items": null,
            "grid_row": null,
            "max_height": null,
            "align_content": null,
            "visibility": null,
            "align_self": null,
            "height": null,
            "min_height": null,
            "padding": null,
            "grid_auto_rows": null,
            "grid_gap": null,
            "max_width": null,
            "order": null,
            "_view_module_version": "1.2.0",
            "grid_template_areas": null,
            "object_position": null,
            "object_fit": null,
            "grid_auto_columns": null,
            "margin": null,
            "display": null,
            "left": null
          }
        },
        "ee547fc1760041169d7634150cac08ef": {
          "model_module": "@jupyter-widgets/controls",
          "model_name": "HBoxModel",
          "model_module_version": "1.5.0",
          "state": {
            "_view_name": "HBoxView",
            "_dom_classes": [],
            "_model_name": "HBoxModel",
            "_view_module": "@jupyter-widgets/controls",
            "_model_module_version": "1.5.0",
            "_view_count": null,
            "_view_module_version": "1.5.0",
            "box_style": "",
            "layout": "IPY_MODEL_872cee68e3b4463bbf0734ae644a98e8",
            "_model_module": "@jupyter-widgets/controls",
            "children": [
              "IPY_MODEL_b68ef8c9564c408cad02ebe471d34ede",
              "IPY_MODEL_7ad8225f788a487a936577e77151ad77",
              "IPY_MODEL_54e74c3646644969b172c8aa42514d62"
            ]
          }
        },
        "872cee68e3b4463bbf0734ae644a98e8": {
          "model_module": "@jupyter-widgets/base",
          "model_name": "LayoutModel",
          "model_module_version": "1.2.0",
          "state": {
            "_view_name": "LayoutView",
            "grid_template_rows": null,
            "right": null,
            "justify_content": null,
            "_view_module": "@jupyter-widgets/base",
            "overflow": null,
            "_model_module_version": "1.2.0",
            "_view_count": null,
            "flex_flow": null,
            "width": null,
            "min_width": null,
            "border": null,
            "align_items": null,
            "bottom": null,
            "_model_module": "@jupyter-widgets/base",
            "top": null,
            "grid_column": null,
            "overflow_y": null,
            "overflow_x": null,
            "grid_auto_flow": null,
            "grid_area": null,
            "grid_template_columns": null,
            "flex": null,
            "_model_name": "LayoutModel",
            "justify_items": null,
            "grid_row": null,
            "max_height": null,
            "align_content": null,
            "visibility": null,
            "align_self": null,
            "height": null,
            "min_height": null,
            "padding": null,
            "grid_auto_rows": null,
            "grid_gap": null,
            "max_width": null,
            "order": null,
            "_view_module_version": "1.2.0",
            "grid_template_areas": null,
            "object_position": null,
            "object_fit": null,
            "grid_auto_columns": null,
            "margin": null,
            "display": null,
            "left": null
          }
        },
        "b68ef8c9564c408cad02ebe471d34ede": {
          "model_module": "@jupyter-widgets/controls",
          "model_name": "HTMLModel",
          "model_module_version": "1.5.0",
          "state": {
            "_view_name": "HTMLView",
            "style": "IPY_MODEL_6ce3a2a0d7a64cafbd93cd61ff829316",
            "_dom_classes": [],
            "description": "",
            "_model_name": "HTMLModel",
            "placeholder": "​",
            "_view_module": "@jupyter-widgets/controls",
            "_model_module_version": "1.5.0",
            "value": "Downloading: 100%",
            "_view_count": null,
            "_view_module_version": "1.5.0",
            "description_tooltip": null,
            "_model_module": "@jupyter-widgets/controls",
            "layout": "IPY_MODEL_c1e7a80ec285463787f9e0bd5820aaf6"
          }
        },
        "7ad8225f788a487a936577e77151ad77": {
          "model_module": "@jupyter-widgets/controls",
          "model_name": "FloatProgressModel",
          "model_module_version": "1.5.0",
          "state": {
            "_view_name": "ProgressView",
            "style": "IPY_MODEL_3112138ae8b34e949d82a9e6d9b53ebf",
            "_dom_classes": [],
            "description": "",
            "_model_name": "FloatProgressModel",
            "bar_style": "success",
            "max": 1042301,
            "_view_module": "@jupyter-widgets/controls",
            "_model_module_version": "1.5.0",
            "value": 1042301,
            "_view_count": null,
            "_view_module_version": "1.5.0",
            "orientation": "horizontal",
            "min": 0,
            "description_tooltip": null,
            "_model_module": "@jupyter-widgets/controls",
            "layout": "IPY_MODEL_0f20d6dcb5f24f33b522ad5121943b18"
          }
        },
        "54e74c3646644969b172c8aa42514d62": {
          "model_module": "@jupyter-widgets/controls",
          "model_name": "HTMLModel",
          "model_module_version": "1.5.0",
          "state": {
            "_view_name": "HTMLView",
            "style": "IPY_MODEL_a41e96dbe5074fbab1e53d27ebf71307",
            "_dom_classes": [],
            "description": "",
            "_model_name": "HTMLModel",
            "placeholder": "​",
            "_view_module": "@jupyter-widgets/controls",
            "_model_module_version": "1.5.0",
            "value": " 1.04M/1.04M [00:00&lt;00:00, 5.09MB/s]",
            "_view_count": null,
            "_view_module_version": "1.5.0",
            "description_tooltip": null,
            "_model_module": "@jupyter-widgets/controls",
            "layout": "IPY_MODEL_2521582cabcb45aea0f4d0d314856a9c"
          }
        },
        "6ce3a2a0d7a64cafbd93cd61ff829316": {
          "model_module": "@jupyter-widgets/controls",
          "model_name": "DescriptionStyleModel",
          "model_module_version": "1.5.0",
          "state": {
            "_view_name": "StyleView",
            "_model_name": "DescriptionStyleModel",
            "description_width": "",
            "_view_module": "@jupyter-widgets/base",
            "_model_module_version": "1.5.0",
            "_view_count": null,
            "_view_module_version": "1.2.0",
            "_model_module": "@jupyter-widgets/controls"
          }
        },
        "c1e7a80ec285463787f9e0bd5820aaf6": {
          "model_module": "@jupyter-widgets/base",
          "model_name": "LayoutModel",
          "model_module_version": "1.2.0",
          "state": {
            "_view_name": "LayoutView",
            "grid_template_rows": null,
            "right": null,
            "justify_content": null,
            "_view_module": "@jupyter-widgets/base",
            "overflow": null,
            "_model_module_version": "1.2.0",
            "_view_count": null,
            "flex_flow": null,
            "width": null,
            "min_width": null,
            "border": null,
            "align_items": null,
            "bottom": null,
            "_model_module": "@jupyter-widgets/base",
            "top": null,
            "grid_column": null,
            "overflow_y": null,
            "overflow_x": null,
            "grid_auto_flow": null,
            "grid_area": null,
            "grid_template_columns": null,
            "flex": null,
            "_model_name": "LayoutModel",
            "justify_items": null,
            "grid_row": null,
            "max_height": null,
            "align_content": null,
            "visibility": null,
            "align_self": null,
            "height": null,
            "min_height": null,
            "padding": null,
            "grid_auto_rows": null,
            "grid_gap": null,
            "max_width": null,
            "order": null,
            "_view_module_version": "1.2.0",
            "grid_template_areas": null,
            "object_position": null,
            "object_fit": null,
            "grid_auto_columns": null,
            "margin": null,
            "display": null,
            "left": null
          }
        },
        "3112138ae8b34e949d82a9e6d9b53ebf": {
          "model_module": "@jupyter-widgets/controls",
          "model_name": "ProgressStyleModel",
          "model_module_version": "1.5.0",
          "state": {
            "_view_name": "StyleView",
            "_model_name": "ProgressStyleModel",
            "description_width": "",
            "_view_module": "@jupyter-widgets/base",
            "_model_module_version": "1.5.0",
            "_view_count": null,
            "_view_module_version": "1.2.0",
            "bar_color": null,
            "_model_module": "@jupyter-widgets/controls"
          }
        },
        "0f20d6dcb5f24f33b522ad5121943b18": {
          "model_module": "@jupyter-widgets/base",
          "model_name": "LayoutModel",
          "model_module_version": "1.2.0",
          "state": {
            "_view_name": "LayoutView",
            "grid_template_rows": null,
            "right": null,
            "justify_content": null,
            "_view_module": "@jupyter-widgets/base",
            "overflow": null,
            "_model_module_version": "1.2.0",
            "_view_count": null,
            "flex_flow": null,
            "width": null,
            "min_width": null,
            "border": null,
            "align_items": null,
            "bottom": null,
            "_model_module": "@jupyter-widgets/base",
            "top": null,
            "grid_column": null,
            "overflow_y": null,
            "overflow_x": null,
            "grid_auto_flow": null,
            "grid_area": null,
            "grid_template_columns": null,
            "flex": null,
            "_model_name": "LayoutModel",
            "justify_items": null,
            "grid_row": null,
            "max_height": null,
            "align_content": null,
            "visibility": null,
            "align_self": null,
            "height": null,
            "min_height": null,
            "padding": null,
            "grid_auto_rows": null,
            "grid_gap": null,
            "max_width": null,
            "order": null,
            "_view_module_version": "1.2.0",
            "grid_template_areas": null,
            "object_position": null,
            "object_fit": null,
            "grid_auto_columns": null,
            "margin": null,
            "display": null,
            "left": null
          }
        },
        "a41e96dbe5074fbab1e53d27ebf71307": {
          "model_module": "@jupyter-widgets/controls",
          "model_name": "DescriptionStyleModel",
          "model_module_version": "1.5.0",
          "state": {
            "_view_name": "StyleView",
            "_model_name": "DescriptionStyleModel",
            "description_width": "",
            "_view_module": "@jupyter-widgets/base",
            "_model_module_version": "1.5.0",
            "_view_count": null,
            "_view_module_version": "1.2.0",
            "_model_module": "@jupyter-widgets/controls"
          }
        },
        "2521582cabcb45aea0f4d0d314856a9c": {
          "model_module": "@jupyter-widgets/base",
          "model_name": "LayoutModel",
          "model_module_version": "1.2.0",
          "state": {
            "_view_name": "LayoutView",
            "grid_template_rows": null,
            "right": null,
            "justify_content": null,
            "_view_module": "@jupyter-widgets/base",
            "overflow": null,
            "_model_module_version": "1.2.0",
            "_view_count": null,
            "flex_flow": null,
            "width": null,
            "min_width": null,
            "border": null,
            "align_items": null,
            "bottom": null,
            "_model_module": "@jupyter-widgets/base",
            "top": null,
            "grid_column": null,
            "overflow_y": null,
            "overflow_x": null,
            "grid_auto_flow": null,
            "grid_area": null,
            "grid_template_columns": null,
            "flex": null,
            "_model_name": "LayoutModel",
            "justify_items": null,
            "grid_row": null,
            "max_height": null,
            "align_content": null,
            "visibility": null,
            "align_self": null,
            "height": null,
            "min_height": null,
            "padding": null,
            "grid_auto_rows": null,
            "grid_gap": null,
            "max_width": null,
            "order": null,
            "_view_module_version": "1.2.0",
            "grid_template_areas": null,
            "object_position": null,
            "object_fit": null,
            "grid_auto_columns": null,
            "margin": null,
            "display": null,
            "left": null
          }
        },
        "bab2bad1807a4664a03fbc1dd2415a9a": {
          "model_module": "@jupyter-widgets/controls",
          "model_name": "HBoxModel",
          "model_module_version": "1.5.0",
          "state": {
            "_view_name": "HBoxView",
            "_dom_classes": [],
            "_model_name": "HBoxModel",
            "_view_module": "@jupyter-widgets/controls",
            "_model_module_version": "1.5.0",
            "_view_count": null,
            "_view_module_version": "1.5.0",
            "box_style": "",
            "layout": "IPY_MODEL_181fc843c243422f8cf4588d4e8409b0",
            "_model_module": "@jupyter-widgets/controls",
            "children": [
              "IPY_MODEL_d36ff8c8cf614c21a12785da75b11dfa",
              "IPY_MODEL_2137bde41822491ba94f3d76dcf3a401",
              "IPY_MODEL_6bdf677cd2b34578ad3c3a26e87f24d5"
            ]
          }
        },
        "181fc843c243422f8cf4588d4e8409b0": {
          "model_module": "@jupyter-widgets/base",
          "model_name": "LayoutModel",
          "model_module_version": "1.2.0",
          "state": {
            "_view_name": "LayoutView",
            "grid_template_rows": null,
            "right": null,
            "justify_content": null,
            "_view_module": "@jupyter-widgets/base",
            "overflow": null,
            "_model_module_version": "1.2.0",
            "_view_count": null,
            "flex_flow": null,
            "width": null,
            "min_width": null,
            "border": null,
            "align_items": null,
            "bottom": null,
            "_model_module": "@jupyter-widgets/base",
            "top": null,
            "grid_column": null,
            "overflow_y": null,
            "overflow_x": null,
            "grid_auto_flow": null,
            "grid_area": null,
            "grid_template_columns": null,
            "flex": null,
            "_model_name": "LayoutModel",
            "justify_items": null,
            "grid_row": null,
            "max_height": null,
            "align_content": null,
            "visibility": null,
            "align_self": null,
            "height": null,
            "min_height": null,
            "padding": null,
            "grid_auto_rows": null,
            "grid_gap": null,
            "max_width": null,
            "order": null,
            "_view_module_version": "1.2.0",
            "grid_template_areas": null,
            "object_position": null,
            "object_fit": null,
            "grid_auto_columns": null,
            "margin": null,
            "display": null,
            "left": null
          }
        },
        "d36ff8c8cf614c21a12785da75b11dfa": {
          "model_module": "@jupyter-widgets/controls",
          "model_name": "HTMLModel",
          "model_module_version": "1.5.0",
          "state": {
            "_view_name": "HTMLView",
            "style": "IPY_MODEL_876e5a8041d9453a8e96531c5d1b656e",
            "_dom_classes": [],
            "description": "",
            "_model_name": "HTMLModel",
            "placeholder": "​",
            "_view_module": "@jupyter-widgets/controls",
            "_model_module_version": "1.5.0",
            "value": "Downloading: 100%",
            "_view_count": null,
            "_view_module_version": "1.5.0",
            "description_tooltip": null,
            "_model_module": "@jupyter-widgets/controls",
            "layout": "IPY_MODEL_712a39588aad40d9bbe6d6f3ed6c25f6"
          }
        },
        "2137bde41822491ba94f3d76dcf3a401": {
          "model_module": "@jupyter-widgets/controls",
          "model_name": "FloatProgressModel",
          "model_module_version": "1.5.0",
          "state": {
            "_view_name": "ProgressView",
            "style": "IPY_MODEL_5cbcf6d3a07d4ed4b35a9bd5b0efc835",
            "_dom_classes": [],
            "description": "",
            "_model_name": "FloatProgressModel",
            "bar_style": "success",
            "max": 456318,
            "_view_module": "@jupyter-widgets/controls",
            "_model_module_version": "1.5.0",
            "value": 456318,
            "_view_count": null,
            "_view_module_version": "1.5.0",
            "orientation": "horizontal",
            "min": 0,
            "description_tooltip": null,
            "_model_module": "@jupyter-widgets/controls",
            "layout": "IPY_MODEL_78a086becc8f42d18127cbfe5423a12b"
          }
        },
        "6bdf677cd2b34578ad3c3a26e87f24d5": {
          "model_module": "@jupyter-widgets/controls",
          "model_name": "HTMLModel",
          "model_module_version": "1.5.0",
          "state": {
            "_view_name": "HTMLView",
            "style": "IPY_MODEL_67bd410477474e9ba0a6b4480b782844",
            "_dom_classes": [],
            "description": "",
            "_model_name": "HTMLModel",
            "placeholder": "​",
            "_view_module": "@jupyter-widgets/controls",
            "_model_module_version": "1.5.0",
            "value": " 456k/456k [00:00&lt;00:00, 1.19MB/s]",
            "_view_count": null,
            "_view_module_version": "1.5.0",
            "description_tooltip": null,
            "_model_module": "@jupyter-widgets/controls",
            "layout": "IPY_MODEL_70b46130b39c4cc59df1cb0a86ae365b"
          }
        },
        "876e5a8041d9453a8e96531c5d1b656e": {
          "model_module": "@jupyter-widgets/controls",
          "model_name": "DescriptionStyleModel",
          "model_module_version": "1.5.0",
          "state": {
            "_view_name": "StyleView",
            "_model_name": "DescriptionStyleModel",
            "description_width": "",
            "_view_module": "@jupyter-widgets/base",
            "_model_module_version": "1.5.0",
            "_view_count": null,
            "_view_module_version": "1.2.0",
            "_model_module": "@jupyter-widgets/controls"
          }
        },
        "712a39588aad40d9bbe6d6f3ed6c25f6": {
          "model_module": "@jupyter-widgets/base",
          "model_name": "LayoutModel",
          "model_module_version": "1.2.0",
          "state": {
            "_view_name": "LayoutView",
            "grid_template_rows": null,
            "right": null,
            "justify_content": null,
            "_view_module": "@jupyter-widgets/base",
            "overflow": null,
            "_model_module_version": "1.2.0",
            "_view_count": null,
            "flex_flow": null,
            "width": null,
            "min_width": null,
            "border": null,
            "align_items": null,
            "bottom": null,
            "_model_module": "@jupyter-widgets/base",
            "top": null,
            "grid_column": null,
            "overflow_y": null,
            "overflow_x": null,
            "grid_auto_flow": null,
            "grid_area": null,
            "grid_template_columns": null,
            "flex": null,
            "_model_name": "LayoutModel",
            "justify_items": null,
            "grid_row": null,
            "max_height": null,
            "align_content": null,
            "visibility": null,
            "align_self": null,
            "height": null,
            "min_height": null,
            "padding": null,
            "grid_auto_rows": null,
            "grid_gap": null,
            "max_width": null,
            "order": null,
            "_view_module_version": "1.2.0",
            "grid_template_areas": null,
            "object_position": null,
            "object_fit": null,
            "grid_auto_columns": null,
            "margin": null,
            "display": null,
            "left": null
          }
        },
        "5cbcf6d3a07d4ed4b35a9bd5b0efc835": {
          "model_module": "@jupyter-widgets/controls",
          "model_name": "ProgressStyleModel",
          "model_module_version": "1.5.0",
          "state": {
            "_view_name": "StyleView",
            "_model_name": "ProgressStyleModel",
            "description_width": "",
            "_view_module": "@jupyter-widgets/base",
            "_model_module_version": "1.5.0",
            "_view_count": null,
            "_view_module_version": "1.2.0",
            "bar_color": null,
            "_model_module": "@jupyter-widgets/controls"
          }
        },
        "78a086becc8f42d18127cbfe5423a12b": {
          "model_module": "@jupyter-widgets/base",
          "model_name": "LayoutModel",
          "model_module_version": "1.2.0",
          "state": {
            "_view_name": "LayoutView",
            "grid_template_rows": null,
            "right": null,
            "justify_content": null,
            "_view_module": "@jupyter-widgets/base",
            "overflow": null,
            "_model_module_version": "1.2.0",
            "_view_count": null,
            "flex_flow": null,
            "width": null,
            "min_width": null,
            "border": null,
            "align_items": null,
            "bottom": null,
            "_model_module": "@jupyter-widgets/base",
            "top": null,
            "grid_column": null,
            "overflow_y": null,
            "overflow_x": null,
            "grid_auto_flow": null,
            "grid_area": null,
            "grid_template_columns": null,
            "flex": null,
            "_model_name": "LayoutModel",
            "justify_items": null,
            "grid_row": null,
            "max_height": null,
            "align_content": null,
            "visibility": null,
            "align_self": null,
            "height": null,
            "min_height": null,
            "padding": null,
            "grid_auto_rows": null,
            "grid_gap": null,
            "max_width": null,
            "order": null,
            "_view_module_version": "1.2.0",
            "grid_template_areas": null,
            "object_position": null,
            "object_fit": null,
            "grid_auto_columns": null,
            "margin": null,
            "display": null,
            "left": null
          }
        },
        "67bd410477474e9ba0a6b4480b782844": {
          "model_module": "@jupyter-widgets/controls",
          "model_name": "DescriptionStyleModel",
          "model_module_version": "1.5.0",
          "state": {
            "_view_name": "StyleView",
            "_model_name": "DescriptionStyleModel",
            "description_width": "",
            "_view_module": "@jupyter-widgets/base",
            "_model_module_version": "1.5.0",
            "_view_count": null,
            "_view_module_version": "1.2.0",
            "_model_module": "@jupyter-widgets/controls"
          }
        },
        "70b46130b39c4cc59df1cb0a86ae365b": {
          "model_module": "@jupyter-widgets/base",
          "model_name": "LayoutModel",
          "model_module_version": "1.2.0",
          "state": {
            "_view_name": "LayoutView",
            "grid_template_rows": null,
            "right": null,
            "justify_content": null,
            "_view_module": "@jupyter-widgets/base",
            "overflow": null,
            "_model_module_version": "1.2.0",
            "_view_count": null,
            "flex_flow": null,
            "width": null,
            "min_width": null,
            "border": null,
            "align_items": null,
            "bottom": null,
            "_model_module": "@jupyter-widgets/base",
            "top": null,
            "grid_column": null,
            "overflow_y": null,
            "overflow_x": null,
            "grid_auto_flow": null,
            "grid_area": null,
            "grid_template_columns": null,
            "flex": null,
            "_model_name": "LayoutModel",
            "justify_items": null,
            "grid_row": null,
            "max_height": null,
            "align_content": null,
            "visibility": null,
            "align_self": null,
            "height": null,
            "min_height": null,
            "padding": null,
            "grid_auto_rows": null,
            "grid_gap": null,
            "max_width": null,
            "order": null,
            "_view_module_version": "1.2.0",
            "grid_template_areas": null,
            "object_position": null,
            "object_fit": null,
            "grid_auto_columns": null,
            "margin": null,
            "display": null,
            "left": null
          }
        },
        "b3b57c3c7ce54fdbbe970141a99e1abc": {
          "model_module": "@jupyter-widgets/controls",
          "model_name": "HBoxModel",
          "model_module_version": "1.5.0",
          "state": {
            "_view_name": "HBoxView",
            "_dom_classes": [],
            "_model_name": "HBoxModel",
            "_view_module": "@jupyter-widgets/controls",
            "_model_module_version": "1.5.0",
            "_view_count": null,
            "_view_module_version": "1.5.0",
            "box_style": "",
            "layout": "IPY_MODEL_c10b02d20df24429a160b285baaa8a4f",
            "_model_module": "@jupyter-widgets/controls",
            "children": [
              "IPY_MODEL_7b17216a026f4a23947695891af0392f",
              "IPY_MODEL_0596a221c71f4f909389f88b33207680",
              "IPY_MODEL_76719b0e0bc24eaba132fea0d4500a07"
            ]
          }
        },
        "c10b02d20df24429a160b285baaa8a4f": {
          "model_module": "@jupyter-widgets/base",
          "model_name": "LayoutModel",
          "model_module_version": "1.2.0",
          "state": {
            "_view_name": "LayoutView",
            "grid_template_rows": null,
            "right": null,
            "justify_content": null,
            "_view_module": "@jupyter-widgets/base",
            "overflow": null,
            "_model_module_version": "1.2.0",
            "_view_count": null,
            "flex_flow": null,
            "width": null,
            "min_width": null,
            "border": null,
            "align_items": null,
            "bottom": null,
            "_model_module": "@jupyter-widgets/base",
            "top": null,
            "grid_column": null,
            "overflow_y": null,
            "overflow_x": null,
            "grid_auto_flow": null,
            "grid_area": null,
            "grid_template_columns": null,
            "flex": null,
            "_model_name": "LayoutModel",
            "justify_items": null,
            "grid_row": null,
            "max_height": null,
            "align_content": null,
            "visibility": null,
            "align_self": null,
            "height": null,
            "min_height": null,
            "padding": null,
            "grid_auto_rows": null,
            "grid_gap": null,
            "max_width": null,
            "order": null,
            "_view_module_version": "1.2.0",
            "grid_template_areas": null,
            "object_position": null,
            "object_fit": null,
            "grid_auto_columns": null,
            "margin": null,
            "display": null,
            "left": null
          }
        },
        "7b17216a026f4a23947695891af0392f": {
          "model_module": "@jupyter-widgets/controls",
          "model_name": "HTMLModel",
          "model_module_version": "1.5.0",
          "state": {
            "_view_name": "HTMLView",
            "style": "IPY_MODEL_786f821f70b345649ad65d01db8339c1",
            "_dom_classes": [],
            "description": "",
            "_model_name": "HTMLModel",
            "placeholder": "​",
            "_view_module": "@jupyter-widgets/controls",
            "_model_module_version": "1.5.0",
            "value": "Downloading: 100%",
            "_view_count": null,
            "_view_module_version": "1.5.0",
            "description_tooltip": null,
            "_model_module": "@jupyter-widgets/controls",
            "layout": "IPY_MODEL_e80d0e7dd12a4c38814d7ebd843a8da6"
          }
        },
        "0596a221c71f4f909389f88b33207680": {
          "model_module": "@jupyter-widgets/controls",
          "model_name": "FloatProgressModel",
          "model_module_version": "1.5.0",
          "state": {
            "_view_name": "ProgressView",
            "style": "IPY_MODEL_327875272e154d6498ccdaab29cd34dc",
            "_dom_classes": [],
            "description": "",
            "_model_name": "FloatProgressModel",
            "bar_style": "success",
            "max": 1355256,
            "_view_module": "@jupyter-widgets/controls",
            "_model_module_version": "1.5.0",
            "value": 1355256,
            "_view_count": null,
            "_view_module_version": "1.5.0",
            "orientation": "horizontal",
            "min": 0,
            "description_tooltip": null,
            "_model_module": "@jupyter-widgets/controls",
            "layout": "IPY_MODEL_de50cb77f9c847e8bb9fb300b5a87ffe"
          }
        },
        "76719b0e0bc24eaba132fea0d4500a07": {
          "model_module": "@jupyter-widgets/controls",
          "model_name": "HTMLModel",
          "model_module_version": "1.5.0",
          "state": {
            "_view_name": "HTMLView",
            "style": "IPY_MODEL_f4435685058f4703aed41ccb91d966c1",
            "_dom_classes": [],
            "description": "",
            "_model_name": "HTMLModel",
            "placeholder": "​",
            "_view_module": "@jupyter-widgets/controls",
            "_model_module_version": "1.5.0",
            "value": " 1.36M/1.36M [00:00&lt;00:00, 1.48MB/s]",
            "_view_count": null,
            "_view_module_version": "1.5.0",
            "description_tooltip": null,
            "_model_module": "@jupyter-widgets/controls",
            "layout": "IPY_MODEL_d225c520a89c42bca1bfc3e824555b30"
          }
        },
        "786f821f70b345649ad65d01db8339c1": {
          "model_module": "@jupyter-widgets/controls",
          "model_name": "DescriptionStyleModel",
          "model_module_version": "1.5.0",
          "state": {
            "_view_name": "StyleView",
            "_model_name": "DescriptionStyleModel",
            "description_width": "",
            "_view_module": "@jupyter-widgets/base",
            "_model_module_version": "1.5.0",
            "_view_count": null,
            "_view_module_version": "1.2.0",
            "_model_module": "@jupyter-widgets/controls"
          }
        },
        "e80d0e7dd12a4c38814d7ebd843a8da6": {
          "model_module": "@jupyter-widgets/base",
          "model_name": "LayoutModel",
          "model_module_version": "1.2.0",
          "state": {
            "_view_name": "LayoutView",
            "grid_template_rows": null,
            "right": null,
            "justify_content": null,
            "_view_module": "@jupyter-widgets/base",
            "overflow": null,
            "_model_module_version": "1.2.0",
            "_view_count": null,
            "flex_flow": null,
            "width": null,
            "min_width": null,
            "border": null,
            "align_items": null,
            "bottom": null,
            "_model_module": "@jupyter-widgets/base",
            "top": null,
            "grid_column": null,
            "overflow_y": null,
            "overflow_x": null,
            "grid_auto_flow": null,
            "grid_area": null,
            "grid_template_columns": null,
            "flex": null,
            "_model_name": "LayoutModel",
            "justify_items": null,
            "grid_row": null,
            "max_height": null,
            "align_content": null,
            "visibility": null,
            "align_self": null,
            "height": null,
            "min_height": null,
            "padding": null,
            "grid_auto_rows": null,
            "grid_gap": null,
            "max_width": null,
            "order": null,
            "_view_module_version": "1.2.0",
            "grid_template_areas": null,
            "object_position": null,
            "object_fit": null,
            "grid_auto_columns": null,
            "margin": null,
            "display": null,
            "left": null
          }
        },
        "327875272e154d6498ccdaab29cd34dc": {
          "model_module": "@jupyter-widgets/controls",
          "model_name": "ProgressStyleModel",
          "model_module_version": "1.5.0",
          "state": {
            "_view_name": "StyleView",
            "_model_name": "ProgressStyleModel",
            "description_width": "",
            "_view_module": "@jupyter-widgets/base",
            "_model_module_version": "1.5.0",
            "_view_count": null,
            "_view_module_version": "1.2.0",
            "bar_color": null,
            "_model_module": "@jupyter-widgets/controls"
          }
        },
        "de50cb77f9c847e8bb9fb300b5a87ffe": {
          "model_module": "@jupyter-widgets/base",
          "model_name": "LayoutModel",
          "model_module_version": "1.2.0",
          "state": {
            "_view_name": "LayoutView",
            "grid_template_rows": null,
            "right": null,
            "justify_content": null,
            "_view_module": "@jupyter-widgets/base",
            "overflow": null,
            "_model_module_version": "1.2.0",
            "_view_count": null,
            "flex_flow": null,
            "width": null,
            "min_width": null,
            "border": null,
            "align_items": null,
            "bottom": null,
            "_model_module": "@jupyter-widgets/base",
            "top": null,
            "grid_column": null,
            "overflow_y": null,
            "overflow_x": null,
            "grid_auto_flow": null,
            "grid_area": null,
            "grid_template_columns": null,
            "flex": null,
            "_model_name": "LayoutModel",
            "justify_items": null,
            "grid_row": null,
            "max_height": null,
            "align_content": null,
            "visibility": null,
            "align_self": null,
            "height": null,
            "min_height": null,
            "padding": null,
            "grid_auto_rows": null,
            "grid_gap": null,
            "max_width": null,
            "order": null,
            "_view_module_version": "1.2.0",
            "grid_template_areas": null,
            "object_position": null,
            "object_fit": null,
            "grid_auto_columns": null,
            "margin": null,
            "display": null,
            "left": null
          }
        },
        "f4435685058f4703aed41ccb91d966c1": {
          "model_module": "@jupyter-widgets/controls",
          "model_name": "DescriptionStyleModel",
          "model_module_version": "1.5.0",
          "state": {
            "_view_name": "StyleView",
            "_model_name": "DescriptionStyleModel",
            "description_width": "",
            "_view_module": "@jupyter-widgets/base",
            "_model_module_version": "1.5.0",
            "_view_count": null,
            "_view_module_version": "1.2.0",
            "_model_module": "@jupyter-widgets/controls"
          }
        },
        "d225c520a89c42bca1bfc3e824555b30": {
          "model_module": "@jupyter-widgets/base",
          "model_name": "LayoutModel",
          "model_module_version": "1.2.0",
          "state": {
            "_view_name": "LayoutView",
            "grid_template_rows": null,
            "right": null,
            "justify_content": null,
            "_view_module": "@jupyter-widgets/base",
            "overflow": null,
            "_model_module_version": "1.2.0",
            "_view_count": null,
            "flex_flow": null,
            "width": null,
            "min_width": null,
            "border": null,
            "align_items": null,
            "bottom": null,
            "_model_module": "@jupyter-widgets/base",
            "top": null,
            "grid_column": null,
            "overflow_y": null,
            "overflow_x": null,
            "grid_auto_flow": null,
            "grid_area": null,
            "grid_template_columns": null,
            "flex": null,
            "_model_name": "LayoutModel",
            "justify_items": null,
            "grid_row": null,
            "max_height": null,
            "align_content": null,
            "visibility": null,
            "align_self": null,
            "height": null,
            "min_height": null,
            "padding": null,
            "grid_auto_rows": null,
            "grid_gap": null,
            "max_width": null,
            "order": null,
            "_view_module_version": "1.2.0",
            "grid_template_areas": null,
            "object_position": null,
            "object_fit": null,
            "grid_auto_columns": null,
            "margin": null,
            "display": null,
            "left": null
          }
        }
      }
    }
  },
  "cells": [
    {
      "cell_type": "markdown",
      "metadata": {
        "id": "view-in-github",
        "colab_type": "text"
      },
      "source": [
        "<a href=\"https://colab.research.google.com/github/danielsaggau/LDSI_Project/blob/master/Generating_Legal_Text_with_Distil_GPT2_based_on_raw_Courtlistener_Data.ipynb\" target=\"_parent\"><img src=\"https://colab.research.google.com/assets/colab-badge.svg\" alt=\"Open In Colab\"/></a>"
      ]
    },
    {
      "cell_type": "code",
      "metadata": {
        "colab": {
          "base_uri": "https://localhost:8080/"
        },
        "id": "TLQirwA26_G9",
        "outputId": "c6621e7f-dc15-4c94-8d27-6d0be7f9eb1f"
      },
      "source": [
        "import os\n",
        "if os.environ.get(\"COLAB_GPU\", False):\n",
        "    !pip install -U datasets transformers\n",
        "import warnings\n",
        "import re\n",
        "import random\n",
        "import datasets\n",
        "import transformers\n",
        "import tensorflow as tf\n",
        "import numpy as np\n",
        "import pandas as pd\n",
        "import seaborn as sns\n",
        "from datetime import datetime\n",
        "from transformers import AutoTokenizer, TFGPT2LMHeadModel\n",
        "from datasets import Dataset, load_dataset\n",
        "import re\n",
        "import json\n",
        "import io\n",
        "from transformers import GPT2Tokenizer, TFGPT2LMHeadModel\n",
        "from tensorflow.keras import activations, optimizers, losses\n",
        "from spacy.lang.en import English\n",
        "from spacy.attrs import ORTH\n",
        "from tensorflow import keras"
      ],
      "execution_count": 1,
      "outputs": [
        {
          "output_type": "stream",
          "text": [
            "Collecting datasets\n",
            "  Downloading datasets-1.11.0-py3-none-any.whl (264 kB)\n",
            "\u001b[K     |████████████████████████████████| 264 kB 5.4 MB/s \n",
            "\u001b[?25hCollecting transformers\n",
            "  Downloading transformers-4.9.2-py3-none-any.whl (2.6 MB)\n",
            "\u001b[K     |████████████████████████████████| 2.6 MB 28.2 MB/s \n",
            "\u001b[?25hCollecting huggingface-hub<0.1.0\n",
            "  Downloading huggingface_hub-0.0.16-py3-none-any.whl (50 kB)\n",
            "\u001b[K     |████████████████████████████████| 50 kB 3.3 MB/s \n",
            "\u001b[?25hRequirement already satisfied: requests>=2.19.0 in /usr/local/lib/python3.7/dist-packages (from datasets) (2.23.0)\n",
            "Requirement already satisfied: tqdm>=4.42 in /usr/local/lib/python3.7/dist-packages (from datasets) (4.62.0)\n",
            "Requirement already satisfied: pyarrow!=4.0.0,>=1.0.0 in /usr/local/lib/python3.7/dist-packages (from datasets) (3.0.0)\n",
            "Requirement already satisfied: dill in /usr/local/lib/python3.7/dist-packages (from datasets) (0.3.4)\n",
            "Requirement already satisfied: pandas in /usr/local/lib/python3.7/dist-packages (from datasets) (1.1.5)\n",
            "Requirement already satisfied: packaging in /usr/local/lib/python3.7/dist-packages (from datasets) (21.0)\n",
            "Requirement already satisfied: multiprocess in /usr/local/lib/python3.7/dist-packages (from datasets) (0.70.12.2)\n",
            "Collecting fsspec>=2021.05.0\n",
            "  Downloading fsspec-2021.7.0-py3-none-any.whl (118 kB)\n",
            "\u001b[K     |████████████████████████████████| 118 kB 36.0 MB/s \n",
            "\u001b[?25hCollecting xxhash\n",
            "  Downloading xxhash-2.0.2-cp37-cp37m-manylinux2010_x86_64.whl (243 kB)\n",
            "\u001b[K     |████████████████████████████████| 243 kB 67.9 MB/s \n",
            "\u001b[?25hRequirement already satisfied: importlib-metadata in /usr/local/lib/python3.7/dist-packages (from datasets) (4.6.4)\n",
            "Requirement already satisfied: numpy>=1.17 in /usr/local/lib/python3.7/dist-packages (from datasets) (1.19.5)\n",
            "Requirement already satisfied: typing-extensions in /usr/local/lib/python3.7/dist-packages (from huggingface-hub<0.1.0->datasets) (3.7.4.3)\n",
            "Requirement already satisfied: filelock in /usr/local/lib/python3.7/dist-packages (from huggingface-hub<0.1.0->datasets) (3.0.12)\n",
            "Requirement already satisfied: pyparsing>=2.0.2 in /usr/local/lib/python3.7/dist-packages (from packaging->datasets) (2.4.7)\n",
            "Requirement already satisfied: chardet<4,>=3.0.2 in /usr/local/lib/python3.7/dist-packages (from requests>=2.19.0->datasets) (3.0.4)\n",
            "Requirement already satisfied: idna<3,>=2.5 in /usr/local/lib/python3.7/dist-packages (from requests>=2.19.0->datasets) (2.10)\n",
            "Requirement already satisfied: urllib3!=1.25.0,!=1.25.1,<1.26,>=1.21.1 in /usr/local/lib/python3.7/dist-packages (from requests>=2.19.0->datasets) (1.24.3)\n",
            "Requirement already satisfied: certifi>=2017.4.17 in /usr/local/lib/python3.7/dist-packages (from requests>=2.19.0->datasets) (2021.5.30)\n",
            "Collecting sacremoses\n",
            "  Downloading sacremoses-0.0.45-py3-none-any.whl (895 kB)\n",
            "\u001b[K     |████████████████████████████████| 895 kB 49.6 MB/s \n",
            "\u001b[?25hRequirement already satisfied: regex!=2019.12.17 in /usr/local/lib/python3.7/dist-packages (from transformers) (2019.12.20)\n",
            "Collecting pyyaml>=5.1\n",
            "  Downloading PyYAML-5.4.1-cp37-cp37m-manylinux1_x86_64.whl (636 kB)\n",
            "\u001b[K     |████████████████████████████████| 636 kB 53.2 MB/s \n",
            "\u001b[?25hCollecting huggingface-hub<0.1.0\n",
            "  Downloading huggingface_hub-0.0.12-py3-none-any.whl (37 kB)\n",
            "Collecting tokenizers<0.11,>=0.10.1\n",
            "  Downloading tokenizers-0.10.3-cp37-cp37m-manylinux_2_5_x86_64.manylinux1_x86_64.manylinux_2_12_x86_64.manylinux2010_x86_64.whl (3.3 MB)\n",
            "\u001b[K     |████████████████████████████████| 3.3 MB 17.2 MB/s \n",
            "\u001b[?25hRequirement already satisfied: zipp>=0.5 in /usr/local/lib/python3.7/dist-packages (from importlib-metadata->datasets) (3.5.0)\n",
            "Requirement already satisfied: python-dateutil>=2.7.3 in /usr/local/lib/python3.7/dist-packages (from pandas->datasets) (2.8.2)\n",
            "Requirement already satisfied: pytz>=2017.2 in /usr/local/lib/python3.7/dist-packages (from pandas->datasets) (2018.9)\n",
            "Requirement already satisfied: six>=1.5 in /usr/local/lib/python3.7/dist-packages (from python-dateutil>=2.7.3->pandas->datasets) (1.15.0)\n",
            "Requirement already satisfied: joblib in /usr/local/lib/python3.7/dist-packages (from sacremoses->transformers) (1.0.1)\n",
            "Requirement already satisfied: click in /usr/local/lib/python3.7/dist-packages (from sacremoses->transformers) (7.1.2)\n",
            "Installing collected packages: xxhash, tokenizers, sacremoses, pyyaml, huggingface-hub, fsspec, transformers, datasets\n",
            "  Attempting uninstall: pyyaml\n",
            "    Found existing installation: PyYAML 3.13\n",
            "    Uninstalling PyYAML-3.13:\n",
            "      Successfully uninstalled PyYAML-3.13\n",
            "Successfully installed datasets-1.11.0 fsspec-2021.7.0 huggingface-hub-0.0.12 pyyaml-5.4.1 sacremoses-0.0.45 tokenizers-0.10.3 transformers-4.9.2 xxhash-2.0.2\n"
          ],
          "name": "stdout"
        }
      ]
    },
    {
      "cell_type": "code",
      "metadata": {
        "id": "yPd1vn0Cs_N2"
      },
      "source": [
        "random.seed(1)"
      ],
      "execution_count": null,
      "outputs": []
    },
    {
      "cell_type": "code",
      "metadata": {
        "id": "i8N12aOSVEHE",
        "colab": {
          "base_uri": "https://localhost:8080/"
        },
        "outputId": "2db52cf3-5167-43ff-c4ee-86eaa972c394"
      },
      "source": [
        "pd.options.display.max_colwidth = 6000\n",
        "pd.options.display.max_rows = 400\n",
        "np.set_printoptions(suppress=True)\n",
        "warnings.filterwarnings(\"ignore\")\n",
        "# Log Level and suppress extensive tf warnings\n",
        "os.environ[\"TRANSFORMERS_VERBOSITY\"] = \"info\"\n",
        "tf.compat.v1.logging.set_verbosity(tf.compat.v1.logging.ERROR)\n",
        "print(tf.__version__)\n",
        "print(transformers.__version__)\n",
        "PATH_BASE =\"/content\""
      ],
      "execution_count": 2,
      "outputs": [
        {
          "output_type": "stream",
          "text": [
            "2.6.0\n",
            "4.9.2\n"
          ],
          "name": "stdout"
        }
      ]
    },
    {
      "cell_type": "code",
      "metadata": {
        "id": "2PtcTgVyBiqb"
      },
      "source": [
        "data = pd.read_pickle(\"/Users/danielsaggau/PycharmProjects/pythonProject/data/opinions_data.pkl\")\n",
        "#subset to data that also entails actual opinions; remove page count = 0 / NaN\n",
        "data = data[~data['page_count'].isnull()] # remove empty pages\n",
        "\n",
        "text = data['plain_text']\n",
        "author = data['author']\n",
        "url = data['download_url']\n",
        "html = data['html']\n",
        "id = data['id']\n",
        "\n",
        "text = data['plain_text'] # subset\n",
        "# cleaning text file\n",
        "text = text.replace(\"plain_text\", \" \")\n",
        "text = text.replace(\"  \", \" \")\n",
        "\n",
        "text = text.str.replace(\"\\n\",\" \")\n",
        "text = text.str.replace(\"FILED\", \"\")\n",
        "text = text.str.replace(\"NOT FOR PUBLICATION\", \"\")\n",
        "text = text.str.replace(\"FOR PUBLICATION\", \"\")\n",
        "text = text.str.replace(\"UNITED STATES COURT OF APPEALS\", \"\")\n",
        "text = text.str.replace(\"U.S. COURT OF APPEALS\", \"\")\n",
        "text = text.str.replace(\"U .S. COURT OF APPEALS\", \"\")\n",
        "text = text.str.replace(\"U .S. COURT OF APPEALS\", \"\")\n",
        "text = text.str.replace(\"UNITED STATES OF AMERICA\", \"\")\n",
        "text = text.str.replace(\"\\x0c\",\"\")\n",
        "text = text.str.replace(\"\\uf8fc\",\"\")\n",
        "text = text.str.replace(\"\\uf8fd\",\"\")\n",
        "text = text.str.replace(\"\\uf8fe\", \" \")\n",
        "text = text.str.replace(\"FOR THE NINTH CIRCUIT\", \"\")\n",
        "text = text.str.replace(\"Appeal from the United States District Court\", \"\")\n",
        "text = text.str.replace(\"[*]\",\"\")\n",
        "text = text.str.replace(\"\\*\\*\",\"\")\n",
        "text = text.str.replace(\"\\n\\n\",\"\")\n",
        "text = text.str.replace(\"MOLLY C. DWYER, CLERK\", \" \")\n",
        "text = text.str.replace(\"U .S. C O U R T OF APPE ALS\", \" \")\n",
        "text = text.str.replace(\"  \", \" \")\n",
        "data['length'] = text.str.len()\n",
        "\n",
        "\n",
        "text.to_csv('/Users/danielsaggau/PycharmProjects/pythonProject/data/output.txt', sep='\\n', index=False)"
      ],
      "execution_count": null,
      "outputs": []
    },
    {
      "cell_type": "code",
      "metadata": {
        "id": "KBn_kK5DUOih"
      },
      "source": [
        "# removing xml markup, symbols and starting text\n",
        "text = open(\"/Users/danielsaggau/PycharmProjects/pythonProject/data/output.txt\", \"r\").read()\n",
        "\n",
        "nlp = English()\n",
        "nlp.add_pipe(\"sentencizer\")\n",
        "\n",
        "# adding special tokens\n",
        "nlp.tokenizer.add_special_case('§.', [{ORTH: '§.'}])\n",
        "nlp.tokenizer.add_special_case('Cir.', [{ORTH: 'Cir.'}])\n",
        "nlp.tokenizer.add_special_case('Fed.', [{ORTH: 'Fed.'}])\n",
        "nlp.tokenizer.add_special_case('NO.', [{ORTH: 'NO.'}])\n",
        "nlp.tokenizer.add_special_case('App.', [{ORTH: 'App.'}])\n",
        "nlp.tokenizer.add_special_case('Civ.', [{ORTH: 'Civ.'}])\n",
        "nlp.tokenizer.add_special_case('No.', [{ORTH: 'No.'}])\n",
        "nlp.tokenizer.add_special_case('Dkt.', [{ORTH: 'Dkt.'}])\n",
        "nlp.tokenizer.add_special_case('et al.', [{ORTH: 'et al.'}])\n",
        "nlp.tokenizer.add_special_case('D.C.', [{ORTH: 'D.C.'}])\n",
        "nlp.tokenizer.add_special_case('No.', [{ORTH: 'No.'}])\n",
        "nlp.tokenizer.add_special_case('Nos.', [{ORTH: 'Nos.'}])\n",
        "nlp.tokenizer.add_special_case('Fed.', [{ORTH: 'Fed.'}])\n",
        "nlp.tokenizer.add_special_case('U.S.C.', [{ORTH: 'U.S.C.'}])\n",
        "nlp.tokenizer.add_special_case(' F.', [{ORTH: 'F.'}])\n",
        "nlp.tokenizer.add_special_case(' R.', [{ORTH: 'R.'}])\n",
        "nlp.tokenizer.add_special_case(' P.', [{ORTH: 'P.'}])\n",
        "nlp.tokenizer.add_special_case(' n.', [{ORTH: ' n.'}])\n",
        "nlp.tokenizer.add_special_case(' v.', [{ORTH: ' v.'}]) # versus\n",
        "nlp.tokenizer.add_special_case('Univ.', [{ORTH: 'Univ.'}])\n",
        "nlp.tokenizer.add_special_case('Jr.', [{ORTH: 'Jr.'}])\n",
        "nlp.tokenizer.add_special_case('I.N.S.', [{ORTH: 'I.N.S.'}])\n",
        "nlp.tokenizer.add_special_case('OR.', [{ORTH: 'OR.'}])\n",
        "nlp.tokenizer.add_special_case('REV.', [{ORTH: 'REV.'}])\n",
        "nlp.tokenizer.add_special_case('STAT.', [{ORTH: 'STAT.'}])\n",
        "doc = nlp(text[:1000000])\n",
        "sentences = list(sents.text for sents in doc.sents) # ensure that we get strings and not spans"
      ],
      "execution_count": null,
      "outputs": []
    },
    {
      "cell_type": "code",
      "metadata": {
        "id": "bvNz8PG_UZKa"
      },
      "source": [
        "batch = []\n",
        "for sent in sentences:\n",
        "    sent_new = \" \".join([sent, '<eos>'])\n",
        "    batch.append(sent_new)"
      ],
      "execution_count": null,
      "outputs": []
    },
    {
      "cell_type": "markdown",
      "metadata": {
        "id": "0dHUk_zypzx0"
      },
      "source": [
        "Test and sanity check"
      ]
    },
    {
      "cell_type": "code",
      "metadata": {
        "id": "F5tzJsC7ptir"
      },
      "source": [
        "batch[:100]"
      ],
      "execution_count": null,
      "outputs": []
    },
    {
      "cell_type": "code",
      "metadata": {
        "id": "tv7tL6rnp3Dw"
      },
      "source": [
        "tokenizer = GPT2Tokenizer.from_pretrained(\"gpt2\")\n",
        "RE_SPLITTER = '<eos>'\n",
        "\n",
        "MODEL_MAX_LEN = 256 # needs to be corrected\n",
        "\n",
        "sent= []"
      ],
      "execution_count": null,
      "outputs": []
    },
    {
      "cell_type": "code",
      "metadata": {
        "id": "c7CGvU8Dpbep"
      },
      "source": [
        "# code for this chunk stems from the huggingface forum\n",
        "def chunk_text(text, num_tok):\n",
        "    text_sent = \\\n",
        "        [sent.strip() + '.' for sent in re.split(RE_SPLITTER, text) if len(sent) > 1]\n",
        "\n",
        "    # calculate number of tokens per sentence\n",
        "    num_tok_sent = [len(tokenizer.tokenize(sent)) for sent in text_sent]\n",
        "\n",
        "    # calculate chunk dimension to fit into model\n",
        "    n = int(np.ceil(num_tok / MODEL_MAX_LEN))\n",
        "    len_chunk = int(num_tok / n)\n",
        "\n",
        "    # get a more uniform splitting to avoid splits\n",
        "    # which are too short at the end\n",
        "    if len_chunk + 50 > MODEL_MAX_LEN:\n",
        "        len_chunk = int(num_tok / (n + 1))\n",
        "\n",
        "    len_curr = 0\n",
        "    text_curr = []\n",
        "    text_chunk = []\n",
        "    for te, len_sent in zip(text_sent, num_tok_sent):\n",
        "\n",
        "        if len_curr + len_sent < len_chunk:\n",
        "            text_curr.append(te)\n",
        "            len_curr += len_sent\n",
        "\n",
        "        elif len_curr + len_sent >= MODEL_MAX_LEN:\n",
        "            text_chunk.append(text_curr)\n",
        "\n",
        "            text_curr = [te]\n",
        "            len_curr = len_sent\n",
        "\n",
        "        else:  # >= len_chunk && < MODEL_MAX_LEN\n",
        "            text_curr.append(te)\n",
        "            text_chunk.append(text_curr)\n",
        "\n",
        "            text_curr = []\n",
        "            len_curr = 0\n",
        "\n",
        "    if len_curr > 0:\n",
        "        text_chunk.append(text_curr)\n",
        "\n",
        "    return text_chunk"
      ],
      "execution_count": null,
      "outputs": []
    },
    {
      "cell_type": "code",
      "metadata": {
        "id": "r_3dm0xkp5En"
      },
      "source": [
        "joined = ''.join(b)\n",
        "chunky = chunk_text(joined, 256)\n",
        "\n",
        "flat_list = [''.join(x) for x in chunky]\n",
        "\n",
        "#with open(\"data/chunks.txt\", \"r\") as fp:\n",
        "#    b = json.load(fp)\n",
        "with open(\"data/sentence_chunks.json\", \"w\") as fp:\n",
        "#    json.dump(chunky, fp)\n",
        "with open(\"data/flat_list.json\", \"w\") as fp:\n",
        "    json.dump(flat_list, fp)"
      ],
      "execution_count": null,
      "outputs": []
    },
    {
      "cell_type": "code",
      "metadata": {
        "colab": {
          "base_uri": "https://localhost:8080/"
        },
        "id": "9aYbprMv9CCi",
        "outputId": "bb9ce7da-5b1f-416d-a58a-bb1557449422"
      },
      "source": [
        "# Try to run on TPU if available\n",
        "# Detect hardware, return appropriate distribution strategy\n",
        "try:\n",
        "    tpu = tf.distribute.cluster_resolver.TPUClusterResolver()  # TPU detection\n",
        "    print(\"Running on TPU \", tpu.cluster_spec().as_dict()[\"worker\"])\n",
        "except ValueError:\n",
        "    tpu = None\n",
        "if tpu:\n",
        "    tf.config.experimental_connect_to_cluster(tpu)\n",
        "    tf.tpu.experimental.initialize_tpu_system(tpu)\n",
        "    strategy = tf.distribute.TPUStrategy(tpu)\n",
        "else:\n",
        "    strategy = tf.distribute.get_strategy()\n",
        "print(\"REPLICAS: \", strategy.num_replicas_in_sync)"
      ],
      "execution_count": 3,
      "outputs": [
        {
          "output_type": "stream",
          "text": [
            "INFO:absl:Entering into master device scope: /job:worker/replica:0/task:0/device:CPU:0\n"
          ],
          "name": "stderr"
        },
        {
          "output_type": "stream",
          "text": [
            "Running on TPU  ['10.15.133.178:8470']\n",
            "REPLICAS:  8\n"
          ],
          "name": "stdout"
        }
      ]
    },
    {
      "cell_type": "code",
      "metadata": {
        "id": "0hpahHHg6Zpi"
      },
      "source": [
        "data = pd.read_json('/content/flat_list.json')\n",
        "data.to_csv(\"/content/data.csv\", index=False)"
      ],
      "execution_count": 5,
      "outputs": []
    },
    {
      "cell_type": "code",
      "metadata": {
        "colab": {
          "base_uri": "https://localhost:8080/",
          "height": 1000
        },
        "id": "bWBOHeba-I8F",
        "outputId": "c99ae74b-5e32-43cf-e504-44a435a48b4b"
      },
      "source": [
        "data[80:100]"
      ],
      "execution_count": 6,
      "outputs": [
        {
          "output_type": "execute_result",
          "data": {
            "text/html": [
              "<div>\n",
              "<style scoped>\n",
              "    .dataframe tbody tr th:only-of-type {\n",
              "        vertical-align: middle;\n",
              "    }\n",
              "\n",
              "    .dataframe tbody tr th {\n",
              "        vertical-align: top;\n",
              "    }\n",
              "\n",
              "    .dataframe thead th {\n",
              "        text-align: right;\n",
              "    }\n",
              "</style>\n",
              "<table border=\"1\" class=\"dataframe\">\n",
              "  <thead>\n",
              "    <tr style=\"text-align: right;\">\n",
              "      <th></th>\n",
              "      <th>0</th>\n",
              "    </tr>\n",
              "  </thead>\n",
              "  <tbody>\n",
              "    <tr>\n",
              "      <th>80</th>\n",
              "      <td>see also Cook, 593 F.3d at 817–18 (holding that the prosecutor’s justification for striking a juror was “not clearly pretextual” because “it is plausible that daily contact with lawyers would shape a person’s perception of a trial”)..Concern that a juror might have reason to sympathize or identify with the defendant, regardless of whether the identifying feature relates to the merits of the case, is “relevant” under Batson..See, e.g., Rice, 546 U.S. at 341 (upholding age, single status, and lack of ties to the community as valid bases to exclude a juror in a drug case because they might make the juror more sympathetic to the defendant);.</td>\n",
              "    </tr>\n",
              "    <tr>\n",
              "      <th>81</th>\n",
              "      <td>Williams v. Rhoades, 354 F.3d 1101, 1109–10 (9th Cir. 2004) (fear that a juror might identify with the defendant because both had young sons was a valid, race- neutral reason to exercise a peremptory strike);.see also United States v. Brown, 560 F.3d 754, 763 (8th Cir. 2009) (upholding the strike of a prospective juror from a murder trial because both the juror and the defendant received public assistance and the juror might identify with the defendant on that basis)..Thus, in this case, the prosecutor’s fear that Juror #4856 might identify with Jamerson because both suffered from a physical ailment qualifies as relevant in the sense Batson contemplates..</td>\n",
              "    </tr>\n",
              "    <tr>\n",
              "      <th>82</th>\n",
              "      <td>JAMERSON V ..RUNNELS       19  The magistrate judge’s related concern about “the record [being] devoid of anything suggesting that suffering from hepatitis would make [the juror] inherently sympathetic toward petitioner,” failed to take into account the proper burden of proof and to afford appropriate deference to the state courts..The prosecutor need not establish with evidence on the record that her voir dire instincts are objectively correct;.instead, the defendant must show that the prosecutor’s reasons are not subjectively genuine..Rice, 546 U.S. at 338 (citing Purkett, 514 U.S. at 768);.</td>\n",
              "    </tr>\n",
              "    <tr>\n",
              "      <th>83</th>\n",
              "      <td>Kesser, 465 F.3d at 359 (quoting Hernandez, 500 U.S. at 365)..Though hepatitis and a leg disability are not identical—or even closely related—medical conditions, both are permanent physical ailments that impact a person’s everyday life in a significant way..The state appellate court was not unreasonable to believe that the prosecutor genuinely saw these permanent conditions as a shared experience between the defendant and the juror, which might give rise to empathy and bias, especially when viewed through our doubly deferential lens..Second, the magistrate judge believed that “[t]he fact that the prosecutor did not ask [the juror] any questions about his illness confirms that her reason was pretextual.”.</td>\n",
              "    </tr>\n",
              "    <tr>\n",
              "      <th>84</th>\n",
              "      <td>An examination of the record belies this conclusion..Throughout the entire voir dire process, the court—and not the attorneys—conducted the questioning of the jurors..The prosecutor’s failure to question a juror cannot be held against her when attorney questioning did not occur during voir dire.6  6  The magistrate judge proffered this same reason as one basis for rejecting the prosecutor’s justifications for striking Juror #0970, Juror #0619, and Juror #3117D, as well..W e conclude that he was incorrect in considering this as evidence of discriminatory intent in each instance..</td>\n",
              "    </tr>\n",
              "    <tr>\n",
              "      <th>85</th>\n",
              "      <td>20     JAMERSON V ..RUNNELS See Miller-El II, 545 U.S. at 243–44 (finding that a prosecutor’s failure to question a juror further was evidence of a discriminatory motive where the prosecutor was personally questioning the jurors at length during voir dire)..In sum, even though the prosecutor’s reason for excusing the juror may not have been compelling and “[r]easonable minds reviewing the record might disagree about the prosecutor’s credibility,” there is not sufficient evidence to “supersede the trial court’s credibility determination” under our doubly deferential standard of review..</td>\n",
              "    </tr>\n",
              "    <tr>\n",
              "      <th>86</th>\n",
              "      <td>Rice, 546 U.S. at 341–42..Thus, we conclude that the state was not unreasonable in finding that the prosecutor’s justification for challenging Juror #4856 was genuine..2  Juror #0970, a black female, was a married social services employee with two adult daughters..In the 1980s, her brother was convicted of arson and possession of drugs..He served time for those offenses..Although she had not attended any of the proceedings, she believed that her brother was treated “fairly.”.She also indicated that she “had a brother [who] was killed in San Bernardino in 1989.”.</td>\n",
              "    </tr>\n",
              "    <tr>\n",
              "      <th>87</th>\n",
              "      <td>No one was arrested or charged with the crime..In response to a question about whether the investigation was handled adequately, she stated, “Adequately..They never found any witnesses, and I am not sure exactly what occurred.”.The prosecutor exercised her second peremptory challenge to dismiss this juror..When asked to explain the reason for her challenge, the prosecutor stated:.JAMERSON V ..RUNNELS      21   She also has brothers serving time in prison   and another brother killed in 1991..No charge   because nobody was found..For my   witnesses, I felt she may have some   reservation about the police and how they   were actively or not actively looking because   this case deals with somewhat locating   witnesses..</td>\n",
              "    </tr>\n",
              "    <tr>\n",
              "      <th>88</th>\n",
              "      <td>I would have reservations about   her..As with Juror #4856, the trial court found the prosecutor’s stated reasons “valid” and “independent.”.Based in large part on the credibility finding of the trial court, the court of appeal affirmed..The prosecutor proffered two reasons for striking Juror #0970: (.1) she had a brother who served time in prison for arson and drug crimes, and (2) her other brother was the victim of an unsolved murder..Comparing this juror to other jurors who shared these same characteristics, the State argues that comparative analysis does not undermine the rationale that the prosecutor proffered, contrary to the conclusion of the magistrate judge..</td>\n",
              "    </tr>\n",
              "    <tr>\n",
              "      <th>89</th>\n",
              "      <td>The State first argues that comparative analysis does not undercut the prosecutor’s reliance on the conviction of this juror’s brother..Jamerson identifies three non-black jurors who were allowed to remain on the panel and who also knew someone that was associated with a crime—Juror #2918, Juror #6375, and Juror #4241..He asserts that, in light of the prosecutor’s failure to strike these jurors, comparative analysis does undermine the prosecutor’s first stated justification..Upon close review, however, it appears that Jamerson cast his comparative net too broadly..The 22    JAMERSON V ..</td>\n",
              "    </tr>\n",
              "    <tr>\n",
              "      <th>90</th>\n",
              "      <td>RUNNELS purported parallels between these jurors and Juror #0970 provide, at best, weak evidence of a discriminatory motive, insufficient to render the state court’s conclusions unreasonable..At the outset, we note that Juror #4241 cannot properly be classified as similarly situated to Juror #0970 because the prosecutor was unaware of his sister’s conviction..After a new group of jurors—including Juror #4241—answered a set of form questions, the prosecutor requested a sidebar..The following dialogue then took place:.[Prosecutor]:.I think I missed some  information on juror [#4241]..</td>\n",
              "    </tr>\n",
              "    <tr>\n",
              "      <th>91</th>\n",
              "      <td>Did he say his  sister was arrested?.Court:.Say what?.[Prosecutor]:.Did he say his sister was  arrested?.[Defense]:.No. He said his house was  burglarized and he went to court to testify..[Prosecutor]:.Oh, okay..So he never said  anything about drug possession?.I don’t  know where I picked that up..Court:.Number [4241]?.No.   [Prosecutor]:.Okay..Because the prosecutor was assured that Juror #4241’s sister had not been arrested for a crime, he was not similarly     JAMERSON V ..</td>\n",
              "    </tr>\n",
              "    <tr>\n",
              "      <th>92</th>\n",
              "      <td>RUNNELS      23 situated to Juror #0970 from the prosecutor’s perspective..Failure to strike him, therefore, cannot be considered evidence of a discriminatory purpose..Cf..Miller El II, 545 U.S. at 242–45 (discrediting the prosecutor’s proffered explanation where written responses of white jurors allowed to serve were the same as written responses of a black juror who was struck)..Indeed, in calling a sidebar to clarify Juror #4241’s response about his sister’s conviction, the prosecutor actually increased the credibility of her justification for striking Juror #0970, as she showed a special interest in the prior conviction of a non-black juror’s close relative..</td>\n",
              "    </tr>\n",
              "    <tr>\n",
              "      <th>93</th>\n",
              "      <td>Cf..id..at 244 (holding that a prosecutor “would have cleared up any misunderstanding by asking further questions” if he truly considered a race-neutral characteristic grounds for a peremptory strike)..Turning to Jurors #2918 and #6375, a complete side-by- side comparison shows that the parallels between these jurors and Juror #0970 are relatively weak and offer little evidence of a discriminatory motive..The prosecutor consistently struck both black and non-black jurors who, like Juror #0970, had close relatives who committed serious crimes and were incarcerated for them..Before striking Juror #0970, the prosecutor struck Juror #6309, a non-black woman whose son was serving time in prison for kidnaping and robbery..</td>\n",
              "    </tr>\n",
              "    <tr>\n",
              "      <th>94</th>\n",
              "      <td>Later, the prosecutor also struck Juror #6207, a non-black woman whose husband was incarcerated and about to be tried for felony evading..These non-black jurors’ situations are more analogous to the situation of Juror #0970 than Juror #6375’s, whose “daughter ha[d] a friend who is incarcerated,” and Juror #2918’s, whose brother was merely arrested for a possible DUI six or seven years prior..24     JAMERSON V ..RUNNELS  By exercising peremptory strikes against non-black jurors who had close relatives incarcerated, therefore, the prosecutor evidenced a sincere concern for the same problematic trait she identified in Juror #0970;.</td>\n",
              "    </tr>\n",
              "    <tr>\n",
              "      <th>95</th>\n",
              "      <td>her failure to exercise peremptory strikes against other non-black jurors who shared weak parallels with this juror, although prompting us to scrutinize her actions more carefully, ultimately does little to undermine the stated justification..See Cook, 593 F.3d at 817..It certainly does not convince us that the state court was unreasonable in crediting the prosecutor’s rationale under our doubly deferential standard of review..Moving to the prosecutor’s second stated reason for striking this juror—that her other brother’s murder was never solved—the State argues that the California courts were reasonable in crediting this rationale..</td>\n",
              "    </tr>\n",
              "    <tr>\n",
              "      <th>96</th>\n",
              "      <td>Jamerson counters by again identifying three non-black jurors who were allowed to serve despite purportedly sharing the same background:.Juror #2918, Juror #6375, and Juror #3136..Again, however, a full comparative analysis reveals little to undercut the state court’s conclusion that the prosecutor was applying genuine, race-neutral standards..During voir dire, the prosecutor repeatedly challenged jurors of all races who had an experience with an unsolved violent crime, but retained jurors who were the victims of lesser crimes..This pattern is first evident in the prosecutor’s disparate treatment of Juror #0970 and Juror #6824, both black prospective jurors..</td>\n",
              "    </tr>\n",
              "    <tr>\n",
              "      <th>97</th>\n",
              "      <td>While the prosecutor struck Juror #0970, whose brother’s murder had not been solved, the prosecutor accepted Juror #6824, who was the victim of an unsolved home burglary..The prosecutor’s treatment of non-black jurors followed the same trend..The prosecutor struck Juror #3605, a white juror whose friend was shot during an unsolved robbery in Compton, and Juror #2333, a white juror who was the victim      JAMERSON V ..RUNNELS       25 of an unsolved robbery at gunpoint..But the prosecutor accepted Juror #3136, who had $200 stolen in New Orleans, and Juror #2918, who was the victim of a car theft and home burglary..</td>\n",
              "    </tr>\n",
              "    <tr>\n",
              "      <th>98</th>\n",
              "      <td>Even more telling, unlike any of the other jurors, Juror #0970 specifically volunteered that the local police “never found any witnesses” to her brother’s murder—raising the exact concern of the prosecutor in rooting out victims of unsolved crimes..Although the prosecutor’s failure to strike Juror #3136 arouses some suspicion about her reasoning, as Juror #3136 expressed a stronger feeling that law enforcement was “pretty lax” when investigating his theft, the relevant similarities between these jurors, and thus the evidence of a discriminatory motive, are faint as Juror #3136 emphasized that the New Orleans police department conducted the investigation into his theft and that locally “it would be handled differently.”.</td>\n",
              "    </tr>\n",
              "    <tr>\n",
              "      <th>99</th>\n",
              "      <td>In short, even though jurors need not be “exactly identical” to infer pretext from a comparative pattern of strikes, Miller-El II, 545 U.S. at 247 n.6, the evidence in this instance of weak parallels between Juror #0970 and other jurors who remained on the panel does not convince us that the state court was unreasonable in finding the prosecutor’s justifications believable..Consequently, under our doubly deferential standard of review, Jamerson’s challenge to Juror #0970 does not warrant habeas relief.7 See Rice, 546 U.S. at  7 The magistrate judge’s finding of discriminatory intent rested on two other grounds, neither of which is sufficient to raise an inference of discriminatory motive..</td>\n",
              "    </tr>\n",
              "  </tbody>\n",
              "</table>\n",
              "</div>"
            ],
            "text/plain": [
              "                                                                                                                                                                                                                                                                                                                                                                                                                                                                                                                                                                                                                                                                                                                                                            0\n",
              "80                                                                                      see also Cook, 593 F.3d at 817–18 (holding that the prosecutor’s justification for striking a juror was “not clearly pretextual” because “it is plausible that daily contact with lawyers would shape a person’s perception of a trial”)..Concern that a juror might have reason to sympathize or identify with the defendant, regardless of whether the identifying feature relates to the merits of the case, is “relevant” under Batson..See, e.g., Rice, 546 U.S. at 341 (upholding age, single status, and lack of ties to the community as valid bases to exclude a juror in a drug case because they might make the juror more sympathetic to the defendant);.\n",
              "81                                                                    Williams v. Rhoades, 354 F.3d 1101, 1109–10 (9th Cir. 2004) (fear that a juror might identify with the defendant because both had young sons was a valid, race- neutral reason to exercise a peremptory strike);.see also United States v. Brown, 560 F.3d 754, 763 (8th Cir. 2009) (upholding the strike of a prospective juror from a murder trial because both the juror and the defendant received public assistance and the juror might identify with the defendant on that basis)..Thus, in this case, the prosecutor’s fear that Juror #4856 might identify with Jamerson because both suffered from a physical ailment qualifies as relevant in the sense Batson contemplates..\n",
              "82                                                                                                                                   JAMERSON V ..RUNNELS       19  The magistrate judge’s related concern about “the record [being] devoid of anything suggesting that suffering from hepatitis would make [the juror] inherently sympathetic toward petitioner,” failed to take into account the proper burden of proof and to afford appropriate deference to the state courts..The prosecutor need not establish with evidence on the record that her voir dire instincts are objectively correct;.instead, the defendant must show that the prosecutor’s reasons are not subjectively genuine..Rice, 546 U.S. at 338 (citing Purkett, 514 U.S. at 768);.\n",
              "83                  Kesser, 465 F.3d at 359 (quoting Hernandez, 500 U.S. at 365)..Though hepatitis and a leg disability are not identical—or even closely related—medical conditions, both are permanent physical ailments that impact a person’s everyday life in a significant way..The state appellate court was not unreasonable to believe that the prosecutor genuinely saw these permanent conditions as a shared experience between the defendant and the juror, which might give rise to empathy and bias, especially when viewed through our doubly deferential lens..Second, the magistrate judge believed that “[t]he fact that the prosecutor did not ask [the juror] any questions about his illness confirms that her reason was pretextual.”.\n",
              "84                                                                                                                                                  An examination of the record belies this conclusion..Throughout the entire voir dire process, the court—and not the attorneys—conducted the questioning of the jurors..The prosecutor’s failure to question a juror cannot be held against her when attorney questioning did not occur during voir dire.6  6  The magistrate judge proffered this same reason as one basis for rejecting the prosecutor’s justifications for striking Juror #0970, Juror #0619, and Juror #3117D, as well..W e conclude that he was incorrect in considering this as evidence of discriminatory intent in each instance..\n",
              "85                                                                                                                                           20     JAMERSON V ..RUNNELS See Miller-El II, 545 U.S. at 243–44 (finding that a prosecutor’s failure to question a juror further was evidence of a discriminatory motive where the prosecutor was personally questioning the jurors at length during voir dire)..In sum, even though the prosecutor’s reason for excusing the juror may not have been compelling and “[r]easonable minds reviewing the record might disagree about the prosecutor’s credibility,” there is not sufficient evidence to “supersede the trial court’s credibility determination” under our doubly deferential standard of review..\n",
              "86                                                                                                                                                                   Rice, 546 U.S. at 341–42..Thus, we conclude that the state was not unreasonable in finding that the prosecutor’s justification for challenging Juror #4856 was genuine..2  Juror #0970, a black female, was a married social services employee with two adult daughters..In the 1980s, her brother was convicted of arson and possession of drugs..He served time for those offenses..Although she had not attended any of the proceedings, she believed that her brother was treated “fairly.”.She also indicated that she “had a brother [who] was killed in San Bernardino in 1989.”.\n",
              "87     No one was arrested or charged with the crime..In response to a question about whether the investigation was handled adequately, she stated, “Adequately..They never found any witnesses, and I am not sure exactly what occurred.”.The prosecutor exercised her second peremptory challenge to dismiss this juror..When asked to explain the reason for her challenge, the prosecutor stated:.JAMERSON V ..RUNNELS      21   She also has brothers serving time in prison   and another brother killed in 1991..No charge   because nobody was found..For my   witnesses, I felt she may have some   reservation about the police and how they   were actively or not actively looking because   this case deals with somewhat locating   witnesses..\n",
              "88                                                       I would have reservations about   her..As with Juror #4856, the trial court found the prosecutor’s stated reasons “valid” and “independent.”.Based in large part on the credibility finding of the trial court, the court of appeal affirmed..The prosecutor proffered two reasons for striking Juror #0970: (.1) she had a brother who served time in prison for arson and drug crimes, and (2) her other brother was the victim of an unsolved murder..Comparing this juror to other jurors who shared these same characteristics, the State argues that comparative analysis does not undermine the rationale that the prosecutor proffered, contrary to the conclusion of the magistrate judge..\n",
              "89                                                                                                                                         The State first argues that comparative analysis does not undercut the prosecutor’s reliance on the conviction of this juror’s brother..Jamerson identifies three non-black jurors who were allowed to remain on the panel and who also knew someone that was associated with a crime—Juror #2918, Juror #6375, and Juror #4241..He asserts that, in light of the prosecutor’s failure to strike these jurors, comparative analysis does undermine the prosecutor’s first stated justification..Upon close review, however, it appears that Jamerson cast his comparative net too broadly..The 22    JAMERSON V ..\n",
              "90                                                                                                                                              RUNNELS purported parallels between these jurors and Juror #0970 provide, at best, weak evidence of a discriminatory motive, insufficient to render the state court’s conclusions unreasonable..At the outset, we note that Juror #4241 cannot properly be classified as similarly situated to Juror #0970 because the prosecutor was unaware of his sister’s conviction..After a new group of jurors—including Juror #4241—answered a set of form questions, the prosecutor requested a sidebar..The following dialogue then took place:.[Prosecutor]:.I think I missed some  information on juror [#4241]..\n",
              "91                                                                                                                                                                                                                                                         Did he say his  sister was arrested?.Court:.Say what?.[Prosecutor]:.Did he say his sister was  arrested?.[Defense]:.No. He said his house was  burglarized and he went to court to testify..[Prosecutor]:.Oh, okay..So he never said  anything about drug possession?.I don’t  know where I picked that up..Court:.Number [4241]?.No.   [Prosecutor]:.Okay..Because the prosecutor was assured that Juror #4241’s sister had not been arrested for a crime, he was not similarly     JAMERSON V ..\n",
              "92                                                            RUNNELS      23 situated to Juror #0970 from the prosecutor’s perspective..Failure to strike him, therefore, cannot be considered evidence of a discriminatory purpose..Cf..Miller El II, 545 U.S. at 242–45 (discrediting the prosecutor’s proffered explanation where written responses of white jurors allowed to serve were the same as written responses of a black juror who was struck)..Indeed, in calling a sidebar to clarify Juror #4241’s response about his sister’s conviction, the prosecutor actually increased the credibility of her justification for striking Juror #0970, as she showed a special interest in the prior conviction of a non-black juror’s close relative..\n",
              "93     Cf..id..at 244 (holding that a prosecutor “would have cleared up any misunderstanding by asking further questions” if he truly considered a race-neutral characteristic grounds for a peremptory strike)..Turning to Jurors #2918 and #6375, a complete side-by- side comparison shows that the parallels between these jurors and Juror #0970 are relatively weak and offer little evidence of a discriminatory motive..The prosecutor consistently struck both black and non-black jurors who, like Juror #0970, had close relatives who committed serious crimes and were incarcerated for them..Before striking Juror #0970, the prosecutor struck Juror #6309, a non-black woman whose son was serving time in prison for kidnaping and robbery..\n",
              "94                                                                                               Later, the prosecutor also struck Juror #6207, a non-black woman whose husband was incarcerated and about to be tried for felony evading..These non-black jurors’ situations are more analogous to the situation of Juror #0970 than Juror #6375’s, whose “daughter ha[d] a friend who is incarcerated,” and Juror #2918’s, whose brother was merely arrested for a possible DUI six or seven years prior..24     JAMERSON V ..RUNNELS  By exercising peremptory strikes against non-black jurors who had close relatives incarcerated, therefore, the prosecutor evidenced a sincere concern for the same problematic trait she identified in Juror #0970;.\n",
              "95                                                                                          her failure to exercise peremptory strikes against other non-black jurors who shared weak parallels with this juror, although prompting us to scrutinize her actions more carefully, ultimately does little to undermine the stated justification..See Cook, 593 F.3d at 817..It certainly does not convince us that the state court was unreasonable in crediting the prosecutor’s rationale under our doubly deferential standard of review..Moving to the prosecutor’s second stated reason for striking this juror—that her other brother’s murder was never solved—the State argues that the California courts were reasonable in crediting this rationale..\n",
              "96                                                                Jamerson counters by again identifying three non-black jurors who were allowed to serve despite purportedly sharing the same background:.Juror #2918, Juror #6375, and Juror #3136..Again, however, a full comparative analysis reveals little to undercut the state court’s conclusion that the prosecutor was applying genuine, race-neutral standards..During voir dire, the prosecutor repeatedly challenged jurors of all races who had an experience with an unsolved violent crime, but retained jurors who were the victims of lesser crimes..This pattern is first evident in the prosecutor’s disparate treatment of Juror #0970 and Juror #6824, both black prospective jurors..\n",
              "97                                                                                                              While the prosecutor struck Juror #0970, whose brother’s murder had not been solved, the prosecutor accepted Juror #6824, who was the victim of an unsolved home burglary..The prosecutor’s treatment of non-black jurors followed the same trend..The prosecutor struck Juror #3605, a white juror whose friend was shot during an unsolved robbery in Compton, and Juror #2333, a white juror who was the victim      JAMERSON V ..RUNNELS       25 of an unsolved robbery at gunpoint..But the prosecutor accepted Juror #3136, who had $200 stolen in New Orleans, and Juror #2918, who was the victim of a car theft and home burglary..\n",
              "98  Even more telling, unlike any of the other jurors, Juror #0970 specifically volunteered that the local police “never found any witnesses” to her brother’s murder—raising the exact concern of the prosecutor in rooting out victims of unsolved crimes..Although the prosecutor’s failure to strike Juror #3136 arouses some suspicion about her reasoning, as Juror #3136 expressed a stronger feeling that law enforcement was “pretty lax” when investigating his theft, the relevant similarities between these jurors, and thus the evidence of a discriminatory motive, are faint as Juror #3136 emphasized that the New Orleans police department conducted the investigation into his theft and that locally “it would be handled differently.”.\n",
              "99                                 In short, even though jurors need not be “exactly identical” to infer pretext from a comparative pattern of strikes, Miller-El II, 545 U.S. at 247 n.6, the evidence in this instance of weak parallels between Juror #0970 and other jurors who remained on the panel does not convince us that the state court was unreasonable in finding the prosecutor’s justifications believable..Consequently, under our doubly deferential standard of review, Jamerson’s challenge to Juror #0970 does not warrant habeas relief.7 See Rice, 546 U.S. at  7 The magistrate judge’s finding of discriminatory intent rested on two other grounds, neither of which is sufficient to raise an inference of discriminatory motive.."
            ]
          },
          "metadata": {},
          "execution_count": 6
        }
      ]
    },
    {
      "cell_type": "code",
      "metadata": {
        "colab": {
          "base_uri": "https://localhost:8080/"
        },
        "id": "LJt6sbRY8nbr",
        "outputId": "11d793b4-5c47-4d9d-e357-e8e06f4094b8"
      },
      "source": [
        "data = pd.read_csv(\"/content/data.csv\")\n",
        "data = Dataset.from_pandas(data)\n",
        "data.rename_column(\"0\", \"text\")"
      ],
      "execution_count": 7,
      "outputs": [
        {
          "output_type": "execute_result",
          "data": {
            "text/plain": [
              "Dataset({\n",
              "    features: ['text'],\n",
              "    num_rows: 1668\n",
              "})"
            ]
          },
          "metadata": {},
          "execution_count": 7
        }
      ]
    },
    {
      "cell_type": "markdown",
      "metadata": {
        "id": "3Hclu74T38Mk"
      },
      "source": [
        "# tokenizer\n",
        "We need to instantiate the tokenizer and also add some special tokens, as done with spacy. "
      ]
    },
    {
      "cell_type": "code",
      "metadata": {
        "colab": {
          "base_uri": "https://localhost:8080/",
          "height": 177,
          "referenced_widgets": [
            "6a7de2f60fc347db84cec8321233e91d",
            "2ea1864e5f834f19ba01bf854cf9d61f",
            "be645a1205ca494b944b83a13d0e3a6b",
            "9495883025224cf597d05b2bb3d6f191",
            "ea46832c9c5049d6a2a6263d8934aada",
            "af23c2a9e49a46f3b44f227480224bbc",
            "d2c5365618d44424a97322ada7c396b4",
            "453f4e5d52664f0f85abe05cb073bb3f",
            "b83a2964c7404161a6167291a10986a3",
            "10b71aeac5194d16bda60b61ef233619",
            "99d2501178264283a16f8efe63e0e118",
            "ee547fc1760041169d7634150cac08ef",
            "872cee68e3b4463bbf0734ae644a98e8",
            "b68ef8c9564c408cad02ebe471d34ede",
            "7ad8225f788a487a936577e77151ad77",
            "54e74c3646644969b172c8aa42514d62",
            "6ce3a2a0d7a64cafbd93cd61ff829316",
            "c1e7a80ec285463787f9e0bd5820aaf6",
            "3112138ae8b34e949d82a9e6d9b53ebf",
            "0f20d6dcb5f24f33b522ad5121943b18",
            "a41e96dbe5074fbab1e53d27ebf71307",
            "2521582cabcb45aea0f4d0d314856a9c",
            "bab2bad1807a4664a03fbc1dd2415a9a",
            "181fc843c243422f8cf4588d4e8409b0",
            "d36ff8c8cf614c21a12785da75b11dfa",
            "2137bde41822491ba94f3d76dcf3a401",
            "6bdf677cd2b34578ad3c3a26e87f24d5",
            "876e5a8041d9453a8e96531c5d1b656e",
            "712a39588aad40d9bbe6d6f3ed6c25f6",
            "5cbcf6d3a07d4ed4b35a9bd5b0efc835",
            "78a086becc8f42d18127cbfe5423a12b",
            "67bd410477474e9ba0a6b4480b782844",
            "70b46130b39c4cc59df1cb0a86ae365b",
            "b3b57c3c7ce54fdbbe970141a99e1abc",
            "c10b02d20df24429a160b285baaa8a4f",
            "7b17216a026f4a23947695891af0392f",
            "0596a221c71f4f909389f88b33207680",
            "76719b0e0bc24eaba132fea0d4500a07",
            "786f821f70b345649ad65d01db8339c1",
            "e80d0e7dd12a4c38814d7ebd843a8da6",
            "327875272e154d6498ccdaab29cd34dc",
            "de50cb77f9c847e8bb9fb300b5a87ffe",
            "f4435685058f4703aed41ccb91d966c1",
            "d225c520a89c42bca1bfc3e824555b30"
          ]
        },
        "id": "4vGlDHYD6SjT",
        "outputId": "7959625b-4926-4a46-d263-394352058866"
      },
      "source": [
        "EOS_TOKEN = \"<|endoftext|>\"\n",
        "PAD_TOKEN = \"<|pad|>\"\n",
        "MAX_TOKENS = 128 # was 128\n",
        "\n",
        "tokenizer = AutoTokenizer.from_pretrained(\n",
        "    \"gpt2\",\n",
        "    eos_token=EOS_TOKEN,\n",
        "    pad_token=PAD_TOKEN,\n",
        "    max_length=MAX_TOKENS,\n",
        "    is_split_into_words=True,\n",
        ")\n",
        "\n",
        "# adding further special cases\n",
        "special_cases = ['Cir.','Fed.','No.','NO','App.','Civ.', 'Dkt.', 'et al.','Nos.','U.S.C.','F.',\n",
        "                 'R.', 'n.', 'v.', 'Univ.', 'Jr.','I.N.S.', 'OR.', 'REV.', 'STAT.','D.C.']\n",
        "\n",
        "tokenizer.add_tokens(special_cases, special_tokens = False)\n"
      ],
      "execution_count": 8,
      "outputs": [
        {
          "output_type": "display_data",
          "data": {
            "application/vnd.jupyter.widget-view+json": {
              "model_id": "6a7de2f60fc347db84cec8321233e91d",
              "version_minor": 0,
              "version_major": 2
            },
            "text/plain": [
              "Downloading:   0%|          | 0.00/665 [00:00<?, ?B/s]"
            ]
          },
          "metadata": {}
        },
        {
          "output_type": "display_data",
          "data": {
            "application/vnd.jupyter.widget-view+json": {
              "model_id": "ee547fc1760041169d7634150cac08ef",
              "version_minor": 0,
              "version_major": 2
            },
            "text/plain": [
              "Downloading:   0%|          | 0.00/1.04M [00:00<?, ?B/s]"
            ]
          },
          "metadata": {}
        },
        {
          "output_type": "display_data",
          "data": {
            "application/vnd.jupyter.widget-view+json": {
              "model_id": "bab2bad1807a4664a03fbc1dd2415a9a",
              "version_minor": 0,
              "version_major": 2
            },
            "text/plain": [
              "Downloading:   0%|          | 0.00/456k [00:00<?, ?B/s]"
            ]
          },
          "metadata": {}
        },
        {
          "output_type": "display_data",
          "data": {
            "application/vnd.jupyter.widget-view+json": {
              "model_id": "b3b57c3c7ce54fdbbe970141a99e1abc",
              "version_minor": 0,
              "version_major": 2
            },
            "text/plain": [
              "Downloading:   0%|          | 0.00/1.36M [00:00<?, ?B/s]"
            ]
          },
          "metadata": {}
        },
        {
          "output_type": "stream",
          "text": [
            "Special tokens have been added in the vocabulary, make sure the associated word embeddings are fine-tuned or trained.\n"
          ],
          "name": "stderr"
        },
        {
          "output_type": "execute_result",
          "data": {
            "text/plain": [
              "20"
            ]
          },
          "metadata": {},
          "execution_count": 8
        }
      ]
    },
    {
      "cell_type": "markdown",
      "metadata": {
        "id": "fyt7a4J_4g_7"
      },
      "source": [
        "Map Tokenizer to data "
      ]
    },
    {
      "cell_type": "code",
      "metadata": {
        "id": "em7H8Fet6eu3"
      },
      "source": [
        "output = {}\n",
        "\n",
        "# defining tokenizer function\n",
        "def tokenize_function(examples, tokenizer=tokenizer):\n",
        "    # Add start and end token to each comment\n",
        "    examples = [ex + EOS_TOKEN for ex in examples[\"0\"]]\n",
        "    # tokenizer created input_ids and attention_mask as output\n",
        "    output = tokenizer(\n",
        "        examples,\n",
        "        add_special_tokens=True, \n",
        "        max_length=MAX_TOKENS,\n",
        "        truncation=True,\n",
        "        pad_to_max_length=True,\n",
        "    )\n",
        "    # shift labels for next token prediction & set padding token labels to -100 which is ignored in loss computation\n",
        "    output[\"labels\"] = [x[1:] for x in output[\"input_ids\"]]\n",
        "    output[\"labels\"] = [\n",
        "        [-100 if x == tokenizer.pad_token_id else x for x in y]\n",
        "        for y in output[\"labels\"]\n",
        "    ]\n",
        "    # truncate input ids and attention mask to account for label shift\n",
        "    output[\"input_ids\"] = [x[:-1] for x in output[\"input_ids\"]]\n",
        "    output[\"attention_mask\"] = [x[:-1] for x in output[\"attention_mask\"]]\n",
        "    return output"
      ],
      "execution_count": 9,
      "outputs": []
    },
    {
      "cell_type": "code",
      "metadata": {
        "id": "CTIC2Bz_4qnY"
      },
      "source": [
        "data = data.map(\n",
        "    tokenize_function,\n",
        "    batched=True,\n",
        "    num_proc=strategy.num_replicas_in_sync,\n",
        "    remove_columns=[\"0\"],\n",
        "    load_from_cache_file=True,\n",
        ")\n",
        "data.save_to_disk(\"/content/dataset_format\")\n",
        "data = datasets.load_from_disk(\"/content/dataset_format\")\n",
        "data.set_format(type=\"python\", columns=[\"input_ids\", \"attention_mask\", \"labels\"])\n",
        "data = data.train_test_split(\n",
        "    test_size=0.20, shuffle=True, seed=1, load_from_cache_file=True\n",
        ")"
      ],
      "execution_count": 10,
      "outputs": []
    },
    {
      "cell_type": "code",
      "metadata": {
        "id": "cJbmIVAH6g_H"
      },
      "source": [
        "# convert to tensors and split data\n",
        "train_tensor_inputs = tf.convert_to_tensor(data[\"train\"][\"input_ids\"])\n",
        "train_tensor_labels = tf.convert_to_tensor(data[\"train\"][\"labels\"])\n",
        "train_tensor_mask = tf.convert_to_tensor(data[\"train\"][\"attention_mask\"])\n",
        "train = tf.data.Dataset.from_tensor_slices(\n",
        "    (\n",
        "        {\"input_ids\": train_tensor_inputs, \"attention_mask\": train_tensor_mask},\n",
        "        train_tensor_labels,\n",
        "    )\n",
        ")"
      ],
      "execution_count": 11,
      "outputs": []
    },
    {
      "cell_type": "code",
      "metadata": {
        "id": "5Z5QAyNIrP2s"
      },
      "source": [
        "test_tensor_inputs = tf.convert_to_tensor(data[\"test\"][\"input_ids\"])\n",
        "test_tensor_labels = tf.convert_to_tensor(data[\"test\"][\"labels\"])\n",
        "test_tensor_mask = tf.convert_to_tensor(data[\"test\"][\"attention_mask\"])\n",
        "test = tf.data.Dataset.from_tensor_slices(\n",
        "    (\n",
        "        {\"input_ids\": test_tensor_inputs, \"attention_mask\": test_tensor_mask},\n",
        "        test_tensor_labels,\n",
        "    )\n",
        ")"
      ],
      "execution_count": null,
      "outputs": []
    },
    {
      "cell_type": "code",
      "metadata": {
        "id": "BKyObD59FdOI"
      },
      "source": [
        "BATCH_SIZE_PER_REPLICA = 28\n",
        "EPOCHS = 8\n",
        "INITAL_LEARNING_RATE = 0.0001\n",
        "try:\n",
        "    BATCH_SIZE = BATCH_SIZE_PER_REPLICA * strategy.num_replicas_in_sync\n",
        "except NameError as e:\n",
        "    BATCH_SIZE = BATCH_SIZE_PER_REPLICA\n",
        "BUFFER_SIZE = len(train)"
      ],
      "execution_count": 20,
      "outputs": []
    },
    {
      "cell_type": "code",
      "metadata": {
        "id": "rHRv5lfP6ip7",
        "colab": {
          "base_uri": "https://localhost:8080/"
        },
        "outputId": "47ad0944-ac06-45d5-e386-f23a180db35f"
      },
      "source": [
        "# reference note: prepare data for consumption\n",
        "train_ds = (train.shuffle(BUFFER_SIZE).batch(BATCH_SIZE, drop_remainder=True))\n",
        "test_ds = test.batch(BATCH_SIZE, drop_remainder=True)\n",
        "\n",
        "# reference note: Drecreasing learning rate scheduler\n",
        "lr_schedule = tf.keras.optimizers.schedules.ExponentialDecay(\n",
        "    INITAL_LEARNING_RATE,\n",
        "    decay_steps=500,\n",
        "    decay_rate=0.7,\n",
        "    staircase=True)\n",
        "# reference note: initialize model, use_cache=False important! else wrong shape at loss calc\n",
        "with strategy.scope():\n",
        "    model = TFGPT2LMHeadModel.from_pretrained(\n",
        "        \"distilgpt2\",\n",
        "        use_cache=False,\n",
        "        pad_token_id=tokenizer.pad_token_id,\n",
        "        eos_token_id=tokenizer.eos_token_id,\n",
        "    )\n",
        "    model.resize_token_embeddings(len(tokenizer))\n",
        "    optimizer = tf.keras.optimizers.Adam(learning_rate=lr_schedule)\n",
        "    model.compile(optimizer=optimizer, loss=model.compute_loss)\n",
        "    model.summary()"
      ],
      "execution_count": 21,
      "outputs": [
        {
          "output_type": "stream",
          "text": [
            "All model checkpoint layers were used when initializing TFGPT2LMHeadModel.\n",
            "\n",
            "All the layers of TFGPT2LMHeadModel were initialized from the model checkpoint at distilgpt2.\n",
            "If your task is similar to the task the model of the checkpoint was trained on, you can already use TFGPT2LMHeadModel for predictions without further training.\n"
          ],
          "name": "stderr"
        },
        {
          "output_type": "stream",
          "text": [
            "Model: \"tfgp_t2lm_head_model_2\"\n",
            "_________________________________________________________________\n",
            "Layer (type)                 Output Shape              Param #   \n",
            "=================================================================\n",
            "transformer (TFGPT2MainLayer multiple                  81928704  \n",
            "=================================================================\n",
            "Total params: 81,928,704\n",
            "Trainable params: 81,928,704\n",
            "Non-trainable params: 0\n",
            "_________________________________________________________________\n"
          ],
          "name": "stdout"
        }
      ]
    },
    {
      "cell_type": "code",
      "metadata": {
        "colab": {
          "base_uri": "https://localhost:8080/"
        },
        "id": "DbMJZXqJ6nMO",
        "outputId": "7a8c6278-40cd-48a5-9cfb-50b2b95f9bd9"
      },
      "source": [
        "steps_per_epoch = int(BUFFER_SIZE // BATCH_SIZE)\n",
        "print(\n",
        "    f\"Model Params:\\nbatch_size: {BATCH_SIZE}\\nEpochs: {EPOCHS}\\n\"\n",
        "    f\"Step p. Epoch: {steps_per_epoch}\\n\"\n",
        "    f\"Initial Learning rate: {INITAL_LEARNING_RATE}\"\n",
        ")"
      ],
      "execution_count": 22,
      "outputs": [
        {
          "output_type": "stream",
          "text": [
            "Model Params:\n",
            "batch_size: 224\n",
            "Epochs: 8\n",
            "Step p. Epoch: 5\n",
            "Initial Learning rate: 0.0001\n"
          ],
          "name": "stdout"
        }
      ]
    },
    {
      "cell_type": "code",
      "metadata": {
        "colab": {
          "base_uri": "https://localhost:8080/"
        },
        "id": "saWavEDN6oXW",
        "outputId": "bd36c733-caf1-4078-dc75-94e65133f940"
      },
      "source": [
        "hist = model.fit(\n",
        "    train_ds,\n",
        "    validation_data=test_ds,\n",
        "    batch_size=BATCH_SIZE,\n",
        "    epochs=8,\n",
        "    verbose=1,\n",
        ")"
      ],
      "execution_count": 23,
      "outputs": [
        {
          "output_type": "stream",
          "text": [
            "Epoch 1/8\n",
            "5/5 [==============================] - 52s 2s/step - loss: 23.0046 - val_loss: 7.1466\n",
            "Epoch 2/8\n",
            "5/5 [==============================] - 3s 786ms/step - loss: 7.1718 - val_loss: 6.9701\n",
            "Epoch 3/8\n",
            "5/5 [==============================] - 3s 649ms/step - loss: 6.8407 - val_loss: 6.4122\n",
            "Epoch 4/8\n",
            "5/5 [==============================] - 3s 627ms/step - loss: 6.3013 - val_loss: 5.8781\n",
            "Epoch 5/8\n",
            "5/5 [==============================] - 3s 635ms/step - loss: 5.8390 - val_loss: 5.3800\n",
            "Epoch 6/8\n",
            "5/5 [==============================] - 3s 638ms/step - loss: 5.3742 - val_loss: 4.9669\n",
            "Epoch 7/8\n",
            "5/5 [==============================] - 3s 632ms/step - loss: 5.0267 - val_loss: 4.7072\n",
            "Epoch 8/8\n",
            "5/5 [==============================] - 3s 644ms/step - loss: 4.7645 - val_loss: 4.5540\n"
          ],
          "name": "stdout"
        }
      ]
    },
    {
      "cell_type": "code",
      "metadata": {
        "id": "nDeGshdS_G3v"
      },
      "source": [
        "# save model\n",
        "hist.save(\"model\")"
      ],
      "execution_count": null,
      "outputs": []
    },
    {
      "cell_type": "code",
      "metadata": {
        "colab": {
          "base_uri": "https://localhost:8080/",
          "height": 294
        },
        "id": "e-0a9vux6peD",
        "outputId": "395cbacb-c9c2-43a0-f154-5b6888df0049"
      },
      "source": [
        "loss = pd.DataFrame(\n",
        "    {\"train loss\": hist.history[\"loss\"], \"test loss\": hist.history[\"val_loss\"]}\n",
        ").melt()\n",
        "loss[\"epoch\"] = loss.groupby(\"variable\").cumcount() + 1\n",
        "sns.lineplot(x=\"epoch\", y=\"value\", hue=\"variable\", data=loss).set(\n",
        "    title=\"Model loss\",\n",
        "    ylabel=\"\",\n",
        "    xticks=range(1, loss[\"epoch\"].max() + 1),\n",
        "    xticklabels=loss[\"epoch\"].unique(),\n",
        ");\n",
        "\n",
        "# load model"
      ],
      "execution_count": 24,
      "outputs": [
        {
          "output_type": "display_data",
          "data": {
            "image/png": "[encoded data removed]",
            "text/plain": [
              "<Figure size 432x288 with 1 Axes>"
            ]
          },
          "metadata": {
            "needs_background": "light"
          }
        }
      ]
    },
    {
      "cell_type": "code",
      "metadata": {
        "id": "W1VKOnrUBvC3"
      },
      "source": [
        "from transformers import pipeline\n",
        "\n",
        "gen = pipeline(\n",
        "    \"text-generation\",\n",
        "    model=model,\n",
        "    tokenizer=tokenizer,\n",
        ")"
      ],
      "execution_count": 126,
      "outputs": []
    },
    {
      "cell_type": "code",
      "metadata": {
        "id": "EFvxQ3AmCDlb"
      },
      "source": [
        "text = 'Without reciting all of the details of his efforts we note that the 90-day period for filing a complaint expired on May 14, 1973.'\n",
        "text = str(text)"
      ],
      "execution_count": 135,
      "outputs": []
    },
    {
      "cell_type": "code",
      "metadata": {
        "colab": {
          "base_uri": "https://localhost:8080/"
        },
        "id": "YbnVhcU5GmFO",
        "outputId": "a37ed79d-3e3d-4b1d-cd9d-b0bead5a4dac"
      },
      "source": [
        "gen(text, max_length=80, num_return_sequences=10, return_full_text=None)"
      ],
      "execution_count": 136,
      "outputs": [
        {
          "output_type": "execute_result",
          "data": {
            "text/plain": [
              "[{'generated_text': \"Without reciting all of the details of his efforts we note that the 90-day period for filing a complaint expired on May 14, 1973. No-one else was indicted in this case. The defendant was convicted of filing or filing an action against the defendant. The defendant is eligible to continue the complaint and review the complaint's appeal, and review the complaint's charges to be dismissed, the case\"},\n",
              " {'generated_text': 'Without reciting all of the details of his efforts we note that the 90-day period for filing a complaint expired on May 14, 1973. This incident occurred on April 28, 1977. As was not sufficient to justify the filing at the conclusion that the 90-day period for filing a complaint expired on April 20, 2000. The 90-day record was changed, the evidence and argument on the'},\n",
              " {'generated_text': 'Without reciting all of the details of his efforts we note that the 90-day period for filing a complaint expired on May 14, 1973.\\nWhile I was not responsible for filing a complaint and have been advised that the case has been dismissed, I will review the case and report any damages and any judgment arising from the award of damages.\\nThe case has been dismissed while the complaint is dismissed'},\n",
              " {'generated_text': 'Without reciting all of the details of his efforts we note that the 90-day period for filing a complaint expired on May 14, 1973. The result of a complaint that the 45-day period for filing the complaint expired on April 8, 1973. The failure to comply with the complaint period, the 90-day period for filing a complaint expired on April 16, 1974. The termination and failure'},\n",
              " {'generated_text': 'Without reciting all of the details of his efforts we note that the 90-day period for filing a complaint expired on May 14, 1973. . . . . . . . . . . . . . . . . . . . . . . . . . . . . . . . . . . . . . . . . . . . . . . . . . ..'},\n",
              " {'generated_text': 'Without reciting all of the details of his efforts we note that the 90-day period for filing a complaint expired on May 14, 1973. The case has no merits on-line with the application of the complaint. The case has no merits on-line with the filing of a complaint under the case, the plaintiff cannot be dismissed from litigation on any basis, unless otherwise necessary to comply with his'},\n",
              " {'generated_text': 'Without reciting all of the details of his efforts we note that the 90-day period for filing a complaint expired on May 14, 1973. We note that in filing a complaint is at the rate of one hour and 7.30 days if his claim was invalid and his decision not to petition the judge or judge-elect was the case.\\n\\nThe plaintiff in the complaint:\\nLone'},\n",
              " {'generated_text': 'Without reciting all of the details of his efforts we note that the 90-day period for filing a complaint expired on May 14, 1973. The judge dismissed the complaint and sent an immediate court order that the judge did not proceed with finding that the failure to perform the alleged complaint was not based (without limitation) and that the court required the jury trial decision to have a valid conviction. (App'},\n",
              " {'generated_text': 'Without reciting all of the details of his efforts we note that the 90-day period for filing a complaint expired on May 14, 1973. If the complaint was not filed in a court of limitation, the court was not ruled that the Court lacked jurisdiction to hold his motion to file a claim that the court lacked jurisdiction to create any discriminatory action. The complaint and a judge were not granted relief on'},\n",
              " {'generated_text': 'Without reciting all of the details of his efforts we note that the 90-day period for filing a complaint expired on May 14, 1973. In an affidavit, our affidavit, our affidavit, our affidavit, our affidavit, our affidavit, our affidavit, our affidavit, our affidavit, our affidavit, our report, our report notifying us that the 90-day period for filing an appeal expired on'}]"
            ]
          },
          "metadata": {},
          "execution_count": 136
        }
      ]
    },
    {
      "cell_type": "code",
      "metadata": {
        "id": "JVeT9Z7CKV1D"
      },
      "source": [
        "!pip install spacy-readability\n",
        "import spacy\n",
        "from spacy_readability import Readability"
      ],
      "execution_count": null,
      "outputs": []
    },
    {
      "cell_type": "code",
      "metadata": {
        "id": "Cg5ZsVMMKlmI"
      },
      "source": [
        "nlp = spacy.load('en')\n",
        "read = Readability()\n",
        "nlp.add_pipe(read, last=True)"
      ],
      "execution_count": 38,
      "outputs": []
    },
    {
      "cell_type": "code",
      "metadata": {
        "id": "61uUq1ot10Db"
      },
      "source": [
        "text = gen[1]\n",
        "text = str(text)"
      ],
      "execution_count": 50,
      "outputs": []
    },
    {
      "cell_type": "code",
      "metadata": {
        "colab": {
          "base_uri": "https://localhost:8080/"
        },
        "id": "NvG7YY1eKcRR",
        "outputId": "b78443eb-b2cd-49d7-8559-010eac6880dd"
      },
      "source": [
        "doc = nlp(text)\n",
        "\n",
        "print(doc._.flesch_kincaid_grade_level)\n",
        "print(doc._.flesch_kincaid_reading_ease)"
      ],
      "execution_count": 51,
      "outputs": [
        {
          "output_type": "stream",
          "text": [
            "14.188831168831168\n",
            "39.05086580086581\n"
          ],
          "name": "stdout"
        }
      ]
    },
    {
      "cell_type": "code",
      "metadata": {
        "id": "McUT6ls82UWr",
        "outputId": "a2708b9f-eb9c-4a3c-9b92-712530e19613",
        "colab": {
          "base_uri": "https://localhost:8080/"
        }
      },
      "source": [
        "text = str(gen[2])\n",
        "doc = nlp(text)\n",
        "\n",
        "print(doc._.flesch_kincaid_grade_level)\n",
        "print(doc._.flesch_kincaid_reading_ease)"
      ],
      "execution_count": 53,
      "outputs": [
        {
          "output_type": "stream",
          "text": [
            "16.7491095890411\n",
            "39.990239726027426\n"
          ],
          "name": "stdout"
        }
      ]
    },
    {
      "cell_type": "code",
      "metadata": {
        "id": "PYp8pLR52bSN",
        "outputId": "7e549e9e-026e-4c98-8828-9d72f729fa4d",
        "colab": {
          "base_uri": "https://localhost:8080/"
        }
      },
      "source": [
        "text = str(gen[3])\n",
        "doc = nlp(text)\n",
        "\n",
        "print(doc._.flesch_kincaid_grade_level)\n",
        "print(doc._.flesch_kincaid_reading_ease)"
      ],
      "execution_count": 54,
      "outputs": [
        {
          "output_type": "stream",
          "text": [
            "17.17783783783784\n",
            "37.80702702702703\n"
          ],
          "name": "stdout"
        }
      ]
    },
    {
      "cell_type": "code",
      "metadata": {
        "id": "0aBYnOQv2cQh",
        "outputId": "2e20c4f5-2e38-41fc-e7c3-b87751d0afe1",
        "colab": {
          "base_uri": "https://localhost:8080/"
        }
      },
      "source": [
        "text = str(gen[4])\n",
        "doc = nlp(text)\n",
        "\n",
        "print(doc._.flesch_kincaid_grade_level)\n",
        "print(doc._.flesch_kincaid_reading_ease)"
      ],
      "execution_count": 55,
      "outputs": [
        {
          "output_type": "stream",
          "text": [
            "20.11766666666667\n",
            "17.62050000000002\n"
          ],
          "name": "stdout"
        }
      ]
    },
    {
      "cell_type": "code",
      "metadata": {
        "id": "84tBy9nf2dQW",
        "outputId": "32ffc4de-f6e4-4b3e-9a0f-8c81cb48b012",
        "colab": {
          "base_uri": "https://localhost:8080/"
        }
      },
      "source": [
        "text = str(gen[7])\n",
        "doc = nlp(text)\n",
        "\n",
        "print(doc._.flesch_kincaid_grade_level)\n",
        "print(doc._.flesch_kincaid_reading_ease)"
      ],
      "execution_count": 58,
      "outputs": [
        {
          "output_type": "stream",
          "text": [
            "12.096\n",
            "52.86800000000002\n"
          ],
          "name": "stdout"
        }
      ]
    },
    {
      "cell_type": "code",
      "metadata": {
        "id": "Rm8ketNV-sof",
        "outputId": "6e59b5b5-e458-4117-8db3-4dfd9d4486e4",
        "colab": {
          "base_uri": "https://localhost:8080/"
        }
      },
      "source": [
        "gen[9]\n",
        "text = str(gen[9])\n",
        "doc = nlp(text)\n",
        "\n",
        "print(doc._.flesch_kincaid_grade_level)\n",
        "print(doc._.flesch_kincaid_reading_ease)"
      ],
      "execution_count": 62,
      "outputs": [
        {
          "output_type": "stream",
          "text": [
            "16.128896103896107\n",
            "47.999058441558475\n"
          ],
          "name": "stdout"
        }
      ]
    },
    {
      "cell_type": "code",
      "metadata": {
        "id": "mKTcAAtiDqI6",
        "outputId": "6946f5bf-b65d-4f63-be52-b237dd37e168",
        "colab": {
          "base_uri": "https://localhost:8080/"
        }
      },
      "source": [
        "gen"
      ],
      "execution_count": 121,
      "outputs": [
        {
          "output_type": "execute_result",
          "data": {
            "text/plain": [
              "[{'generated_text': \"Appellant urges that he acted diligently to present his claim to the court and that this diligence should justify the one-day delay and relief for a court complaint to judge that he provided the purpose of the appeal, in the case of the complaint, was not authorized by Defendant Richard Wright. [9] The court was not authorized by Defendant Lawrence M. Wilson to appeal the Court's decision to judge\"},\n",
              " {'generated_text': \"Appellant urges that he acted diligently to present his claim to the court and that this diligence should justify the one-day delay and judgment of his court's court.\\n\\n\\nA jury unanimously concluded that an erroneous sentence was to be imposed on all the defendants to do so.\\nThe jury agreed that defendants were guilty of the crime.\\nThe jury found that defendant was guilty of the conviction\"},\n",
              " {'generated_text': 'Appellant urges that he acted diligently to present his claim to the court and that this diligence should justify the one-day delay and decision as stated by the court.The judgment was reached, the verdict was upheld by the court, so that an action could have been pursued under the authority of the court, where the plaintiff is seeking to demonstrate that the court had conducted its claim to avoid an interference'},\n",
              " {'generated_text': 'Appellant urges that he acted diligently to present his claim to the court and that this diligence should justify the one-day delay and judgment of his law enforcement duty by making the case for review by federal prosecutors in the United States.\\nThe Court of Appeals for the Appellant and United States is entitled to the petition for review by federal prosecutors in the United States, because United States Attorney James'},\n",
              " {'generated_text': 'Appellant urges that he acted diligently to present his claim to the court and that this diligence should justify the one-day delay in filing the petition for the injunction prohibiting entry into the court and a delay in filing the court denying entry into the court’s orders to impose a legal action to enforce the order’s termination in the court’s determination as follows:’s'}]"
            ]
          },
          "metadata": {},
          "execution_count": 121
        }
      ]
    }
  ]
}