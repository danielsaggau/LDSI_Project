{
  "nbformat": 4,
  "nbformat_minor": 0,
  "metadata": {
    "colab": {
      "name": "Generating Legal Text with Distil-GPT2 based on raw Courtlistener Data.ipynb",
      "provenance": [],
      "mount_file_id": "1EknVyQW6-xiO2R7Q1Ut-SVloxjEuAQ7S",
      "authorship_tag": "ABX9TyNGuW1E+WIOnWF7/6UFN4uR",
      "include_colab_link": true
    },
    "kernelspec": {
      "name": "python3",
      "display_name": "Python 3"
    },
    "language_info": {
      "name": "python"
    },
    "accelerator": "TPU",
    "widgets": {
      "application/vnd.jupyter.widget-state+json": {
        "ac8cfae2d9cc4fc1ba97308657aa25f7": {
          "model_module": "@jupyter-widgets/controls",
          "model_name": "HBoxModel",
          "model_module_version": "1.5.0",
          "state": {
            "_view_name": "HBoxView",
            "_dom_classes": [],
            "_model_name": "HBoxModel",
            "_view_module": "@jupyter-widgets/controls",
            "_model_module_version": "1.5.0",
            "_view_count": null,
            "_view_module_version": "1.5.0",
            "box_style": "",
            "layout": "IPY_MODEL_1b4e2482d92e4235b937c909575dc980",
            "_model_module": "@jupyter-widgets/controls",
            "children": [
              "IPY_MODEL_e05b0d9808f24c248f2321f0134ffe80",
              "IPY_MODEL_d1db3348948249ee98542ff95b6ee93a",
              "IPY_MODEL_47f0015b00cd4942a695dcf3ac0117c5"
            ]
          }
        },
        "1b4e2482d92e4235b937c909575dc980": {
          "model_module": "@jupyter-widgets/base",
          "model_name": "LayoutModel",
          "model_module_version": "1.2.0",
          "state": {
            "_view_name": "LayoutView",
            "grid_template_rows": null,
            "right": null,
            "justify_content": null,
            "_view_module": "@jupyter-widgets/base",
            "overflow": null,
            "_model_module_version": "1.2.0",
            "_view_count": null,
            "flex_flow": null,
            "width": null,
            "min_width": null,
            "border": null,
            "align_items": null,
            "bottom": null,
            "_model_module": "@jupyter-widgets/base",
            "top": null,
            "grid_column": null,
            "overflow_y": null,
            "overflow_x": null,
            "grid_auto_flow": null,
            "grid_area": null,
            "grid_template_columns": null,
            "flex": null,
            "_model_name": "LayoutModel",
            "justify_items": null,
            "grid_row": null,
            "max_height": null,
            "align_content": null,
            "visibility": null,
            "align_self": null,
            "height": null,
            "min_height": null,
            "padding": null,
            "grid_auto_rows": null,
            "grid_gap": null,
            "max_width": null,
            "order": null,
            "_view_module_version": "1.2.0",
            "grid_template_areas": null,
            "object_position": null,
            "object_fit": null,
            "grid_auto_columns": null,
            "margin": null,
            "display": null,
            "left": null
          }
        },
        "e05b0d9808f24c248f2321f0134ffe80": {
          "model_module": "@jupyter-widgets/controls",
          "model_name": "HTMLModel",
          "model_module_version": "1.5.0",
          "state": {
            "_view_name": "HTMLView",
            "style": "IPY_MODEL_5e0108b63409417f847c5e23ef82e284",
            "_dom_classes": [],
            "description": "",
            "_model_name": "HTMLModel",
            "placeholder": "​",
            "_view_module": "@jupyter-widgets/controls",
            "_model_module_version": "1.5.0",
            "value": "Downloading: 100%",
            "_view_count": null,
            "_view_module_version": "1.5.0",
            "description_tooltip": null,
            "_model_module": "@jupyter-widgets/controls",
            "layout": "IPY_MODEL_ae2e43dc4ccb4dc9bb7f818be424cf28"
          }
        },
        "d1db3348948249ee98542ff95b6ee93a": {
          "model_module": "@jupyter-widgets/controls",
          "model_name": "FloatProgressModel",
          "model_module_version": "1.5.0",
          "state": {
            "_view_name": "ProgressView",
            "style": "IPY_MODEL_4d2a8cacf7364809842d20536b21cff0",
            "_dom_classes": [],
            "description": "",
            "_model_name": "FloatProgressModel",
            "bar_style": "success",
            "max": 665,
            "_view_module": "@jupyter-widgets/controls",
            "_model_module_version": "1.5.0",
            "value": 665,
            "_view_count": null,
            "_view_module_version": "1.5.0",
            "orientation": "horizontal",
            "min": 0,
            "description_tooltip": null,
            "_model_module": "@jupyter-widgets/controls",
            "layout": "IPY_MODEL_350da63ca4cc41549552a14d0376c0cf"
          }
        },
        "47f0015b00cd4942a695dcf3ac0117c5": {
          "model_module": "@jupyter-widgets/controls",
          "model_name": "HTMLModel",
          "model_module_version": "1.5.0",
          "state": {
            "_view_name": "HTMLView",
            "style": "IPY_MODEL_86bcd372f700453fbff5a625c8fb0532",
            "_dom_classes": [],
            "description": "",
            "_model_name": "HTMLModel",
            "placeholder": "​",
            "_view_module": "@jupyter-widgets/controls",
            "_model_module_version": "1.5.0",
            "value": " 665/665 [00:00&lt;00:00, 15.4kB/s]",
            "_view_count": null,
            "_view_module_version": "1.5.0",
            "description_tooltip": null,
            "_model_module": "@jupyter-widgets/controls",
            "layout": "IPY_MODEL_5fcb22a6c3234b4d86087e0c5ff1537e"
          }
        },
        "5e0108b63409417f847c5e23ef82e284": {
          "model_module": "@jupyter-widgets/controls",
          "model_name": "DescriptionStyleModel",
          "model_module_version": "1.5.0",
          "state": {
            "_view_name": "StyleView",
            "_model_name": "DescriptionStyleModel",
            "description_width": "",
            "_view_module": "@jupyter-widgets/base",
            "_model_module_version": "1.5.0",
            "_view_count": null,
            "_view_module_version": "1.2.0",
            "_model_module": "@jupyter-widgets/controls"
          }
        },
        "ae2e43dc4ccb4dc9bb7f818be424cf28": {
          "model_module": "@jupyter-widgets/base",
          "model_name": "LayoutModel",
          "model_module_version": "1.2.0",
          "state": {
            "_view_name": "LayoutView",
            "grid_template_rows": null,
            "right": null,
            "justify_content": null,
            "_view_module": "@jupyter-widgets/base",
            "overflow": null,
            "_model_module_version": "1.2.0",
            "_view_count": null,
            "flex_flow": null,
            "width": null,
            "min_width": null,
            "border": null,
            "align_items": null,
            "bottom": null,
            "_model_module": "@jupyter-widgets/base",
            "top": null,
            "grid_column": null,
            "overflow_y": null,
            "overflow_x": null,
            "grid_auto_flow": null,
            "grid_area": null,
            "grid_template_columns": null,
            "flex": null,
            "_model_name": "LayoutModel",
            "justify_items": null,
            "grid_row": null,
            "max_height": null,
            "align_content": null,
            "visibility": null,
            "align_self": null,
            "height": null,
            "min_height": null,
            "padding": null,
            "grid_auto_rows": null,
            "grid_gap": null,
            "max_width": null,
            "order": null,
            "_view_module_version": "1.2.0",
            "grid_template_areas": null,
            "object_position": null,
            "object_fit": null,
            "grid_auto_columns": null,
            "margin": null,
            "display": null,
            "left": null
          }
        },
        "4d2a8cacf7364809842d20536b21cff0": {
          "model_module": "@jupyter-widgets/controls",
          "model_name": "ProgressStyleModel",
          "model_module_version": "1.5.0",
          "state": {
            "_view_name": "StyleView",
            "_model_name": "ProgressStyleModel",
            "description_width": "",
            "_view_module": "@jupyter-widgets/base",
            "_model_module_version": "1.5.0",
            "_view_count": null,
            "_view_module_version": "1.2.0",
            "bar_color": null,
            "_model_module": "@jupyter-widgets/controls"
          }
        },
        "350da63ca4cc41549552a14d0376c0cf": {
          "model_module": "@jupyter-widgets/base",
          "model_name": "LayoutModel",
          "model_module_version": "1.2.0",
          "state": {
            "_view_name": "LayoutView",
            "grid_template_rows": null,
            "right": null,
            "justify_content": null,
            "_view_module": "@jupyter-widgets/base",
            "overflow": null,
            "_model_module_version": "1.2.0",
            "_view_count": null,
            "flex_flow": null,
            "width": null,
            "min_width": null,
            "border": null,
            "align_items": null,
            "bottom": null,
            "_model_module": "@jupyter-widgets/base",
            "top": null,
            "grid_column": null,
            "overflow_y": null,
            "overflow_x": null,
            "grid_auto_flow": null,
            "grid_area": null,
            "grid_template_columns": null,
            "flex": null,
            "_model_name": "LayoutModel",
            "justify_items": null,
            "grid_row": null,
            "max_height": null,
            "align_content": null,
            "visibility": null,
            "align_self": null,
            "height": null,
            "min_height": null,
            "padding": null,
            "grid_auto_rows": null,
            "grid_gap": null,
            "max_width": null,
            "order": null,
            "_view_module_version": "1.2.0",
            "grid_template_areas": null,
            "object_position": null,
            "object_fit": null,
            "grid_auto_columns": null,
            "margin": null,
            "display": null,
            "left": null
          }
        },
        "86bcd372f700453fbff5a625c8fb0532": {
          "model_module": "@jupyter-widgets/controls",
          "model_name": "DescriptionStyleModel",
          "model_module_version": "1.5.0",
          "state": {
            "_view_name": "StyleView",
            "_model_name": "DescriptionStyleModel",
            "description_width": "",
            "_view_module": "@jupyter-widgets/base",
            "_model_module_version": "1.5.0",
            "_view_count": null,
            "_view_module_version": "1.2.0",
            "_model_module": "@jupyter-widgets/controls"
          }
        },
        "5fcb22a6c3234b4d86087e0c5ff1537e": {
          "model_module": "@jupyter-widgets/base",
          "model_name": "LayoutModel",
          "model_module_version": "1.2.0",
          "state": {
            "_view_name": "LayoutView",
            "grid_template_rows": null,
            "right": null,
            "justify_content": null,
            "_view_module": "@jupyter-widgets/base",
            "overflow": null,
            "_model_module_version": "1.2.0",
            "_view_count": null,
            "flex_flow": null,
            "width": null,
            "min_width": null,
            "border": null,
            "align_items": null,
            "bottom": null,
            "_model_module": "@jupyter-widgets/base",
            "top": null,
            "grid_column": null,
            "overflow_y": null,
            "overflow_x": null,
            "grid_auto_flow": null,
            "grid_area": null,
            "grid_template_columns": null,
            "flex": null,
            "_model_name": "LayoutModel",
            "justify_items": null,
            "grid_row": null,
            "max_height": null,
            "align_content": null,
            "visibility": null,
            "align_self": null,
            "height": null,
            "min_height": null,
            "padding": null,
            "grid_auto_rows": null,
            "grid_gap": null,
            "max_width": null,
            "order": null,
            "_view_module_version": "1.2.0",
            "grid_template_areas": null,
            "object_position": null,
            "object_fit": null,
            "grid_auto_columns": null,
            "margin": null,
            "display": null,
            "left": null
          }
        },
        "cc3a704d1d664931958cd493564cddf2": {
          "model_module": "@jupyter-widgets/controls",
          "model_name": "HBoxModel",
          "model_module_version": "1.5.0",
          "state": {
            "_view_name": "HBoxView",
            "_dom_classes": [],
            "_model_name": "HBoxModel",
            "_view_module": "@jupyter-widgets/controls",
            "_model_module_version": "1.5.0",
            "_view_count": null,
            "_view_module_version": "1.5.0",
            "box_style": "",
            "layout": "IPY_MODEL_d43e5b8d9b2e4ac488e6275c166af3a6",
            "_model_module": "@jupyter-widgets/controls",
            "children": [
              "IPY_MODEL_0be36809477c44bbbffff6cff5b8ab50",
              "IPY_MODEL_31c44cdc646040bf8d8e3628afc0e511",
              "IPY_MODEL_f70445c43d454f7ab7af94602e25f33c"
            ]
          }
        },
        "d43e5b8d9b2e4ac488e6275c166af3a6": {
          "model_module": "@jupyter-widgets/base",
          "model_name": "LayoutModel",
          "model_module_version": "1.2.0",
          "state": {
            "_view_name": "LayoutView",
            "grid_template_rows": null,
            "right": null,
            "justify_content": null,
            "_view_module": "@jupyter-widgets/base",
            "overflow": null,
            "_model_module_version": "1.2.0",
            "_view_count": null,
            "flex_flow": null,
            "width": null,
            "min_width": null,
            "border": null,
            "align_items": null,
            "bottom": null,
            "_model_module": "@jupyter-widgets/base",
            "top": null,
            "grid_column": null,
            "overflow_y": null,
            "overflow_x": null,
            "grid_auto_flow": null,
            "grid_area": null,
            "grid_template_columns": null,
            "flex": null,
            "_model_name": "LayoutModel",
            "justify_items": null,
            "grid_row": null,
            "max_height": null,
            "align_content": null,
            "visibility": null,
            "align_self": null,
            "height": null,
            "min_height": null,
            "padding": null,
            "grid_auto_rows": null,
            "grid_gap": null,
            "max_width": null,
            "order": null,
            "_view_module_version": "1.2.0",
            "grid_template_areas": null,
            "object_position": null,
            "object_fit": null,
            "grid_auto_columns": null,
            "margin": null,
            "display": null,
            "left": null
          }
        },
        "0be36809477c44bbbffff6cff5b8ab50": {
          "model_module": "@jupyter-widgets/controls",
          "model_name": "HTMLModel",
          "model_module_version": "1.5.0",
          "state": {
            "_view_name": "HTMLView",
            "style": "IPY_MODEL_97211cc2b6d94194b93b91b00acbf067",
            "_dom_classes": [],
            "description": "",
            "_model_name": "HTMLModel",
            "placeholder": "​",
            "_view_module": "@jupyter-widgets/controls",
            "_model_module_version": "1.5.0",
            "value": "Downloading: 100%",
            "_view_count": null,
            "_view_module_version": "1.5.0",
            "description_tooltip": null,
            "_model_module": "@jupyter-widgets/controls",
            "layout": "IPY_MODEL_ea4f366b823244ca8a6e484533f60e8b"
          }
        },
        "31c44cdc646040bf8d8e3628afc0e511": {
          "model_module": "@jupyter-widgets/controls",
          "model_name": "FloatProgressModel",
          "model_module_version": "1.5.0",
          "state": {
            "_view_name": "ProgressView",
            "style": "IPY_MODEL_c84ab063aac044fbbbce07b6d992d911",
            "_dom_classes": [],
            "description": "",
            "_model_name": "FloatProgressModel",
            "bar_style": "success",
            "max": 1042301,
            "_view_module": "@jupyter-widgets/controls",
            "_model_module_version": "1.5.0",
            "value": 1042301,
            "_view_count": null,
            "_view_module_version": "1.5.0",
            "orientation": "horizontal",
            "min": 0,
            "description_tooltip": null,
            "_model_module": "@jupyter-widgets/controls",
            "layout": "IPY_MODEL_be8c428400134a3f83d644149c40d056"
          }
        },
        "f70445c43d454f7ab7af94602e25f33c": {
          "model_module": "@jupyter-widgets/controls",
          "model_name": "HTMLModel",
          "model_module_version": "1.5.0",
          "state": {
            "_view_name": "HTMLView",
            "style": "IPY_MODEL_7229e61d09f54bb99b33e952a685da18",
            "_dom_classes": [],
            "description": "",
            "_model_name": "HTMLModel",
            "placeholder": "​",
            "_view_module": "@jupyter-widgets/controls",
            "_model_module_version": "1.5.0",
            "value": " 1.04M/1.04M [00:00&lt;00:00, 1.69MB/s]",
            "_view_count": null,
            "_view_module_version": "1.5.0",
            "description_tooltip": null,
            "_model_module": "@jupyter-widgets/controls",
            "layout": "IPY_MODEL_dc0ebc0fb4fc44a4a49a88a1092c39fa"
          }
        },
        "97211cc2b6d94194b93b91b00acbf067": {
          "model_module": "@jupyter-widgets/controls",
          "model_name": "DescriptionStyleModel",
          "model_module_version": "1.5.0",
          "state": {
            "_view_name": "StyleView",
            "_model_name": "DescriptionStyleModel",
            "description_width": "",
            "_view_module": "@jupyter-widgets/base",
            "_model_module_version": "1.5.0",
            "_view_count": null,
            "_view_module_version": "1.2.0",
            "_model_module": "@jupyter-widgets/controls"
          }
        },
        "ea4f366b823244ca8a6e484533f60e8b": {
          "model_module": "@jupyter-widgets/base",
          "model_name": "LayoutModel",
          "model_module_version": "1.2.0",
          "state": {
            "_view_name": "LayoutView",
            "grid_template_rows": null,
            "right": null,
            "justify_content": null,
            "_view_module": "@jupyter-widgets/base",
            "overflow": null,
            "_model_module_version": "1.2.0",
            "_view_count": null,
            "flex_flow": null,
            "width": null,
            "min_width": null,
            "border": null,
            "align_items": null,
            "bottom": null,
            "_model_module": "@jupyter-widgets/base",
            "top": null,
            "grid_column": null,
            "overflow_y": null,
            "overflow_x": null,
            "grid_auto_flow": null,
            "grid_area": null,
            "grid_template_columns": null,
            "flex": null,
            "_model_name": "LayoutModel",
            "justify_items": null,
            "grid_row": null,
            "max_height": null,
            "align_content": null,
            "visibility": null,
            "align_self": null,
            "height": null,
            "min_height": null,
            "padding": null,
            "grid_auto_rows": null,
            "grid_gap": null,
            "max_width": null,
            "order": null,
            "_view_module_version": "1.2.0",
            "grid_template_areas": null,
            "object_position": null,
            "object_fit": null,
            "grid_auto_columns": null,
            "margin": null,
            "display": null,
            "left": null
          }
        },
        "c84ab063aac044fbbbce07b6d992d911": {
          "model_module": "@jupyter-widgets/controls",
          "model_name": "ProgressStyleModel",
          "model_module_version": "1.5.0",
          "state": {
            "_view_name": "StyleView",
            "_model_name": "ProgressStyleModel",
            "description_width": "",
            "_view_module": "@jupyter-widgets/base",
            "_model_module_version": "1.5.0",
            "_view_count": null,
            "_view_module_version": "1.2.0",
            "bar_color": null,
            "_model_module": "@jupyter-widgets/controls"
          }
        },
        "be8c428400134a3f83d644149c40d056": {
          "model_module": "@jupyter-widgets/base",
          "model_name": "LayoutModel",
          "model_module_version": "1.2.0",
          "state": {
            "_view_name": "LayoutView",
            "grid_template_rows": null,
            "right": null,
            "justify_content": null,
            "_view_module": "@jupyter-widgets/base",
            "overflow": null,
            "_model_module_version": "1.2.0",
            "_view_count": null,
            "flex_flow": null,
            "width": null,
            "min_width": null,
            "border": null,
            "align_items": null,
            "bottom": null,
            "_model_module": "@jupyter-widgets/base",
            "top": null,
            "grid_column": null,
            "overflow_y": null,
            "overflow_x": null,
            "grid_auto_flow": null,
            "grid_area": null,
            "grid_template_columns": null,
            "flex": null,
            "_model_name": "LayoutModel",
            "justify_items": null,
            "grid_row": null,
            "max_height": null,
            "align_content": null,
            "visibility": null,
            "align_self": null,
            "height": null,
            "min_height": null,
            "padding": null,
            "grid_auto_rows": null,
            "grid_gap": null,
            "max_width": null,
            "order": null,
            "_view_module_version": "1.2.0",
            "grid_template_areas": null,
            "object_position": null,
            "object_fit": null,
            "grid_auto_columns": null,
            "margin": null,
            "display": null,
            "left": null
          }
        },
        "7229e61d09f54bb99b33e952a685da18": {
          "model_module": "@jupyter-widgets/controls",
          "model_name": "DescriptionStyleModel",
          "model_module_version": "1.5.0",
          "state": {
            "_view_name": "StyleView",
            "_model_name": "DescriptionStyleModel",
            "description_width": "",
            "_view_module": "@jupyter-widgets/base",
            "_model_module_version": "1.5.0",
            "_view_count": null,
            "_view_module_version": "1.2.0",
            "_model_module": "@jupyter-widgets/controls"
          }
        },
        "dc0ebc0fb4fc44a4a49a88a1092c39fa": {
          "model_module": "@jupyter-widgets/base",
          "model_name": "LayoutModel",
          "model_module_version": "1.2.0",
          "state": {
            "_view_name": "LayoutView",
            "grid_template_rows": null,
            "right": null,
            "justify_content": null,
            "_view_module": "@jupyter-widgets/base",
            "overflow": null,
            "_model_module_version": "1.2.0",
            "_view_count": null,
            "flex_flow": null,
            "width": null,
            "min_width": null,
            "border": null,
            "align_items": null,
            "bottom": null,
            "_model_module": "@jupyter-widgets/base",
            "top": null,
            "grid_column": null,
            "overflow_y": null,
            "overflow_x": null,
            "grid_auto_flow": null,
            "grid_area": null,
            "grid_template_columns": null,
            "flex": null,
            "_model_name": "LayoutModel",
            "justify_items": null,
            "grid_row": null,
            "max_height": null,
            "align_content": null,
            "visibility": null,
            "align_self": null,
            "height": null,
            "min_height": null,
            "padding": null,
            "grid_auto_rows": null,
            "grid_gap": null,
            "max_width": null,
            "order": null,
            "_view_module_version": "1.2.0",
            "grid_template_areas": null,
            "object_position": null,
            "object_fit": null,
            "grid_auto_columns": null,
            "margin": null,
            "display": null,
            "left": null
          }
        },
        "ab75895ff6a04cdf9f2ccd7f393d04fb": {
          "model_module": "@jupyter-widgets/controls",
          "model_name": "HBoxModel",
          "model_module_version": "1.5.0",
          "state": {
            "_view_name": "HBoxView",
            "_dom_classes": [],
            "_model_name": "HBoxModel",
            "_view_module": "@jupyter-widgets/controls",
            "_model_module_version": "1.5.0",
            "_view_count": null,
            "_view_module_version": "1.5.0",
            "box_style": "",
            "layout": "IPY_MODEL_bd03a83c3ccd414b94868e23b9228738",
            "_model_module": "@jupyter-widgets/controls",
            "children": [
              "IPY_MODEL_e6bbda84e0fe44aab8acbb32ea62ab17",
              "IPY_MODEL_20360392107040f381c9d903d65c6db6",
              "IPY_MODEL_902c44aa3431404c9ac561ffdeced420"
            ]
          }
        },
        "bd03a83c3ccd414b94868e23b9228738": {
          "model_module": "@jupyter-widgets/base",
          "model_name": "LayoutModel",
          "model_module_version": "1.2.0",
          "state": {
            "_view_name": "LayoutView",
            "grid_template_rows": null,
            "right": null,
            "justify_content": null,
            "_view_module": "@jupyter-widgets/base",
            "overflow": null,
            "_model_module_version": "1.2.0",
            "_view_count": null,
            "flex_flow": null,
            "width": null,
            "min_width": null,
            "border": null,
            "align_items": null,
            "bottom": null,
            "_model_module": "@jupyter-widgets/base",
            "top": null,
            "grid_column": null,
            "overflow_y": null,
            "overflow_x": null,
            "grid_auto_flow": null,
            "grid_area": null,
            "grid_template_columns": null,
            "flex": null,
            "_model_name": "LayoutModel",
            "justify_items": null,
            "grid_row": null,
            "max_height": null,
            "align_content": null,
            "visibility": null,
            "align_self": null,
            "height": null,
            "min_height": null,
            "padding": null,
            "grid_auto_rows": null,
            "grid_gap": null,
            "max_width": null,
            "order": null,
            "_view_module_version": "1.2.0",
            "grid_template_areas": null,
            "object_position": null,
            "object_fit": null,
            "grid_auto_columns": null,
            "margin": null,
            "display": null,
            "left": null
          }
        },
        "e6bbda84e0fe44aab8acbb32ea62ab17": {
          "model_module": "@jupyter-widgets/controls",
          "model_name": "HTMLModel",
          "model_module_version": "1.5.0",
          "state": {
            "_view_name": "HTMLView",
            "style": "IPY_MODEL_934bbcb9d2b342978c67f190bfb8814d",
            "_dom_classes": [],
            "description": "",
            "_model_name": "HTMLModel",
            "placeholder": "​",
            "_view_module": "@jupyter-widgets/controls",
            "_model_module_version": "1.5.0",
            "value": "Downloading: 100%",
            "_view_count": null,
            "_view_module_version": "1.5.0",
            "description_tooltip": null,
            "_model_module": "@jupyter-widgets/controls",
            "layout": "IPY_MODEL_e1f01d518bdb4808bc8b2e6ebcf5a56a"
          }
        },
        "20360392107040f381c9d903d65c6db6": {
          "model_module": "@jupyter-widgets/controls",
          "model_name": "FloatProgressModel",
          "model_module_version": "1.5.0",
          "state": {
            "_view_name": "ProgressView",
            "style": "IPY_MODEL_622a2e5b256b4a1dba246547971dce63",
            "_dom_classes": [],
            "description": "",
            "_model_name": "FloatProgressModel",
            "bar_style": "success",
            "max": 456318,
            "_view_module": "@jupyter-widgets/controls",
            "_model_module_version": "1.5.0",
            "value": 456318,
            "_view_count": null,
            "_view_module_version": "1.5.0",
            "orientation": "horizontal",
            "min": 0,
            "description_tooltip": null,
            "_model_module": "@jupyter-widgets/controls",
            "layout": "IPY_MODEL_522f29318fb6420e98ba41fca788b2c2"
          }
        },
        "902c44aa3431404c9ac561ffdeced420": {
          "model_module": "@jupyter-widgets/controls",
          "model_name": "HTMLModel",
          "model_module_version": "1.5.0",
          "state": {
            "_view_name": "HTMLView",
            "style": "IPY_MODEL_258a81ec70a34746bcaaaed8a790adc9",
            "_dom_classes": [],
            "description": "",
            "_model_name": "HTMLModel",
            "placeholder": "​",
            "_view_module": "@jupyter-widgets/controls",
            "_model_module_version": "1.5.0",
            "value": " 456k/456k [00:00&lt;00:00, 1.36MB/s]",
            "_view_count": null,
            "_view_module_version": "1.5.0",
            "description_tooltip": null,
            "_model_module": "@jupyter-widgets/controls",
            "layout": "IPY_MODEL_eaa27425772f4bd0882f64c72713d207"
          }
        },
        "934bbcb9d2b342978c67f190bfb8814d": {
          "model_module": "@jupyter-widgets/controls",
          "model_name": "DescriptionStyleModel",
          "model_module_version": "1.5.0",
          "state": {
            "_view_name": "StyleView",
            "_model_name": "DescriptionStyleModel",
            "description_width": "",
            "_view_module": "@jupyter-widgets/base",
            "_model_module_version": "1.5.0",
            "_view_count": null,
            "_view_module_version": "1.2.0",
            "_model_module": "@jupyter-widgets/controls"
          }
        },
        "e1f01d518bdb4808bc8b2e6ebcf5a56a": {
          "model_module": "@jupyter-widgets/base",
          "model_name": "LayoutModel",
          "model_module_version": "1.2.0",
          "state": {
            "_view_name": "LayoutView",
            "grid_template_rows": null,
            "right": null,
            "justify_content": null,
            "_view_module": "@jupyter-widgets/base",
            "overflow": null,
            "_model_module_version": "1.2.0",
            "_view_count": null,
            "flex_flow": null,
            "width": null,
            "min_width": null,
            "border": null,
            "align_items": null,
            "bottom": null,
            "_model_module": "@jupyter-widgets/base",
            "top": null,
            "grid_column": null,
            "overflow_y": null,
            "overflow_x": null,
            "grid_auto_flow": null,
            "grid_area": null,
            "grid_template_columns": null,
            "flex": null,
            "_model_name": "LayoutModel",
            "justify_items": null,
            "grid_row": null,
            "max_height": null,
            "align_content": null,
            "visibility": null,
            "align_self": null,
            "height": null,
            "min_height": null,
            "padding": null,
            "grid_auto_rows": null,
            "grid_gap": null,
            "max_width": null,
            "order": null,
            "_view_module_version": "1.2.0",
            "grid_template_areas": null,
            "object_position": null,
            "object_fit": null,
            "grid_auto_columns": null,
            "margin": null,
            "display": null,
            "left": null
          }
        },
        "622a2e5b256b4a1dba246547971dce63": {
          "model_module": "@jupyter-widgets/controls",
          "model_name": "ProgressStyleModel",
          "model_module_version": "1.5.0",
          "state": {
            "_view_name": "StyleView",
            "_model_name": "ProgressStyleModel",
            "description_width": "",
            "_view_module": "@jupyter-widgets/base",
            "_model_module_version": "1.5.0",
            "_view_count": null,
            "_view_module_version": "1.2.0",
            "bar_color": null,
            "_model_module": "@jupyter-widgets/controls"
          }
        },
        "522f29318fb6420e98ba41fca788b2c2": {
          "model_module": "@jupyter-widgets/base",
          "model_name": "LayoutModel",
          "model_module_version": "1.2.0",
          "state": {
            "_view_name": "LayoutView",
            "grid_template_rows": null,
            "right": null,
            "justify_content": null,
            "_view_module": "@jupyter-widgets/base",
            "overflow": null,
            "_model_module_version": "1.2.0",
            "_view_count": null,
            "flex_flow": null,
            "width": null,
            "min_width": null,
            "border": null,
            "align_items": null,
            "bottom": null,
            "_model_module": "@jupyter-widgets/base",
            "top": null,
            "grid_column": null,
            "overflow_y": null,
            "overflow_x": null,
            "grid_auto_flow": null,
            "grid_area": null,
            "grid_template_columns": null,
            "flex": null,
            "_model_name": "LayoutModel",
            "justify_items": null,
            "grid_row": null,
            "max_height": null,
            "align_content": null,
            "visibility": null,
            "align_self": null,
            "height": null,
            "min_height": null,
            "padding": null,
            "grid_auto_rows": null,
            "grid_gap": null,
            "max_width": null,
            "order": null,
            "_view_module_version": "1.2.0",
            "grid_template_areas": null,
            "object_position": null,
            "object_fit": null,
            "grid_auto_columns": null,
            "margin": null,
            "display": null,
            "left": null
          }
        },
        "258a81ec70a34746bcaaaed8a790adc9": {
          "model_module": "@jupyter-widgets/controls",
          "model_name": "DescriptionStyleModel",
          "model_module_version": "1.5.0",
          "state": {
            "_view_name": "StyleView",
            "_model_name": "DescriptionStyleModel",
            "description_width": "",
            "_view_module": "@jupyter-widgets/base",
            "_model_module_version": "1.5.0",
            "_view_count": null,
            "_view_module_version": "1.2.0",
            "_model_module": "@jupyter-widgets/controls"
          }
        },
        "eaa27425772f4bd0882f64c72713d207": {
          "model_module": "@jupyter-widgets/base",
          "model_name": "LayoutModel",
          "model_module_version": "1.2.0",
          "state": {
            "_view_name": "LayoutView",
            "grid_template_rows": null,
            "right": null,
            "justify_content": null,
            "_view_module": "@jupyter-widgets/base",
            "overflow": null,
            "_model_module_version": "1.2.0",
            "_view_count": null,
            "flex_flow": null,
            "width": null,
            "min_width": null,
            "border": null,
            "align_items": null,
            "bottom": null,
            "_model_module": "@jupyter-widgets/base",
            "top": null,
            "grid_column": null,
            "overflow_y": null,
            "overflow_x": null,
            "grid_auto_flow": null,
            "grid_area": null,
            "grid_template_columns": null,
            "flex": null,
            "_model_name": "LayoutModel",
            "justify_items": null,
            "grid_row": null,
            "max_height": null,
            "align_content": null,
            "visibility": null,
            "align_self": null,
            "height": null,
            "min_height": null,
            "padding": null,
            "grid_auto_rows": null,
            "grid_gap": null,
            "max_width": null,
            "order": null,
            "_view_module_version": "1.2.0",
            "grid_template_areas": null,
            "object_position": null,
            "object_fit": null,
            "grid_auto_columns": null,
            "margin": null,
            "display": null,
            "left": null
          }
        },
        "e4580ff99086437891744264b765ec6c": {
          "model_module": "@jupyter-widgets/controls",
          "model_name": "HBoxModel",
          "model_module_version": "1.5.0",
          "state": {
            "_view_name": "HBoxView",
            "_dom_classes": [],
            "_model_name": "HBoxModel",
            "_view_module": "@jupyter-widgets/controls",
            "_model_module_version": "1.5.0",
            "_view_count": null,
            "_view_module_version": "1.5.0",
            "box_style": "",
            "layout": "IPY_MODEL_761b958b2b3149c19fe4b34ef8b1091a",
            "_model_module": "@jupyter-widgets/controls",
            "children": [
              "IPY_MODEL_700f934838be4a9698c1178359cf1d0b",
              "IPY_MODEL_185f0399fb394d4fbf8b47639b96f908",
              "IPY_MODEL_d3901a46edad4b9ca94677223dbe164d"
            ]
          }
        },
        "761b958b2b3149c19fe4b34ef8b1091a": {
          "model_module": "@jupyter-widgets/base",
          "model_name": "LayoutModel",
          "model_module_version": "1.2.0",
          "state": {
            "_view_name": "LayoutView",
            "grid_template_rows": null,
            "right": null,
            "justify_content": null,
            "_view_module": "@jupyter-widgets/base",
            "overflow": null,
            "_model_module_version": "1.2.0",
            "_view_count": null,
            "flex_flow": null,
            "width": null,
            "min_width": null,
            "border": null,
            "align_items": null,
            "bottom": null,
            "_model_module": "@jupyter-widgets/base",
            "top": null,
            "grid_column": null,
            "overflow_y": null,
            "overflow_x": null,
            "grid_auto_flow": null,
            "grid_area": null,
            "grid_template_columns": null,
            "flex": null,
            "_model_name": "LayoutModel",
            "justify_items": null,
            "grid_row": null,
            "max_height": null,
            "align_content": null,
            "visibility": null,
            "align_self": null,
            "height": null,
            "min_height": null,
            "padding": null,
            "grid_auto_rows": null,
            "grid_gap": null,
            "max_width": null,
            "order": null,
            "_view_module_version": "1.2.0",
            "grid_template_areas": null,
            "object_position": null,
            "object_fit": null,
            "grid_auto_columns": null,
            "margin": null,
            "display": null,
            "left": null
          }
        },
        "700f934838be4a9698c1178359cf1d0b": {
          "model_module": "@jupyter-widgets/controls",
          "model_name": "HTMLModel",
          "model_module_version": "1.5.0",
          "state": {
            "_view_name": "HTMLView",
            "style": "IPY_MODEL_a91e332fa01a4cfca075b60f1a9390f1",
            "_dom_classes": [],
            "description": "",
            "_model_name": "HTMLModel",
            "placeholder": "​",
            "_view_module": "@jupyter-widgets/controls",
            "_model_module_version": "1.5.0",
            "value": "Downloading: 100%",
            "_view_count": null,
            "_view_module_version": "1.5.0",
            "description_tooltip": null,
            "_model_module": "@jupyter-widgets/controls",
            "layout": "IPY_MODEL_8cdc6dc366cc4bf3bb8ac77a50543865"
          }
        },
        "185f0399fb394d4fbf8b47639b96f908": {
          "model_module": "@jupyter-widgets/controls",
          "model_name": "FloatProgressModel",
          "model_module_version": "1.5.0",
          "state": {
            "_view_name": "ProgressView",
            "style": "IPY_MODEL_18d502ca87084b608c885a0eb44dd971",
            "_dom_classes": [],
            "description": "",
            "_model_name": "FloatProgressModel",
            "bar_style": "success",
            "max": 1355256,
            "_view_module": "@jupyter-widgets/controls",
            "_model_module_version": "1.5.0",
            "value": 1355256,
            "_view_count": null,
            "_view_module_version": "1.5.0",
            "orientation": "horizontal",
            "min": 0,
            "description_tooltip": null,
            "_model_module": "@jupyter-widgets/controls",
            "layout": "IPY_MODEL_0063ce0fea594a75bd4241ee0650a08b"
          }
        },
        "d3901a46edad4b9ca94677223dbe164d": {
          "model_module": "@jupyter-widgets/controls",
          "model_name": "HTMLModel",
          "model_module_version": "1.5.0",
          "state": {
            "_view_name": "HTMLView",
            "style": "IPY_MODEL_95f751835b1448538c274a61026979da",
            "_dom_classes": [],
            "description": "",
            "_model_name": "HTMLModel",
            "placeholder": "​",
            "_view_module": "@jupyter-widgets/controls",
            "_model_module_version": "1.5.0",
            "value": " 1.36M/1.36M [00:00&lt;00:00, 1.44MB/s]",
            "_view_count": null,
            "_view_module_version": "1.5.0",
            "description_tooltip": null,
            "_model_module": "@jupyter-widgets/controls",
            "layout": "IPY_MODEL_6b0319f8c46a41628c07281a54706a43"
          }
        },
        "a91e332fa01a4cfca075b60f1a9390f1": {
          "model_module": "@jupyter-widgets/controls",
          "model_name": "DescriptionStyleModel",
          "model_module_version": "1.5.0",
          "state": {
            "_view_name": "StyleView",
            "_model_name": "DescriptionStyleModel",
            "description_width": "",
            "_view_module": "@jupyter-widgets/base",
            "_model_module_version": "1.5.0",
            "_view_count": null,
            "_view_module_version": "1.2.0",
            "_model_module": "@jupyter-widgets/controls"
          }
        },
        "8cdc6dc366cc4bf3bb8ac77a50543865": {
          "model_module": "@jupyter-widgets/base",
          "model_name": "LayoutModel",
          "model_module_version": "1.2.0",
          "state": {
            "_view_name": "LayoutView",
            "grid_template_rows": null,
            "right": null,
            "justify_content": null,
            "_view_module": "@jupyter-widgets/base",
            "overflow": null,
            "_model_module_version": "1.2.0",
            "_view_count": null,
            "flex_flow": null,
            "width": null,
            "min_width": null,
            "border": null,
            "align_items": null,
            "bottom": null,
            "_model_module": "@jupyter-widgets/base",
            "top": null,
            "grid_column": null,
            "overflow_y": null,
            "overflow_x": null,
            "grid_auto_flow": null,
            "grid_area": null,
            "grid_template_columns": null,
            "flex": null,
            "_model_name": "LayoutModel",
            "justify_items": null,
            "grid_row": null,
            "max_height": null,
            "align_content": null,
            "visibility": null,
            "align_self": null,
            "height": null,
            "min_height": null,
            "padding": null,
            "grid_auto_rows": null,
            "grid_gap": null,
            "max_width": null,
            "order": null,
            "_view_module_version": "1.2.0",
            "grid_template_areas": null,
            "object_position": null,
            "object_fit": null,
            "grid_auto_columns": null,
            "margin": null,
            "display": null,
            "left": null
          }
        },
        "18d502ca87084b608c885a0eb44dd971": {
          "model_module": "@jupyter-widgets/controls",
          "model_name": "ProgressStyleModel",
          "model_module_version": "1.5.0",
          "state": {
            "_view_name": "StyleView",
            "_model_name": "ProgressStyleModel",
            "description_width": "",
            "_view_module": "@jupyter-widgets/base",
            "_model_module_version": "1.5.0",
            "_view_count": null,
            "_view_module_version": "1.2.0",
            "bar_color": null,
            "_model_module": "@jupyter-widgets/controls"
          }
        },
        "0063ce0fea594a75bd4241ee0650a08b": {
          "model_module": "@jupyter-widgets/base",
          "model_name": "LayoutModel",
          "model_module_version": "1.2.0",
          "state": {
            "_view_name": "LayoutView",
            "grid_template_rows": null,
            "right": null,
            "justify_content": null,
            "_view_module": "@jupyter-widgets/base",
            "overflow": null,
            "_model_module_version": "1.2.0",
            "_view_count": null,
            "flex_flow": null,
            "width": null,
            "min_width": null,
            "border": null,
            "align_items": null,
            "bottom": null,
            "_model_module": "@jupyter-widgets/base",
            "top": null,
            "grid_column": null,
            "overflow_y": null,
            "overflow_x": null,
            "grid_auto_flow": null,
            "grid_area": null,
            "grid_template_columns": null,
            "flex": null,
            "_model_name": "LayoutModel",
            "justify_items": null,
            "grid_row": null,
            "max_height": null,
            "align_content": null,
            "visibility": null,
            "align_self": null,
            "height": null,
            "min_height": null,
            "padding": null,
            "grid_auto_rows": null,
            "grid_gap": null,
            "max_width": null,
            "order": null,
            "_view_module_version": "1.2.0",
            "grid_template_areas": null,
            "object_position": null,
            "object_fit": null,
            "grid_auto_columns": null,
            "margin": null,
            "display": null,
            "left": null
          }
        },
        "95f751835b1448538c274a61026979da": {
          "model_module": "@jupyter-widgets/controls",
          "model_name": "DescriptionStyleModel",
          "model_module_version": "1.5.0",
          "state": {
            "_view_name": "StyleView",
            "_model_name": "DescriptionStyleModel",
            "description_width": "",
            "_view_module": "@jupyter-widgets/base",
            "_model_module_version": "1.5.0",
            "_view_count": null,
            "_view_module_version": "1.2.0",
            "_model_module": "@jupyter-widgets/controls"
          }
        },
        "6b0319f8c46a41628c07281a54706a43": {
          "model_module": "@jupyter-widgets/base",
          "model_name": "LayoutModel",
          "model_module_version": "1.2.0",
          "state": {
            "_view_name": "LayoutView",
            "grid_template_rows": null,
            "right": null,
            "justify_content": null,
            "_view_module": "@jupyter-widgets/base",
            "overflow": null,
            "_model_module_version": "1.2.0",
            "_view_count": null,
            "flex_flow": null,
            "width": null,
            "min_width": null,
            "border": null,
            "align_items": null,
            "bottom": null,
            "_model_module": "@jupyter-widgets/base",
            "top": null,
            "grid_column": null,
            "overflow_y": null,
            "overflow_x": null,
            "grid_auto_flow": null,
            "grid_area": null,
            "grid_template_columns": null,
            "flex": null,
            "_model_name": "LayoutModel",
            "justify_items": null,
            "grid_row": null,
            "max_height": null,
            "align_content": null,
            "visibility": null,
            "align_self": null,
            "height": null,
            "min_height": null,
            "padding": null,
            "grid_auto_rows": null,
            "grid_gap": null,
            "max_width": null,
            "order": null,
            "_view_module_version": "1.2.0",
            "grid_template_areas": null,
            "object_position": null,
            "object_fit": null,
            "grid_auto_columns": null,
            "margin": null,
            "display": null,
            "left": null
          }
        }
      }
    }
  },
  "cells": [
    {
      "cell_type": "markdown",
      "metadata": {
        "id": "view-in-github",
        "colab_type": "text"
      },
      "source": [
        "<a href=\"https://colab.research.google.com/github/danielsaggau/LDSI_Project/blob/master/Generating_Legal_Text_with_Distil_GPT2_based_on_raw_Courtlistener_Data.ipynb\" target=\"_parent\"><img src=\"https://colab.research.google.com/assets/colab-badge.svg\" alt=\"Open In Colab\"/></a>"
      ]
    },
    {
      "cell_type": "code",
      "metadata": {
        "colab": {
          "base_uri": "https://localhost:8080/"
        },
        "id": "TLQirwA26_G9",
        "outputId": "c6621e7f-dc15-4c94-8d27-6d0be7f9eb1f"
      },
      "source": [
        "import os\n",
        "if os.environ.get(\"COLAB_GPU\", False):\n",
        "    !pip install -U datasets transformers\n",
        "import warnings\n",
        "import re\n",
        "import random\n",
        "import datasets\n",
        "import transformers\n",
        "import tensorflow as tf\n",
        "import numpy as np\n",
        "import pandas as pd\n",
        "import seaborn as sns\n",
        "from datetime import datetime\n",
        "from transformers import AutoTokenizer, TFGPT2LMHeadModel\n",
        "from datasets import Dataset, load_dataset\n",
        "import re\n",
        "import json\n",
        "import io\n",
        "from transformers import GPT2Tokenizer, TFGPT2LMHeadModel\n",
        "from tensorflow.keras import activations, optimizers, losses\n",
        "from spacy.lang.en import English\n",
        "from spacy.attrs import ORTH\n",
        "from tensorflow import keras"
      ],
      "execution_count": 1,
      "outputs": [
        {
          "output_type": "stream",
          "text": [
            "Collecting datasets\n",
            "  Downloading datasets-1.11.0-py3-none-any.whl (264 kB)\n",
            "\u001b[K     |████████████████████████████████| 264 kB 5.4 MB/s \n",
            "\u001b[?25hCollecting transformers\n",
            "  Downloading transformers-4.9.2-py3-none-any.whl (2.6 MB)\n",
            "\u001b[K     |████████████████████████████████| 2.6 MB 28.2 MB/s \n",
            "\u001b[?25hCollecting huggingface-hub<0.1.0\n",
            "  Downloading huggingface_hub-0.0.16-py3-none-any.whl (50 kB)\n",
            "\u001b[K     |████████████████████████████████| 50 kB 3.3 MB/s \n",
            "\u001b[?25hRequirement already satisfied: requests>=2.19.0 in /usr/local/lib/python3.7/dist-packages (from datasets) (2.23.0)\n",
            "Requirement already satisfied: tqdm>=4.42 in /usr/local/lib/python3.7/dist-packages (from datasets) (4.62.0)\n",
            "Requirement already satisfied: pyarrow!=4.0.0,>=1.0.0 in /usr/local/lib/python3.7/dist-packages (from datasets) (3.0.0)\n",
            "Requirement already satisfied: dill in /usr/local/lib/python3.7/dist-packages (from datasets) (0.3.4)\n",
            "Requirement already satisfied: pandas in /usr/local/lib/python3.7/dist-packages (from datasets) (1.1.5)\n",
            "Requirement already satisfied: packaging in /usr/local/lib/python3.7/dist-packages (from datasets) (21.0)\n",
            "Requirement already satisfied: multiprocess in /usr/local/lib/python3.7/dist-packages (from datasets) (0.70.12.2)\n",
            "Collecting fsspec>=2021.05.0\n",
            "  Downloading fsspec-2021.7.0-py3-none-any.whl (118 kB)\n",
            "\u001b[K     |████████████████████████████████| 118 kB 36.0 MB/s \n",
            "\u001b[?25hCollecting xxhash\n",
            "  Downloading xxhash-2.0.2-cp37-cp37m-manylinux2010_x86_64.whl (243 kB)\n",
            "\u001b[K     |████████████████████████████████| 243 kB 67.9 MB/s \n",
            "\u001b[?25hRequirement already satisfied: importlib-metadata in /usr/local/lib/python3.7/dist-packages (from datasets) (4.6.4)\n",
            "Requirement already satisfied: numpy>=1.17 in /usr/local/lib/python3.7/dist-packages (from datasets) (1.19.5)\n",
            "Requirement already satisfied: typing-extensions in /usr/local/lib/python3.7/dist-packages (from huggingface-hub<0.1.0->datasets) (3.7.4.3)\n",
            "Requirement already satisfied: filelock in /usr/local/lib/python3.7/dist-packages (from huggingface-hub<0.1.0->datasets) (3.0.12)\n",
            "Requirement already satisfied: pyparsing>=2.0.2 in /usr/local/lib/python3.7/dist-packages (from packaging->datasets) (2.4.7)\n",
            "Requirement already satisfied: chardet<4,>=3.0.2 in /usr/local/lib/python3.7/dist-packages (from requests>=2.19.0->datasets) (3.0.4)\n",
            "Requirement already satisfied: idna<3,>=2.5 in /usr/local/lib/python3.7/dist-packages (from requests>=2.19.0->datasets) (2.10)\n",
            "Requirement already satisfied: urllib3!=1.25.0,!=1.25.1,<1.26,>=1.21.1 in /usr/local/lib/python3.7/dist-packages (from requests>=2.19.0->datasets) (1.24.3)\n",
            "Requirement already satisfied: certifi>=2017.4.17 in /usr/local/lib/python3.7/dist-packages (from requests>=2.19.0->datasets) (2021.5.30)\n",
            "Collecting sacremoses\n",
            "  Downloading sacremoses-0.0.45-py3-none-any.whl (895 kB)\n",
            "\u001b[K     |████████████████████████████████| 895 kB 49.6 MB/s \n",
            "\u001b[?25hRequirement already satisfied: regex!=2019.12.17 in /usr/local/lib/python3.7/dist-packages (from transformers) (2019.12.20)\n",
            "Collecting pyyaml>=5.1\n",
            "  Downloading PyYAML-5.4.1-cp37-cp37m-manylinux1_x86_64.whl (636 kB)\n",
            "\u001b[K     |████████████████████████████████| 636 kB 53.2 MB/s \n",
            "\u001b[?25hCollecting huggingface-hub<0.1.0\n",
            "  Downloading huggingface_hub-0.0.12-py3-none-any.whl (37 kB)\n",
            "Collecting tokenizers<0.11,>=0.10.1\n",
            "  Downloading tokenizers-0.10.3-cp37-cp37m-manylinux_2_5_x86_64.manylinux1_x86_64.manylinux_2_12_x86_64.manylinux2010_x86_64.whl (3.3 MB)\n",
            "\u001b[K     |████████████████████████████████| 3.3 MB 17.2 MB/s \n",
            "\u001b[?25hRequirement already satisfied: zipp>=0.5 in /usr/local/lib/python3.7/dist-packages (from importlib-metadata->datasets) (3.5.0)\n",
            "Requirement already satisfied: python-dateutil>=2.7.3 in /usr/local/lib/python3.7/dist-packages (from pandas->datasets) (2.8.2)\n",
            "Requirement already satisfied: pytz>=2017.2 in /usr/local/lib/python3.7/dist-packages (from pandas->datasets) (2018.9)\n",
            "Requirement already satisfied: six>=1.5 in /usr/local/lib/python3.7/dist-packages (from python-dateutil>=2.7.3->pandas->datasets) (1.15.0)\n",
            "Requirement already satisfied: joblib in /usr/local/lib/python3.7/dist-packages (from sacremoses->transformers) (1.0.1)\n",
            "Requirement already satisfied: click in /usr/local/lib/python3.7/dist-packages (from sacremoses->transformers) (7.1.2)\n",
            "Installing collected packages: xxhash, tokenizers, sacremoses, pyyaml, huggingface-hub, fsspec, transformers, datasets\n",
            "  Attempting uninstall: pyyaml\n",
            "    Found existing installation: PyYAML 3.13\n",
            "    Uninstalling PyYAML-3.13:\n",
            "      Successfully uninstalled PyYAML-3.13\n",
            "Successfully installed datasets-1.11.0 fsspec-2021.7.0 huggingface-hub-0.0.12 pyyaml-5.4.1 sacremoses-0.0.45 tokenizers-0.10.3 transformers-4.9.2 xxhash-2.0.2\n"
          ],
          "name": "stdout"
        }
      ]
    },
    {
      "cell_type": "code",
      "metadata": {
        "id": "i8N12aOSVEHE"
      },
      "source": [
        "pd.options.display.max_colwidth = 6000\n",
        "pd.options.display.max_rows = 400\n",
        "np.set_printoptions(suppress=True)\n",
        "warnings.filterwarnings(\"ignore\")\n",
        "# Log Level and suppress extensive tf warnings\n",
        "os.environ[\"TRANSFORMERS_VERBOSITY\"] = \"info\"\n",
        "tf.compat.v1.logging.set_verbosity(tf.compat.v1.logging.ERROR)\n",
        "print(tf.__version__)\n",
        "print(transformers.__version__)\n",
        "PATH_BASE =\"/content\""
      ],
      "execution_count": null,
      "outputs": []
    },
    {
      "cell_type": "code",
      "metadata": {
        "id": "2PtcTgVyBiqb"
      },
      "source": [
        "data = pd.read_pickle(\"/Users/danielsaggau/PycharmProjects/pythonProject/data/opinions_data.pkl\")\n",
        "#subset to data that also entails actual opinions; remove page count = 0 / NaN\n",
        "data = data[~data['page_count'].isnull()] # remove empty pages\n",
        "\n",
        "text = data['plain_text']\n",
        "author = data['author']\n",
        "url = data['download_url']\n",
        "html = data['html']\n",
        "id = data['id']\n",
        "\n",
        "text = data['plain_text'] # subset\n",
        "# cleaning text file\n",
        "text = text.replace(\"plain_text\", \" \")\n",
        "text = text.replace(\"  \", \" \")\n",
        "\n",
        "text = text.str.replace(\"\\n\",\" \")\n",
        "text = text.str.replace(\"FILED\", \"\")\n",
        "text = text.str.replace(\"NOT FOR PUBLICATION\", \"\")\n",
        "text = text.str.replace(\"FOR PUBLICATION\", \"\")\n",
        "text = text.str.replace(\"UNITED STATES COURT OF APPEALS\", \"\")\n",
        "text = text.str.replace(\"U.S. COURT OF APPEALS\", \"\")\n",
        "text = text.str.replace(\"U .S. COURT OF APPEALS\", \"\")\n",
        "text = text.str.replace(\"U .S. COURT OF APPEALS\", \"\")\n",
        "text = text.str.replace(\"UNITED STATES OF AMERICA\", \"\")\n",
        "text = text.str.replace(\"\\x0c\",\"\")\n",
        "text = text.str.replace(\"\\uf8fc\",\"\")\n",
        "text = text.str.replace(\"\\uf8fd\",\"\")\n",
        "text = text.str.replace(\"\\uf8fe\", \" \")\n",
        "text = text.str.replace(\"FOR THE NINTH CIRCUIT\", \"\")\n",
        "text = text.str.replace(\"Appeal from the United States District Court\", \"\")\n",
        "text = text.str.replace(\"[*]\",\"\")\n",
        "text = text.str.replace(\"\\*\\*\",\"\")\n",
        "text = text.str.replace(\"\\n\\n\",\"\")\n",
        "text = text.str.replace(\"MOLLY C. DWYER, CLERK\", \" \")\n",
        "text = text.str.replace(\"U .S. C O U R T OF APPE ALS\", \" \")\n",
        "text = text.str.replace(\"  \", \" \")\n",
        "data['length'] = text.str.len()\n",
        "\n",
        "\n",
        "text.to_csv('/Users/danielsaggau/PycharmProjects/pythonProject/data/output.txt', sep='\\n', index=False)"
      ],
      "execution_count": null,
      "outputs": []
    },
    {
      "cell_type": "code",
      "metadata": {
        "id": "KBn_kK5DUOih"
      },
      "source": [
        "# removing xml markup, symbols and starting text\n",
        "text = open(\"/Users/danielsaggau/PycharmProjects/pythonProject/data/output.txt\", \"r\").read()\n",
        "\n",
        "nlp = English()\n",
        "nlp.add_pipe(\"sentencizer\")\n",
        "\n",
        "# adding special tokens\n",
        "nlp.tokenizer.add_special_case('§.', [{ORTH: '§.'}])\n",
        "nlp.tokenizer.add_special_case('Cir.', [{ORTH: 'Cir.'}])\n",
        "nlp.tokenizer.add_special_case('Fed.', [{ORTH: 'Fed.'}])\n",
        "nlp.tokenizer.add_special_case('NO.', [{ORTH: 'NO.'}])\n",
        "nlp.tokenizer.add_special_case('App.', [{ORTH: 'App.'}])\n",
        "nlp.tokenizer.add_special_case('Civ.', [{ORTH: 'Civ.'}])\n",
        "nlp.tokenizer.add_special_case('No.', [{ORTH: 'No.'}])\n",
        "nlp.tokenizer.add_special_case('Dkt.', [{ORTH: 'Dkt.'}])\n",
        "nlp.tokenizer.add_special_case('et al.', [{ORTH: 'et al.'}])\n",
        "nlp.tokenizer.add_special_case('D.C.', [{ORTH: 'D.C.'}])\n",
        "nlp.tokenizer.add_special_case('No.', [{ORTH: 'No.'}])\n",
        "nlp.tokenizer.add_special_case('Nos.', [{ORTH: 'Nos.'}])\n",
        "nlp.tokenizer.add_special_case('Fed.', [{ORTH: 'Fed.'}])\n",
        "nlp.tokenizer.add_special_case('U.S.C.', [{ORTH: 'U.S.C.'}])\n",
        "nlp.tokenizer.add_special_case(' F.', [{ORTH: 'F.'}])\n",
        "nlp.tokenizer.add_special_case(' R.', [{ORTH: 'R.'}])\n",
        "nlp.tokenizer.add_special_case(' P.', [{ORTH: 'P.'}])\n",
        "nlp.tokenizer.add_special_case(' n.', [{ORTH: ' n.'}])\n",
        "nlp.tokenizer.add_special_case(' v.', [{ORTH: ' v.'}]) # versus\n",
        "nlp.tokenizer.add_special_case('Univ.', [{ORTH: 'Univ.'}])\n",
        "nlp.tokenizer.add_special_case('Jr.', [{ORTH: 'Jr.'}])\n",
        "nlp.tokenizer.add_special_case('I.N.S.', [{ORTH: 'I.N.S.'}])\n",
        "nlp.tokenizer.add_special_case('OR.', [{ORTH: 'OR.'}])\n",
        "nlp.tokenizer.add_special_case('REV.', [{ORTH: 'REV.'}])\n",
        "nlp.tokenizer.add_special_case('STAT.', [{ORTH: 'STAT.'}])\n",
        "doc = nlp(text[:1000000])\n",
        "sentences = list(sents.text for sents in doc.sents) # ensure that we get strings and not spans"
      ],
      "execution_count": null,
      "outputs": []
    },
    {
      "cell_type": "code",
      "metadata": {
        "id": "bvNz8PG_UZKa"
      },
      "source": [
        "batch = []\n",
        "for sent in sentences:\n",
        "    sent_new = \" \".join([sent, '<eos>'])\n",
        "    batch.append(sent_new)"
      ],
      "execution_count": null,
      "outputs": []
    },
    {
      "cell_type": "markdown",
      "metadata": {
        "id": "0dHUk_zypzx0"
      },
      "source": [
        "Test and sanity check"
      ]
    },
    {
      "cell_type": "code",
      "metadata": {
        "id": "F5tzJsC7ptir"
      },
      "source": [
        "batch[:100]"
      ],
      "execution_count": null,
      "outputs": []
    },
    {
      "cell_type": "code",
      "metadata": {
        "id": "tv7tL6rnp3Dw"
      },
      "source": [
        "tokenizer = GPT2Tokenizer.from_pretrained(\"gpt2\")\n",
        "RE_SPLITTER = '<eos>'\n",
        "\n",
        "MODEL_MAX_LEN = 256 # needs to be corrected\n",
        "\n",
        "sent= []"
      ],
      "execution_count": null,
      "outputs": []
    },
    {
      "cell_type": "code",
      "metadata": {
        "id": "c7CGvU8Dpbep"
      },
      "source": [
        "def chunk_text(text, num_tok):\n",
        "    text_sent = \\\n",
        "        [sent.strip() + '.' for sent in re.split(RE_SPLITTER, text) if len(sent) > 1]\n",
        "\n",
        "    # calculate number of tokens per sentence\n",
        "    num_tok_sent = [len(tokenizer.tokenize(sent)) for sent in text_sent]\n",
        "\n",
        "    # calculate chunk dimension to fit into model\n",
        "    n = int(np.ceil(num_tok / MODEL_MAX_LEN))\n",
        "    len_chunk = int(num_tok / n)\n",
        "\n",
        "    # get a more uniform splitting to avoid splits\n",
        "    # which are too short at the end\n",
        "    if len_chunk + 50 > MODEL_MAX_LEN:\n",
        "        len_chunk = int(num_tok / (n + 1))\n",
        "\n",
        "    len_curr = 0\n",
        "    text_curr = []\n",
        "    text_chunk = []\n",
        "    for te, len_sent in zip(text_sent, num_tok_sent):\n",
        "\n",
        "        if len_curr + len_sent < len_chunk:\n",
        "            text_curr.append(te)\n",
        "            len_curr += len_sent\n",
        "\n",
        "        elif len_curr + len_sent >= MODEL_MAX_LEN:\n",
        "            text_chunk.append(text_curr)\n",
        "\n",
        "            text_curr = [te]\n",
        "            len_curr = len_sent\n",
        "\n",
        "        else:  # >= len_chunk && < MODEL_MAX_LEN\n",
        "            text_curr.append(te)\n",
        "            text_chunk.append(text_curr)\n",
        "\n",
        "            text_curr = []\n",
        "            len_curr = 0\n",
        "\n",
        "    if len_curr > 0:\n",
        "        text_chunk.append(text_curr)\n",
        "\n",
        "    return text_chunk"
      ],
      "execution_count": null,
      "outputs": []
    },
    {
      "cell_type": "code",
      "metadata": {
        "id": "r_3dm0xkp5En"
      },
      "source": [
        "joined = ''.join(b)\n",
        "chunky = chunk_text(joined, 256)\n",
        "\n",
        "flat_list = [''.join(x) for x in chunky]\n",
        "\n",
        "#with open(\"data/chunks.txt\", \"r\") as fp:\n",
        "#    b = json.load(fp)\n",
        "with open(\"data/sentence_chunks.json\", \"w\") as fp:\n",
        "#    json.dump(chunky, fp)\n",
        "with open(\"data/flat_list.json\", \"w\") as fp:\n",
        "    json.dump(flat_list, fp)"
      ],
      "execution_count": null,
      "outputs": []
    },
    {
      "cell_type": "code",
      "metadata": {
        "colab": {
          "base_uri": "https://localhost:8080/"
        },
        "id": "9aYbprMv9CCi",
        "outputId": "c1a47f69-5691-4c80-c809-9cf273896486"
      },
      "source": [
        "# Try to run on TPU if available\n",
        "# Detect hardware, return appropriate distribution strategy\n",
        "try:\n",
        "    tpu = tf.distribute.cluster_resolver.TPUClusterResolver()  # TPU detection\n",
        "    print(\"Running on TPU \", tpu.cluster_spec().as_dict()[\"worker\"])\n",
        "except ValueError:\n",
        "    tpu = None\n",
        "if tpu:\n",
        "    tf.config.experimental_connect_to_cluster(tpu)\n",
        "    tf.tpu.experimental.initialize_tpu_system(tpu)\n",
        "    strategy = tf.distribute.TPUStrategy(tpu)\n",
        "else:\n",
        "    strategy = tf.distribute.get_strategy()\n",
        "print(\"REPLICAS: \", strategy.num_replicas_in_sync)"
      ],
      "execution_count": 5,
      "outputs": [
        {
          "output_type": "stream",
          "text": [
            "Running on TPU  ['10.24.177.242:8470']\n"
          ],
          "name": "stdout"
        },
        {
          "output_type": "stream",
          "text": [
            "INFO:absl:Entering into master device scope: /job:worker/replica:0/task:0/device:CPU:0\n"
          ],
          "name": "stderr"
        },
        {
          "output_type": "stream",
          "text": [
            "REPLICAS:  8\n"
          ],
          "name": "stdout"
        }
      ]
    },
    {
      "cell_type": "code",
      "metadata": {
        "id": "0hpahHHg6Zpi"
      },
      "source": [
        "data = pd.read_json('/content/flat_list.json')\n",
        "data.to_csv(\"/content/data.csv\", index=False)"
      ],
      "execution_count": 7,
      "outputs": []
    },
    {
      "cell_type": "code",
      "metadata": {
        "colab": {
          "base_uri": "https://localhost:8080/",
          "height": 1000
        },
        "id": "bWBOHeba-I8F",
        "outputId": "6e7660d6-5611-408b-8b69-1fbeb9672c81"
      },
      "source": [
        "data[80:100]"
      ],
      "execution_count": 9,
      "outputs": [
        {
          "output_type": "execute_result",
          "data": {
            "text/html": [
              "<div>\n",
              "<style scoped>\n",
              "    .dataframe tbody tr th:only-of-type {\n",
              "        vertical-align: middle;\n",
              "    }\n",
              "\n",
              "    .dataframe tbody tr th {\n",
              "        vertical-align: top;\n",
              "    }\n",
              "\n",
              "    .dataframe thead th {\n",
              "        text-align: right;\n",
              "    }\n",
              "</style>\n",
              "<table border=\"1\" class=\"dataframe\">\n",
              "  <thead>\n",
              "    <tr style=\"text-align: right;\">\n",
              "      <th></th>\n",
              "      <th>0</th>\n",
              "    </tr>\n",
              "  </thead>\n",
              "  <tbody>\n",
              "    <tr>\n",
              "      <th>80</th>\n",
              "      <td>see also Cook, 593 F.3d at 817–18 (holding that the prosecutor’s justification for striking a juror was “not clearly pretextual” because “it is plausible that daily contact with lawyers would shape a person’s perception of a trial”)..Concern that a juror might have reason to sympathize or identify with the defendant, regardless of whether the identifying feature relates to the merits of the case, is “relevant” under Batson..See, e.g., Rice, 546 U.S. at 341 (upholding age, single status, and lack of ties to the community as valid bases to exclude a juror in a drug case because they might make the juror more sympathetic to the defendant);.</td>\n",
              "    </tr>\n",
              "    <tr>\n",
              "      <th>81</th>\n",
              "      <td>Williams v. Rhoades, 354 F.3d 1101, 1109–10 (9th Cir. 2004) (fear that a juror might identify with the defendant because both had young sons was a valid, race- neutral reason to exercise a peremptory strike);.see also United States v. Brown, 560 F.3d 754, 763 (8th Cir. 2009) (upholding the strike of a prospective juror from a murder trial because both the juror and the defendant received public assistance and the juror might identify with the defendant on that basis)..Thus, in this case, the prosecutor’s fear that Juror #4856 might identify with Jamerson because both suffered from a physical ailment qualifies as relevant in the sense Batson contemplates..</td>\n",
              "    </tr>\n",
              "    <tr>\n",
              "      <th>82</th>\n",
              "      <td>JAMERSON V ..RUNNELS       19  The magistrate judge’s related concern about “the record [being] devoid of anything suggesting that suffering from hepatitis would make [the juror] inherently sympathetic toward petitioner,” failed to take into account the proper burden of proof and to afford appropriate deference to the state courts..The prosecutor need not establish with evidence on the record that her voir dire instincts are objectively correct;.instead, the defendant must show that the prosecutor’s reasons are not subjectively genuine..Rice, 546 U.S. at 338 (citing Purkett, 514 U.S. at 768);.</td>\n",
              "    </tr>\n",
              "    <tr>\n",
              "      <th>83</th>\n",
              "      <td>Kesser, 465 F.3d at 359 (quoting Hernandez, 500 U.S. at 365)..Though hepatitis and a leg disability are not identical—or even closely related—medical conditions, both are permanent physical ailments that impact a person’s everyday life in a significant way..The state appellate court was not unreasonable to believe that the prosecutor genuinely saw these permanent conditions as a shared experience between the defendant and the juror, which might give rise to empathy and bias, especially when viewed through our doubly deferential lens..Second, the magistrate judge believed that “[t]he fact that the prosecutor did not ask [the juror] any questions about his illness confirms that her reason was pretextual.”.</td>\n",
              "    </tr>\n",
              "    <tr>\n",
              "      <th>84</th>\n",
              "      <td>An examination of the record belies this conclusion..Throughout the entire voir dire process, the court—and not the attorneys—conducted the questioning of the jurors..The prosecutor’s failure to question a juror cannot be held against her when attorney questioning did not occur during voir dire.6  6  The magistrate judge proffered this same reason as one basis for rejecting the prosecutor’s justifications for striking Juror #0970, Juror #0619, and Juror #3117D, as well..W e conclude that he was incorrect in considering this as evidence of discriminatory intent in each instance..</td>\n",
              "    </tr>\n",
              "    <tr>\n",
              "      <th>85</th>\n",
              "      <td>20     JAMERSON V ..RUNNELS See Miller-El II, 545 U.S. at 243–44 (finding that a prosecutor’s failure to question a juror further was evidence of a discriminatory motive where the prosecutor was personally questioning the jurors at length during voir dire)..In sum, even though the prosecutor’s reason for excusing the juror may not have been compelling and “[r]easonable minds reviewing the record might disagree about the prosecutor’s credibility,” there is not sufficient evidence to “supersede the trial court’s credibility determination” under our doubly deferential standard of review..</td>\n",
              "    </tr>\n",
              "    <tr>\n",
              "      <th>86</th>\n",
              "      <td>Rice, 546 U.S. at 341–42..Thus, we conclude that the state was not unreasonable in finding that the prosecutor’s justification for challenging Juror #4856 was genuine..2  Juror #0970, a black female, was a married social services employee with two adult daughters..In the 1980s, her brother was convicted of arson and possession of drugs..He served time for those offenses..Although she had not attended any of the proceedings, she believed that her brother was treated “fairly.”.She also indicated that she “had a brother [who] was killed in San Bernardino in 1989.”.</td>\n",
              "    </tr>\n",
              "    <tr>\n",
              "      <th>87</th>\n",
              "      <td>No one was arrested or charged with the crime..In response to a question about whether the investigation was handled adequately, she stated, “Adequately..They never found any witnesses, and I am not sure exactly what occurred.”.The prosecutor exercised her second peremptory challenge to dismiss this juror..When asked to explain the reason for her challenge, the prosecutor stated:.JAMERSON V ..RUNNELS      21   She also has brothers serving time in prison   and another brother killed in 1991..No charge   because nobody was found..For my   witnesses, I felt she may have some   reservation about the police and how they   were actively or not actively looking because   this case deals with somewhat locating   witnesses..</td>\n",
              "    </tr>\n",
              "    <tr>\n",
              "      <th>88</th>\n",
              "      <td>I would have reservations about   her..As with Juror #4856, the trial court found the prosecutor’s stated reasons “valid” and “independent.”.Based in large part on the credibility finding of the trial court, the court of appeal affirmed..The prosecutor proffered two reasons for striking Juror #0970: (.1) she had a brother who served time in prison for arson and drug crimes, and (2) her other brother was the victim of an unsolved murder..Comparing this juror to other jurors who shared these same characteristics, the State argues that comparative analysis does not undermine the rationale that the prosecutor proffered, contrary to the conclusion of the magistrate judge..</td>\n",
              "    </tr>\n",
              "    <tr>\n",
              "      <th>89</th>\n",
              "      <td>The State first argues that comparative analysis does not undercut the prosecutor’s reliance on the conviction of this juror’s brother..Jamerson identifies three non-black jurors who were allowed to remain on the panel and who also knew someone that was associated with a crime—Juror #2918, Juror #6375, and Juror #4241..He asserts that, in light of the prosecutor’s failure to strike these jurors, comparative analysis does undermine the prosecutor’s first stated justification..Upon close review, however, it appears that Jamerson cast his comparative net too broadly..The 22    JAMERSON V ..</td>\n",
              "    </tr>\n",
              "    <tr>\n",
              "      <th>90</th>\n",
              "      <td>RUNNELS purported parallels between these jurors and Juror #0970 provide, at best, weak evidence of a discriminatory motive, insufficient to render the state court’s conclusions unreasonable..At the outset, we note that Juror #4241 cannot properly be classified as similarly situated to Juror #0970 because the prosecutor was unaware of his sister’s conviction..After a new group of jurors—including Juror #4241—answered a set of form questions, the prosecutor requested a sidebar..The following dialogue then took place:.[Prosecutor]:.I think I missed some  information on juror [#4241]..</td>\n",
              "    </tr>\n",
              "    <tr>\n",
              "      <th>91</th>\n",
              "      <td>Did he say his  sister was arrested?.Court:.Say what?.[Prosecutor]:.Did he say his sister was  arrested?.[Defense]:.No. He said his house was  burglarized and he went to court to testify..[Prosecutor]:.Oh, okay..So he never said  anything about drug possession?.I don’t  know where I picked that up..Court:.Number [4241]?.No.   [Prosecutor]:.Okay..Because the prosecutor was assured that Juror #4241’s sister had not been arrested for a crime, he was not similarly     JAMERSON V ..</td>\n",
              "    </tr>\n",
              "    <tr>\n",
              "      <th>92</th>\n",
              "      <td>RUNNELS      23 situated to Juror #0970 from the prosecutor’s perspective..Failure to strike him, therefore, cannot be considered evidence of a discriminatory purpose..Cf..Miller El II, 545 U.S. at 242–45 (discrediting the prosecutor’s proffered explanation where written responses of white jurors allowed to serve were the same as written responses of a black juror who was struck)..Indeed, in calling a sidebar to clarify Juror #4241’s response about his sister’s conviction, the prosecutor actually increased the credibility of her justification for striking Juror #0970, as she showed a special interest in the prior conviction of a non-black juror’s close relative..</td>\n",
              "    </tr>\n",
              "    <tr>\n",
              "      <th>93</th>\n",
              "      <td>Cf..id..at 244 (holding that a prosecutor “would have cleared up any misunderstanding by asking further questions” if he truly considered a race-neutral characteristic grounds for a peremptory strike)..Turning to Jurors #2918 and #6375, a complete side-by- side comparison shows that the parallels between these jurors and Juror #0970 are relatively weak and offer little evidence of a discriminatory motive..The prosecutor consistently struck both black and non-black jurors who, like Juror #0970, had close relatives who committed serious crimes and were incarcerated for them..Before striking Juror #0970, the prosecutor struck Juror #6309, a non-black woman whose son was serving time in prison for kidnaping and robbery..</td>\n",
              "    </tr>\n",
              "    <tr>\n",
              "      <th>94</th>\n",
              "      <td>Later, the prosecutor also struck Juror #6207, a non-black woman whose husband was incarcerated and about to be tried for felony evading..These non-black jurors’ situations are more analogous to the situation of Juror #0970 than Juror #6375’s, whose “daughter ha[d] a friend who is incarcerated,” and Juror #2918’s, whose brother was merely arrested for a possible DUI six or seven years prior..24     JAMERSON V ..RUNNELS  By exercising peremptory strikes against non-black jurors who had close relatives incarcerated, therefore, the prosecutor evidenced a sincere concern for the same problematic trait she identified in Juror #0970;.</td>\n",
              "    </tr>\n",
              "    <tr>\n",
              "      <th>95</th>\n",
              "      <td>her failure to exercise peremptory strikes against other non-black jurors who shared weak parallels with this juror, although prompting us to scrutinize her actions more carefully, ultimately does little to undermine the stated justification..See Cook, 593 F.3d at 817..It certainly does not convince us that the state court was unreasonable in crediting the prosecutor’s rationale under our doubly deferential standard of review..Moving to the prosecutor’s second stated reason for striking this juror—that her other brother’s murder was never solved—the State argues that the California courts were reasonable in crediting this rationale..</td>\n",
              "    </tr>\n",
              "    <tr>\n",
              "      <th>96</th>\n",
              "      <td>Jamerson counters by again identifying three non-black jurors who were allowed to serve despite purportedly sharing the same background:.Juror #2918, Juror #6375, and Juror #3136..Again, however, a full comparative analysis reveals little to undercut the state court’s conclusion that the prosecutor was applying genuine, race-neutral standards..During voir dire, the prosecutor repeatedly challenged jurors of all races who had an experience with an unsolved violent crime, but retained jurors who were the victims of lesser crimes..This pattern is first evident in the prosecutor’s disparate treatment of Juror #0970 and Juror #6824, both black prospective jurors..</td>\n",
              "    </tr>\n",
              "    <tr>\n",
              "      <th>97</th>\n",
              "      <td>While the prosecutor struck Juror #0970, whose brother’s murder had not been solved, the prosecutor accepted Juror #6824, who was the victim of an unsolved home burglary..The prosecutor’s treatment of non-black jurors followed the same trend..The prosecutor struck Juror #3605, a white juror whose friend was shot during an unsolved robbery in Compton, and Juror #2333, a white juror who was the victim      JAMERSON V ..RUNNELS       25 of an unsolved robbery at gunpoint..But the prosecutor accepted Juror #3136, who had $200 stolen in New Orleans, and Juror #2918, who was the victim of a car theft and home burglary..</td>\n",
              "    </tr>\n",
              "    <tr>\n",
              "      <th>98</th>\n",
              "      <td>Even more telling, unlike any of the other jurors, Juror #0970 specifically volunteered that the local police “never found any witnesses” to her brother’s murder—raising the exact concern of the prosecutor in rooting out victims of unsolved crimes..Although the prosecutor’s failure to strike Juror #3136 arouses some suspicion about her reasoning, as Juror #3136 expressed a stronger feeling that law enforcement was “pretty lax” when investigating his theft, the relevant similarities between these jurors, and thus the evidence of a discriminatory motive, are faint as Juror #3136 emphasized that the New Orleans police department conducted the investigation into his theft and that locally “it would be handled differently.”.</td>\n",
              "    </tr>\n",
              "    <tr>\n",
              "      <th>99</th>\n",
              "      <td>In short, even though jurors need not be “exactly identical” to infer pretext from a comparative pattern of strikes, Miller-El II, 545 U.S. at 247 n.6, the evidence in this instance of weak parallels between Juror #0970 and other jurors who remained on the panel does not convince us that the state court was unreasonable in finding the prosecutor’s justifications believable..Consequently, under our doubly deferential standard of review, Jamerson’s challenge to Juror #0970 does not warrant habeas relief.7 See Rice, 546 U.S. at  7 The magistrate judge’s finding of discriminatory intent rested on two other grounds, neither of which is sufficient to raise an inference of discriminatory motive..</td>\n",
              "    </tr>\n",
              "  </tbody>\n",
              "</table>\n",
              "</div>"
            ],
            "text/plain": [
              "                                                                                                                                                                                                                                                                                                                                                                                                                                                                                                                                                                                                                                                                                                                                                            0\n",
              "80                                                                                      see also Cook, 593 F.3d at 817–18 (holding that the prosecutor’s justification for striking a juror was “not clearly pretextual” because “it is plausible that daily contact with lawyers would shape a person’s perception of a trial”)..Concern that a juror might have reason to sympathize or identify with the defendant, regardless of whether the identifying feature relates to the merits of the case, is “relevant” under Batson..See, e.g., Rice, 546 U.S. at 341 (upholding age, single status, and lack of ties to the community as valid bases to exclude a juror in a drug case because they might make the juror more sympathetic to the defendant);.\n",
              "81                                                                    Williams v. Rhoades, 354 F.3d 1101, 1109–10 (9th Cir. 2004) (fear that a juror might identify with the defendant because both had young sons was a valid, race- neutral reason to exercise a peremptory strike);.see also United States v. Brown, 560 F.3d 754, 763 (8th Cir. 2009) (upholding the strike of a prospective juror from a murder trial because both the juror and the defendant received public assistance and the juror might identify with the defendant on that basis)..Thus, in this case, the prosecutor’s fear that Juror #4856 might identify with Jamerson because both suffered from a physical ailment qualifies as relevant in the sense Batson contemplates..\n",
              "82                                                                                                                                   JAMERSON V ..RUNNELS       19  The magistrate judge’s related concern about “the record [being] devoid of anything suggesting that suffering from hepatitis would make [the juror] inherently sympathetic toward petitioner,” failed to take into account the proper burden of proof and to afford appropriate deference to the state courts..The prosecutor need not establish with evidence on the record that her voir dire instincts are objectively correct;.instead, the defendant must show that the prosecutor’s reasons are not subjectively genuine..Rice, 546 U.S. at 338 (citing Purkett, 514 U.S. at 768);.\n",
              "83                  Kesser, 465 F.3d at 359 (quoting Hernandez, 500 U.S. at 365)..Though hepatitis and a leg disability are not identical—or even closely related—medical conditions, both are permanent physical ailments that impact a person’s everyday life in a significant way..The state appellate court was not unreasonable to believe that the prosecutor genuinely saw these permanent conditions as a shared experience between the defendant and the juror, which might give rise to empathy and bias, especially when viewed through our doubly deferential lens..Second, the magistrate judge believed that “[t]he fact that the prosecutor did not ask [the juror] any questions about his illness confirms that her reason was pretextual.”.\n",
              "84                                                                                                                                                  An examination of the record belies this conclusion..Throughout the entire voir dire process, the court—and not the attorneys—conducted the questioning of the jurors..The prosecutor’s failure to question a juror cannot be held against her when attorney questioning did not occur during voir dire.6  6  The magistrate judge proffered this same reason as one basis for rejecting the prosecutor’s justifications for striking Juror #0970, Juror #0619, and Juror #3117D, as well..W e conclude that he was incorrect in considering this as evidence of discriminatory intent in each instance..\n",
              "85                                                                                                                                           20     JAMERSON V ..RUNNELS See Miller-El II, 545 U.S. at 243–44 (finding that a prosecutor’s failure to question a juror further was evidence of a discriminatory motive where the prosecutor was personally questioning the jurors at length during voir dire)..In sum, even though the prosecutor’s reason for excusing the juror may not have been compelling and “[r]easonable minds reviewing the record might disagree about the prosecutor’s credibility,” there is not sufficient evidence to “supersede the trial court’s credibility determination” under our doubly deferential standard of review..\n",
              "86                                                                                                                                                                   Rice, 546 U.S. at 341–42..Thus, we conclude that the state was not unreasonable in finding that the prosecutor’s justification for challenging Juror #4856 was genuine..2  Juror #0970, a black female, was a married social services employee with two adult daughters..In the 1980s, her brother was convicted of arson and possession of drugs..He served time for those offenses..Although she had not attended any of the proceedings, she believed that her brother was treated “fairly.”.She also indicated that she “had a brother [who] was killed in San Bernardino in 1989.”.\n",
              "87     No one was arrested or charged with the crime..In response to a question about whether the investigation was handled adequately, she stated, “Adequately..They never found any witnesses, and I am not sure exactly what occurred.”.The prosecutor exercised her second peremptory challenge to dismiss this juror..When asked to explain the reason for her challenge, the prosecutor stated:.JAMERSON V ..RUNNELS      21   She also has brothers serving time in prison   and another brother killed in 1991..No charge   because nobody was found..For my   witnesses, I felt she may have some   reservation about the police and how they   were actively or not actively looking because   this case deals with somewhat locating   witnesses..\n",
              "88                                                       I would have reservations about   her..As with Juror #4856, the trial court found the prosecutor’s stated reasons “valid” and “independent.”.Based in large part on the credibility finding of the trial court, the court of appeal affirmed..The prosecutor proffered two reasons for striking Juror #0970: (.1) she had a brother who served time in prison for arson and drug crimes, and (2) her other brother was the victim of an unsolved murder..Comparing this juror to other jurors who shared these same characteristics, the State argues that comparative analysis does not undermine the rationale that the prosecutor proffered, contrary to the conclusion of the magistrate judge..\n",
              "89                                                                                                                                         The State first argues that comparative analysis does not undercut the prosecutor’s reliance on the conviction of this juror’s brother..Jamerson identifies three non-black jurors who were allowed to remain on the panel and who also knew someone that was associated with a crime—Juror #2918, Juror #6375, and Juror #4241..He asserts that, in light of the prosecutor’s failure to strike these jurors, comparative analysis does undermine the prosecutor’s first stated justification..Upon close review, however, it appears that Jamerson cast his comparative net too broadly..The 22    JAMERSON V ..\n",
              "90                                                                                                                                              RUNNELS purported parallels between these jurors and Juror #0970 provide, at best, weak evidence of a discriminatory motive, insufficient to render the state court’s conclusions unreasonable..At the outset, we note that Juror #4241 cannot properly be classified as similarly situated to Juror #0970 because the prosecutor was unaware of his sister’s conviction..After a new group of jurors—including Juror #4241—answered a set of form questions, the prosecutor requested a sidebar..The following dialogue then took place:.[Prosecutor]:.I think I missed some  information on juror [#4241]..\n",
              "91                                                                                                                                                                                                                                                         Did he say his  sister was arrested?.Court:.Say what?.[Prosecutor]:.Did he say his sister was  arrested?.[Defense]:.No. He said his house was  burglarized and he went to court to testify..[Prosecutor]:.Oh, okay..So he never said  anything about drug possession?.I don’t  know where I picked that up..Court:.Number [4241]?.No.   [Prosecutor]:.Okay..Because the prosecutor was assured that Juror #4241’s sister had not been arrested for a crime, he was not similarly     JAMERSON V ..\n",
              "92                                                            RUNNELS      23 situated to Juror #0970 from the prosecutor’s perspective..Failure to strike him, therefore, cannot be considered evidence of a discriminatory purpose..Cf..Miller El II, 545 U.S. at 242–45 (discrediting the prosecutor’s proffered explanation where written responses of white jurors allowed to serve were the same as written responses of a black juror who was struck)..Indeed, in calling a sidebar to clarify Juror #4241’s response about his sister’s conviction, the prosecutor actually increased the credibility of her justification for striking Juror #0970, as she showed a special interest in the prior conviction of a non-black juror’s close relative..\n",
              "93     Cf..id..at 244 (holding that a prosecutor “would have cleared up any misunderstanding by asking further questions” if he truly considered a race-neutral characteristic grounds for a peremptory strike)..Turning to Jurors #2918 and #6375, a complete side-by- side comparison shows that the parallels between these jurors and Juror #0970 are relatively weak and offer little evidence of a discriminatory motive..The prosecutor consistently struck both black and non-black jurors who, like Juror #0970, had close relatives who committed serious crimes and were incarcerated for them..Before striking Juror #0970, the prosecutor struck Juror #6309, a non-black woman whose son was serving time in prison for kidnaping and robbery..\n",
              "94                                                                                               Later, the prosecutor also struck Juror #6207, a non-black woman whose husband was incarcerated and about to be tried for felony evading..These non-black jurors’ situations are more analogous to the situation of Juror #0970 than Juror #6375’s, whose “daughter ha[d] a friend who is incarcerated,” and Juror #2918’s, whose brother was merely arrested for a possible DUI six or seven years prior..24     JAMERSON V ..RUNNELS  By exercising peremptory strikes against non-black jurors who had close relatives incarcerated, therefore, the prosecutor evidenced a sincere concern for the same problematic trait she identified in Juror #0970;.\n",
              "95                                                                                          her failure to exercise peremptory strikes against other non-black jurors who shared weak parallels with this juror, although prompting us to scrutinize her actions more carefully, ultimately does little to undermine the stated justification..See Cook, 593 F.3d at 817..It certainly does not convince us that the state court was unreasonable in crediting the prosecutor’s rationale under our doubly deferential standard of review..Moving to the prosecutor’s second stated reason for striking this juror—that her other brother’s murder was never solved—the State argues that the California courts were reasonable in crediting this rationale..\n",
              "96                                                                Jamerson counters by again identifying three non-black jurors who were allowed to serve despite purportedly sharing the same background:.Juror #2918, Juror #6375, and Juror #3136..Again, however, a full comparative analysis reveals little to undercut the state court’s conclusion that the prosecutor was applying genuine, race-neutral standards..During voir dire, the prosecutor repeatedly challenged jurors of all races who had an experience with an unsolved violent crime, but retained jurors who were the victims of lesser crimes..This pattern is first evident in the prosecutor’s disparate treatment of Juror #0970 and Juror #6824, both black prospective jurors..\n",
              "97                                                                                                              While the prosecutor struck Juror #0970, whose brother’s murder had not been solved, the prosecutor accepted Juror #6824, who was the victim of an unsolved home burglary..The prosecutor’s treatment of non-black jurors followed the same trend..The prosecutor struck Juror #3605, a white juror whose friend was shot during an unsolved robbery in Compton, and Juror #2333, a white juror who was the victim      JAMERSON V ..RUNNELS       25 of an unsolved robbery at gunpoint..But the prosecutor accepted Juror #3136, who had $200 stolen in New Orleans, and Juror #2918, who was the victim of a car theft and home burglary..\n",
              "98  Even more telling, unlike any of the other jurors, Juror #0970 specifically volunteered that the local police “never found any witnesses” to her brother’s murder—raising the exact concern of the prosecutor in rooting out victims of unsolved crimes..Although the prosecutor’s failure to strike Juror #3136 arouses some suspicion about her reasoning, as Juror #3136 expressed a stronger feeling that law enforcement was “pretty lax” when investigating his theft, the relevant similarities between these jurors, and thus the evidence of a discriminatory motive, are faint as Juror #3136 emphasized that the New Orleans police department conducted the investigation into his theft and that locally “it would be handled differently.”.\n",
              "99                                 In short, even though jurors need not be “exactly identical” to infer pretext from a comparative pattern of strikes, Miller-El II, 545 U.S. at 247 n.6, the evidence in this instance of weak parallels between Juror #0970 and other jurors who remained on the panel does not convince us that the state court was unreasonable in finding the prosecutor’s justifications believable..Consequently, under our doubly deferential standard of review, Jamerson’s challenge to Juror #0970 does not warrant habeas relief.7 See Rice, 546 U.S. at  7 The magistrate judge’s finding of discriminatory intent rested on two other grounds, neither of which is sufficient to raise an inference of discriminatory motive.."
            ]
          },
          "metadata": {},
          "execution_count": 9
        }
      ]
    },
    {
      "cell_type": "code",
      "metadata": {
        "colab": {
          "base_uri": "https://localhost:8080/"
        },
        "id": "LJt6sbRY8nbr",
        "outputId": "06894e6f-35ee-43af-f7e8-3601cd2bceed"
      },
      "source": [
        "data = pd.read_csv(\"/content/data.csv\")\n",
        "data = Dataset.from_pandas(data)\n",
        "data.rename_column(\"0\", \"text\")"
      ],
      "execution_count": 10,
      "outputs": [
        {
          "output_type": "execute_result",
          "data": {
            "text/plain": [
              "Dataset({\n",
              "    features: ['text'],\n",
              "    num_rows: 1668\n",
              "})"
            ]
          },
          "metadata": {},
          "execution_count": 10
        }
      ]
    },
    {
      "cell_type": "markdown",
      "metadata": {
        "id": "3Hclu74T38Mk"
      },
      "source": [
        "# tokenizer\n",
        "We need to instantiate the tokenizer and also add some special tokens, as done with spacy. "
      ]
    },
    {
      "cell_type": "code",
      "metadata": {
        "colab": {
          "base_uri": "https://localhost:8080/",
          "height": 177,
          "referenced_widgets": [
            "ac8cfae2d9cc4fc1ba97308657aa25f7",
            "1b4e2482d92e4235b937c909575dc980",
            "e05b0d9808f24c248f2321f0134ffe80",
            "d1db3348948249ee98542ff95b6ee93a",
            "47f0015b00cd4942a695dcf3ac0117c5",
            "5e0108b63409417f847c5e23ef82e284",
            "ae2e43dc4ccb4dc9bb7f818be424cf28",
            "4d2a8cacf7364809842d20536b21cff0",
            "350da63ca4cc41549552a14d0376c0cf",
            "86bcd372f700453fbff5a625c8fb0532",
            "5fcb22a6c3234b4d86087e0c5ff1537e",
            "cc3a704d1d664931958cd493564cddf2",
            "d43e5b8d9b2e4ac488e6275c166af3a6",
            "0be36809477c44bbbffff6cff5b8ab50",
            "31c44cdc646040bf8d8e3628afc0e511",
            "f70445c43d454f7ab7af94602e25f33c",
            "97211cc2b6d94194b93b91b00acbf067",
            "ea4f366b823244ca8a6e484533f60e8b",
            "c84ab063aac044fbbbce07b6d992d911",
            "be8c428400134a3f83d644149c40d056",
            "7229e61d09f54bb99b33e952a685da18",
            "dc0ebc0fb4fc44a4a49a88a1092c39fa",
            "ab75895ff6a04cdf9f2ccd7f393d04fb",
            "bd03a83c3ccd414b94868e23b9228738",
            "e6bbda84e0fe44aab8acbb32ea62ab17",
            "20360392107040f381c9d903d65c6db6",
            "902c44aa3431404c9ac561ffdeced420",
            "934bbcb9d2b342978c67f190bfb8814d",
            "e1f01d518bdb4808bc8b2e6ebcf5a56a",
            "622a2e5b256b4a1dba246547971dce63",
            "522f29318fb6420e98ba41fca788b2c2",
            "258a81ec70a34746bcaaaed8a790adc9",
            "eaa27425772f4bd0882f64c72713d207",
            "e4580ff99086437891744264b765ec6c",
            "761b958b2b3149c19fe4b34ef8b1091a",
            "700f934838be4a9698c1178359cf1d0b",
            "185f0399fb394d4fbf8b47639b96f908",
            "d3901a46edad4b9ca94677223dbe164d",
            "a91e332fa01a4cfca075b60f1a9390f1",
            "8cdc6dc366cc4bf3bb8ac77a50543865",
            "18d502ca87084b608c885a0eb44dd971",
            "0063ce0fea594a75bd4241ee0650a08b",
            "95f751835b1448538c274a61026979da",
            "6b0319f8c46a41628c07281a54706a43"
          ]
        },
        "id": "4vGlDHYD6SjT",
        "outputId": "2aa7fb0f-039e-4219-dade-ef48593b8548"
      },
      "source": [
        "EOS_TOKEN = \"<|endoftext|>\"\n",
        "PAD_TOKEN = \"<|pad|>\"\n",
        "MAX_TOKENS = 128 # was 128\n",
        "\n",
        "tokenizer = AutoTokenizer.from_pretrained(\n",
        "    \"gpt2\",\n",
        "    eos_token=EOS_TOKEN,\n",
        "    pad_token=PAD_TOKEN,\n",
        "    max_length=MAX_TOKENS,\n",
        "    is_split_into_words=True,\n",
        ")\n",
        "\n",
        "# adding further special cases\n",
        "special_cases = ['Cir.','Fed.','No.','NO','App.','Civ.', 'Dkt.', 'et al.','Nos.','U.S.C.','F.',\n",
        "                 'R.', 'n.', 'v.', 'Univ.', 'Jr.','I.N.S.', 'OR.', 'REV.', 'STAT.','D.C.']\n",
        "\n",
        "tokenizer.add_tokens(special_cases, special_tokens = False)\n"
      ],
      "execution_count": 11,
      "outputs": [
        {
          "output_type": "display_data",
          "data": {
            "application/vnd.jupyter.widget-view+json": {
              "model_id": "ac8cfae2d9cc4fc1ba97308657aa25f7",
              "version_minor": 0,
              "version_major": 2
            },
            "text/plain": [
              "Downloading:   0%|          | 0.00/665 [00:00<?, ?B/s]"
            ]
          },
          "metadata": {}
        },
        {
          "output_type": "display_data",
          "data": {
            "application/vnd.jupyter.widget-view+json": {
              "model_id": "cc3a704d1d664931958cd493564cddf2",
              "version_minor": 0,
              "version_major": 2
            },
            "text/plain": [
              "Downloading:   0%|          | 0.00/1.04M [00:00<?, ?B/s]"
            ]
          },
          "metadata": {}
        },
        {
          "output_type": "display_data",
          "data": {
            "application/vnd.jupyter.widget-view+json": {
              "model_id": "ab75895ff6a04cdf9f2ccd7f393d04fb",
              "version_minor": 0,
              "version_major": 2
            },
            "text/plain": [
              "Downloading:   0%|          | 0.00/456k [00:00<?, ?B/s]"
            ]
          },
          "metadata": {}
        },
        {
          "output_type": "display_data",
          "data": {
            "application/vnd.jupyter.widget-view+json": {
              "model_id": "e4580ff99086437891744264b765ec6c",
              "version_minor": 0,
              "version_major": 2
            },
            "text/plain": [
              "Downloading:   0%|          | 0.00/1.36M [00:00<?, ?B/s]"
            ]
          },
          "metadata": {}
        },
        {
          "output_type": "stream",
          "text": [
            "Special tokens have been added in the vocabulary, make sure the associated word embeddings are fine-tuned or trained.\n"
          ],
          "name": "stderr"
        },
        {
          "output_type": "execute_result",
          "data": {
            "text/plain": [
              "20"
            ]
          },
          "metadata": {},
          "execution_count": 11
        }
      ]
    },
    {
      "cell_type": "markdown",
      "metadata": {
        "id": "fyt7a4J_4g_7"
      },
      "source": [
        "Map Tokenizer to data "
      ]
    },
    {
      "cell_type": "code",
      "metadata": {
        "id": "em7H8Fet6eu3"
      },
      "source": [
        "output = {}\n",
        "\n",
        "# defining tokenizer function\n",
        "def tokenize_function(examples, tokenizer=tokenizer):\n",
        "    # Add start and end token to each comment\n",
        "    examples = [ex + EOS_TOKEN for ex in examples[\"0\"]]\n",
        "    # tokenizer created input_ids and attention_mask as output\n",
        "    output = tokenizer(\n",
        "        examples,\n",
        "        add_special_tokens=True, \n",
        "        max_length=MAX_TOKENS,\n",
        "        truncation=True,\n",
        "        pad_to_max_length=True,\n",
        "    )\n",
        "    # shift labels for next token prediction & set padding token labels to -100 which is ignored in loss computation\n",
        "    output[\"labels\"] = [x[1:] for x in output[\"input_ids\"]]\n",
        "    output[\"labels\"] = [\n",
        "        [-100 if x == tokenizer.pad_token_id else x for x in y]\n",
        "        for y in output[\"labels\"]\n",
        "    ]\n",
        "    # truncate input ids and attention mask to account for label shift\n",
        "    output[\"input_ids\"] = [x[:-1] for x in output[\"input_ids\"]]\n",
        "    output[\"attention_mask\"] = [x[:-1] for x in output[\"attention_mask\"]]\n",
        "    return output"
      ],
      "execution_count": 12,
      "outputs": []
    },
    {
      "cell_type": "code",
      "metadata": {
        "id": "CTIC2Bz_4qnY"
      },
      "source": [
        "data = data.map(\n",
        "    tokenize_function,\n",
        "    batched=True,\n",
        "    num_proc=strategy.num_replicas_in_sync,\n",
        "    remove_columns=[\"0\"],\n",
        "    load_from_cache_file=True,\n",
        ")\n",
        "data.save_to_disk(\"/content/dataset_format\")\n",
        "data = datasets.load_from_disk(\"/content/dataset_format\")\n",
        "data.set_format(type=\"python\", columns=[\"input_ids\", \"attention_mask\", \"labels\"])\n",
        "data = data.train_test_split(\n",
        "    test_size=0.20, shuffle=True, seed=1, load_from_cache_file=True\n",
        ")"
      ],
      "execution_count": 13,
      "outputs": []
    },
    {
      "cell_type": "code",
      "metadata": {
        "id": "cJbmIVAH6g_H"
      },
      "source": [
        "# convert to tensors and split data\n",
        "train_tensor_inputs = tf.convert_to_tensor(data[\"train\"][\"input_ids\"])\n",
        "train_tensor_labels = tf.convert_to_tensor(data[\"train\"][\"labels\"])\n",
        "train_tensor_mask = tf.convert_to_tensor(data[\"train\"][\"attention_mask\"])\n",
        "train = tf.data.Dataset.from_tensor_slices(\n",
        "    (\n",
        "        {\"input_ids\": train_tensor_inputs, \"attention_mask\": train_tensor_mask},\n",
        "        train_tensor_labels,\n",
        "    )\n",
        ")\n",
        "\n",
        "test_tensor_inputs = tf.convert_to_tensor(data[\"test\"][\"input_ids\"])\n",
        "test_tensor_labels = tf.convert_to_tensor(data[\"test\"][\"labels\"])\n",
        "test_tensor_mask = tf.convert_to_tensor(data[\"test\"][\"attention_mask\"])\n",
        "test = tf.data.Dataset.from_tensor_slices(\n",
        "    (\n",
        "        {\"input_ids\": test_tensor_inputs, \"attention_mask\": test_tensor_mask},\n",
        "        test_tensor_labels,\n",
        "    )\n",
        ")"
      ],
      "execution_count": 14,
      "outputs": []
    },
    {
      "cell_type": "code",
      "metadata": {
        "id": "BKyObD59FdOI"
      },
      "source": [
        "BATCH_SIZE_PER_REPLICA = 28\n",
        "EPOCHS = 6\n",
        "INITAL_LEARNING_RATE = 0.001\n",
        "try:\n",
        "    BATCH_SIZE = BATCH_SIZE_PER_REPLICA * strategy.num_replicas_in_sync\n",
        "except NameError as e:\n",
        "    BATCH_SIZE = BATCH_SIZE_PER_REPLICA\n",
        "BUFFER_SIZE = len(train)"
      ],
      "execution_count": 27,
      "outputs": []
    },
    {
      "cell_type": "code",
      "metadata": {
        "id": "rHRv5lfP6ip7"
      },
      "source": [
        "# reference note: prepare data for consumption\n",
        "train_ds = (train.shuffle(BUFFER_SIZE).batch(BATCH_SIZE, drop_remainder=True))\n",
        "test_ds = test.batch(BATCH_SIZE, drop_remainder=True)\n",
        "\n",
        "# reference note: Drecreasing learning rate scheduler\n",
        "lr_schedule = tf.keras.optimizers.schedules.ExponentialDecay(\n",
        "    INITAL_LEARNING_RATE,\n",
        "    decay_steps=500,\n",
        "    decay_rate=0.7,\n",
        "    staircase=True)\n",
        "# reference note: initialize model, use_cache=False important! else wrong shape at loss calc\n",
        "with strategy.scope():\n",
        "    model = TFGPT2LMHeadModel.from_pretrained(\n",
        "        \"distilgpt2\",\n",
        "        use_cache=False,\n",
        "        pad_token_id=tokenizer.pad_token_id,\n",
        "        eos_token_id=tokenizer.eos_token_id,\n",
        "    )\n",
        "    model.resize_token_embeddings(len(tokenizer))\n",
        "    optimizer = tf.keras.optimizers.Adam(learning_rate=lr_schedule)\n",
        "    model.compile(optimizer=optimizer, loss=model.compute_loss)\n",
        "    model.summary()"
      ],
      "execution_count": null,
      "outputs": []
    },
    {
      "cell_type": "code",
      "metadata": {
        "colab": {
          "base_uri": "https://localhost:8080/"
        },
        "id": "DbMJZXqJ6nMO",
        "outputId": "7cff8aeb-c454-4d36-ca94-f89ed6146393"
      },
      "source": [
        "steps_per_epoch = int(BUFFER_SIZE // BATCH_SIZE)\n",
        "print(\n",
        "    f\"Model Params:\\nbatch_size: {BATCH_SIZE}\\nEpochs: {EPOCHS}\\n\"\n",
        "    f\"Step p. Epoch: {steps_per_epoch}\\n\"\n",
        "    f\"Initial Learning rate: {INITAL_LEARNING_RATE}\"\n",
        ")"
      ],
      "execution_count": 24,
      "outputs": [
        {
          "output_type": "stream",
          "text": [
            "Model Params:\n",
            "batch_size: 224\n",
            "Epochs: 6\n",
            "Step p. Epoch: 5\n",
            "Initial Learning rate: 0.001\n"
          ],
          "name": "stdout"
        }
      ]
    },
    {
      "cell_type": "code",
      "metadata": {
        "id": "saWavEDN6oXW"
      },
      "source": [
        "hist = model.fit(\n",
        "    train_ds,\n",
        "    validation_data=test_ds,\n",
        "    batch_size=BATCH_SIZE,\n",
        "    epochs=6,\n",
        "    verbose=1,\n",
        ")"
      ],
      "execution_count": null,
      "outputs": []
    },
    {
      "cell_type": "code",
      "metadata": {
        "id": "nDeGshdS_G3v"
      },
      "source": [
        "# save model\n",
        "hist.save(\"model\")"
      ],
      "execution_count": null,
      "outputs": []
    },
    {
      "cell_type": "code",
      "metadata": {
        "colab": {
          "base_uri": "https://localhost:8080/",
          "height": 294
        },
        "id": "e-0a9vux6peD",
        "outputId": "147df4c1-aa7c-4992-935e-63f1b537d5cb"
      },
      "source": [
        "loss = pd.DataFrame(\n",
        "    {\"train loss\": hist.history[\"loss\"], \"test loss\": hist.history[\"val_loss\"]}\n",
        ").melt()\n",
        "loss[\"epoch\"] = loss.groupby(\"variable\").cumcount() + 1\n",
        "sns.lineplot(x=\"epoch\", y=\"value\", hue=\"variable\", data=loss).set(\n",
        "    title=\"Model loss\",\n",
        "    ylabel=\"\",\n",
        "    xticks=range(1, loss[\"epoch\"].max() + 1),\n",
        "    xticklabels=loss[\"epoch\"].unique(),\n",
        ");\n",
        "\n",
        "# load model"
      ],
      "execution_count": 21,
      "outputs": [
        {
          "output_type": "display_data",
          "data": {
            "image/png": "[encoded data removed]",
            "text/plain": [
              "<Figure size 432x288 with 1 Axes>"
            ]
          },
          "metadata": {
            "needs_background": "light"
          }
        }
      ]
    },
    {
      "cell_type": "code",
      "metadata": {
        "id": "W1VKOnrUBvC3"
      },
      "source": [
        "from transformers import pipeline\n",
        "\n",
        "gen = pipeline(\n",
        "    \"text-generation\",\n",
        "    model=model,\n",
        "    tokenizer=tokenizer,\n",
        ")"
      ],
      "execution_count": 22,
      "outputs": []
    },
    {
      "cell_type": "code",
      "metadata": {
        "id": "EFvxQ3AmCDlb"
      },
      "source": [
        "text = \"Fourth Amendment guarantees\""
      ],
      "execution_count": 23,
      "outputs": []
    },
    {
      "cell_type": "code",
      "metadata": {
        "colab": {
          "base_uri": "https://localhost:8080/"
        },
        "id": "YbnVhcU5GmFO",
        "outputId": "512ea811-8437-4925-898f-a14fb7d88043"
      },
      "source": [
        "gen(text,max_length=180, num_return_sequences=10, return_full_text=None)"
      ],
      "execution_count": 24,
      "outputs": [
        {
          "output_type": "execute_result",
          "data": {
            "text/plain": [
              "[{'generated_text': 'Fourth Amendment guarantees the right of “liberty” “every dollar” that “will be given ‘from a party in its opening brief.’” <eos>'},\n",
              " {'generated_text': 'Fourth Amendment guarantees the right to review documents seized pursuant to 20 U.S.C. § 511(a)(3)(D), without 4 U.S.C. § 511(a)(i)(2)(I), courts may only “enter into proceedings on the basis of any changed or inconsistent with the order’s” holding of summary judgment on those documents. <eos>'},\n",
              " {'generated_text': 'Fourth Amendment guarantees the IRS “an integral part” of the tax strategy for pur- poses of “willfulness” and “willfulness” of federal statutes. <eos>'},\n",
              " {'generated_text': 'Fourth Amendment guarantees the same result: <eos>'},\n",
              " {'generated_text': 'Fourth Amendment guarantees that “[t]he officer . . <eos>'},\n",
              " {'generated_text': 'Fourth Amendment guarantees the 4882     UNITED STATES V. ZAPIEN    4494     VAHORA v. HOLDER late: <eos>'},\n",
              " {'generated_text': 'Fourth Amendment guarantees a “good cause” to a defendant’s continued litigation of the issue   S. J. v. ISSAQUAH SCHOOL DIST. <eos>'},\n",
              " {'generated_text': 'Fourth Amendment guarantees that a habeas petitioner cannot “jump through hoops” to obtain a habeas petitioner’s habeas petitioner’s     12-70    PSG-P (7th Cir. 2013), which requires a “reasonably foreseeable” delay in adjudicating a petitioner’s habeas petitioner’s habeas petitioner’s crime. <eos>'},\n",
              " {'generated_text': 'Fourth Amendment guarantees a right to notice, but there are other limitations that remain in the 4    UNITED STATES v. DEWEY    17  We do not consider them as a threshold question before us. <eos>'},\n",
              " {'generated_text': 'Fourth Amendment guarantees that “[t]he property under cultivation,” is only a “settlement agreement with the partner, under which the entity is acting as a temporary delegation.” <eos>'}]"
            ]
          },
          "metadata": {},
          "execution_count": 24
        }
      ]
    },
    {
      "cell_type": "code",
      "metadata": {
        "id": "JVeT9Z7CKV1D",
        "outputId": "a3dee7bc-0153-4c29-dafa-367a344857f8",
        "colab": {
          "base_uri": "https://localhost:8080/"
        }
      },
      "source": [
        "!pip install spacy-readability\n",
        "import spacy\n",
        "from spacy_readability import Readability"
      ],
      "execution_count": 1,
      "outputs": [
        {
          "output_type": "stream",
          "text": [
            "Collecting spacy-readability\n",
            "  Downloading spacy_readability-1.4.1-py3-none-any.whl (49 kB)\n",
            "\u001b[?25l\r\u001b[K     |██████▋                         | 10 kB 17.5 MB/s eta 0:00:01\r\u001b[K     |█████████████▏                  | 20 kB 23.0 MB/s eta 0:00:01\r\u001b[K     |███████████████████▊            | 30 kB 14.0 MB/s eta 0:00:01\r\u001b[K     |██████████████████████████▎     | 40 kB 10.5 MB/s eta 0:00:01\r\u001b[K     |████████████████████████████████| 49 kB 2.8 MB/s \n",
            "\u001b[?25hCollecting syllapy<1,>=0\n",
            "  Downloading syllapy-0.7.1-py3-none-any.whl (27 kB)\n",
            "Requirement already satisfied: spacy<3.0,>=2.0 in /usr/local/lib/python3.7/dist-packages (from spacy-readability) (2.2.4)\n",
            "Requirement already satisfied: srsly<1.1.0,>=1.0.2 in /usr/local/lib/python3.7/dist-packages (from spacy<3.0,>=2.0->spacy-readability) (1.0.5)\n",
            "Requirement already satisfied: preshed<3.1.0,>=3.0.2 in /usr/local/lib/python3.7/dist-packages (from spacy<3.0,>=2.0->spacy-readability) (3.0.5)\n",
            "Requirement already satisfied: numpy>=1.15.0 in /usr/local/lib/python3.7/dist-packages (from spacy<3.0,>=2.0->spacy-readability) (1.19.5)\n",
            "Requirement already satisfied: requests<3.0.0,>=2.13.0 in /usr/local/lib/python3.7/dist-packages (from spacy<3.0,>=2.0->spacy-readability) (2.23.0)\n",
            "Requirement already satisfied: murmurhash<1.1.0,>=0.28.0 in /usr/local/lib/python3.7/dist-packages (from spacy<3.0,>=2.0->spacy-readability) (1.0.5)\n",
            "Requirement already satisfied: tqdm<5.0.0,>=4.38.0 in /usr/local/lib/python3.7/dist-packages (from spacy<3.0,>=2.0->spacy-readability) (4.62.0)\n",
            "Requirement already satisfied: plac<1.2.0,>=0.9.6 in /usr/local/lib/python3.7/dist-packages (from spacy<3.0,>=2.0->spacy-readability) (1.1.3)\n",
            "Requirement already satisfied: setuptools in /usr/local/lib/python3.7/dist-packages (from spacy<3.0,>=2.0->spacy-readability) (57.4.0)\n",
            "Requirement already satisfied: wasabi<1.1.0,>=0.4.0 in /usr/local/lib/python3.7/dist-packages (from spacy<3.0,>=2.0->spacy-readability) (0.8.2)\n",
            "Requirement already satisfied: catalogue<1.1.0,>=0.0.7 in /usr/local/lib/python3.7/dist-packages (from spacy<3.0,>=2.0->spacy-readability) (1.0.0)\n",
            "Requirement already satisfied: thinc==7.4.0 in /usr/local/lib/python3.7/dist-packages (from spacy<3.0,>=2.0->spacy-readability) (7.4.0)\n",
            "Requirement already satisfied: cymem<2.1.0,>=2.0.2 in /usr/local/lib/python3.7/dist-packages (from spacy<3.0,>=2.0->spacy-readability) (2.0.5)\n",
            "Requirement already satisfied: blis<0.5.0,>=0.4.0 in /usr/local/lib/python3.7/dist-packages (from spacy<3.0,>=2.0->spacy-readability) (0.4.1)\n",
            "Requirement already satisfied: importlib-metadata>=0.20 in /usr/local/lib/python3.7/dist-packages (from catalogue<1.1.0,>=0.0.7->spacy<3.0,>=2.0->spacy-readability) (4.6.4)\n",
            "Requirement already satisfied: typing-extensions>=3.6.4 in /usr/local/lib/python3.7/dist-packages (from importlib-metadata>=0.20->catalogue<1.1.0,>=0.0.7->spacy<3.0,>=2.0->spacy-readability) (3.7.4.3)\n",
            "Requirement already satisfied: zipp>=0.5 in /usr/local/lib/python3.7/dist-packages (from importlib-metadata>=0.20->catalogue<1.1.0,>=0.0.7->spacy<3.0,>=2.0->spacy-readability) (3.5.0)\n",
            "Requirement already satisfied: chardet<4,>=3.0.2 in /usr/local/lib/python3.7/dist-packages (from requests<3.0.0,>=2.13.0->spacy<3.0,>=2.0->spacy-readability) (3.0.4)\n",
            "Requirement already satisfied: urllib3!=1.25.0,!=1.25.1,<1.26,>=1.21.1 in /usr/local/lib/python3.7/dist-packages (from requests<3.0.0,>=2.13.0->spacy<3.0,>=2.0->spacy-readability) (1.24.3)\n",
            "Requirement already satisfied: certifi>=2017.4.17 in /usr/local/lib/python3.7/dist-packages (from requests<3.0.0,>=2.13.0->spacy<3.0,>=2.0->spacy-readability) (2021.5.30)\n",
            "Requirement already satisfied: idna<3,>=2.5 in /usr/local/lib/python3.7/dist-packages (from requests<3.0.0,>=2.13.0->spacy<3.0,>=2.0->spacy-readability) (2.10)\n",
            "Collecting ujson<2.0,>=1.35\n",
            "  Downloading ujson-1.35.tar.gz (192 kB)\n",
            "\u001b[K     |████████████████████████████████| 192 kB 10.9 MB/s \n",
            "\u001b[?25hBuilding wheels for collected packages: ujson\n",
            "  Building wheel for ujson (setup.py) ... \u001b[?25l\u001b[?25hdone\n",
            "  Created wheel for ujson: filename=ujson-1.35-cp37-cp37m-linux_x86_64.whl size=68419 sha256=a81e4beb36d43a1c207c38f88257b3bdddd7b7bc7ec53d1b6be88730af6ddb76\n",
            "  Stored in directory: /root/.cache/pip/wheels/55/e8/7e/e36b183f3e654b73fc04eb1b656ad3c2773077dd531cb35c4d\n",
            "Successfully built ujson\n",
            "Installing collected packages: ujson, syllapy, spacy-readability\n",
            "Successfully installed spacy-readability-1.4.1 syllapy-0.7.1 ujson-1.35\n"
          ],
          "name": "stdout"
        }
      ]
    },
    {
      "cell_type": "code",
      "metadata": {
        "id": "Cg5ZsVMMKlmI"
      },
      "source": [
        "nlp = spacy.load('en')\n",
        "read = Readability()\n",
        "nlp.add_pipe(read, last=True)"
      ],
      "execution_count": 4,
      "outputs": []
    },
    {
      "cell_type": "code",
      "metadata": {
        "id": "NvG7YY1eKcRR",
        "outputId": "25fb9edd-242d-4e01-f400-d4913e724ac2",
        "colab": {
          "base_uri": "https://localhost:8080/"
        }
      },
      "source": [
        "doc = nlp(\"I am some really difficult text to read because I use obnoxiously large words.\")\n",
        "\n",
        "print(doc._.flesch_kincaid_grade_level)\n",
        "print(doc._.flesch_kincaid_reading_ease)"
      ],
      "execution_count": 5,
      "outputs": [
        {
          "output_type": "stream",
          "text": [
            "8.412857142857145\n",
            "59.68214285714288\n",
            "7.714471428571429\n",
            "0\n",
            "8.96571428571428\n",
            "7.1014285714285705\n",
            "0\n"
          ],
          "name": "stdout"
        }
      ]
    }
  ]
}