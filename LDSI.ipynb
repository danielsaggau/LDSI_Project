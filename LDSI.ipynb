{
  "nbformat": 4,
  "nbformat_minor": 0,
  "metadata": {
    "colab": {
      "name": "LDSI.ipynb",
      "provenance": [],
      "mount_file_id": "1EknVyQW6-xiO2R7Q1Ut-SVloxjEuAQ7S",
      "authorship_tag": "ABX9TyNBqbQ896LmZVYZPw5kCGQK",
      "include_colab_link": true
    },
    "kernelspec": {
      "name": "python3",
      "display_name": "Python 3"
    },
    "language_info": {
      "name": "python"
    },
    "accelerator": "TPU"
  },
  "cells": [
    {
      "cell_type": "markdown",
      "metadata": {
        "id": "view-in-github",
        "colab_type": "text"
      },
      "source": [
        "<a href=\"https://colab.research.google.com/github/danielsaggau/LDSI_Project/blob/master/LDSI.ipynb\" target=\"_parent\"><img src=\"https://colab.research.google.com/assets/colab-badge.svg\" alt=\"Open In Colab\"/></a>"
      ]
    },
    {
      "cell_type": "code",
      "metadata": {
        "id": "2PtcTgVyBiqb"
      },
      "source": [
        ""
      ],
      "execution_count": null,
      "outputs": []
    },
    {
      "cell_type": "code",
      "metadata": {
        "id": "TLQirwA26_G9"
      },
      "source": [
        "if os.environ.get(\"COLAB_GPU\", False):\n",
        "    !pip install -U datasets transformers\n",
        "import os\n",
        "import warnings\n",
        "import re\n",
        "import random\n",
        "import datasets\n",
        "import transformers\n",
        "import tensorflow as tf\n",
        "import numpy as np\n",
        "import pandas as pd\n",
        "import seaborn as sns\n",
        "from datetime import datetime\n",
        "from transformers import AutoTokenizer, TFGPT2LMHeadModel\n",
        "from datasets import Dataset, load_dataset\n",
        "\n",
        "pd.options.display.max_colwidth = 6000\n",
        "pd.options.display.max_rows = 400\n",
        "np.set_printoptions(suppress=True)\n",
        "warnings.filterwarnings(\"ignore\")\n",
        "# Log Level and suppress extensive tf warnings\n",
        "os.environ[\"TRANSFORMERS_VERBOSITY\"] = \"info\"\n",
        "tf.compat.v1.logging.set_verbosity(tf.compat.v1.logging.ERROR)\n",
        "print(tf.__version__)\n",
        "print(transformers.__version__)\n",
        "PATH_BASE = \"/drive/My Drive\""
      ],
      "execution_count": null,
      "outputs": []
    },
    {
      "cell_type": "code",
      "metadata": {
        "id": "Bzdl8XvZAKEY"
      },
      "source": [
        "PATH_BASE =\"/content\""
      ],
      "execution_count": 41,
      "outputs": []
    },
    {
      "cell_type": "code",
      "metadata": {
        "colab": {
          "base_uri": "https://localhost:8080/"
        },
        "id": "9aYbprMv9CCi",
        "outputId": "bbc177da-8316-4a18-f25e-0f7df5f9b0b9"
      },
      "source": [
        "# Try to run on TPU if available\n",
        "# Detect hardware, return appropriate distribution strategy\n",
        "try:\n",
        "    tpu = tf.distribute.cluster_resolver.TPUClusterResolver()  # TPU detection\n",
        "    print(\"Running on TPU \", tpu.cluster_spec().as_dict()[\"worker\"])\n",
        "except ValueError:\n",
        "    tpu = None\n",
        "if tpu:\n",
        "    tf.config.experimental_connect_to_cluster(tpu)\n",
        "    tf.tpu.experimental.initialize_tpu_system(tpu)\n",
        "    strategy = tf.distribute.TPUStrategy(tpu)\n",
        "else:\n",
        "    strategy = tf.distribute.get_strategy()\n",
        "print(\"REPLICAS: \", strategy.num_replicas_in_sync)"
      ],
      "execution_count": 10,
      "outputs": [
        {
          "output_type": "stream",
          "text": [
            "Running on TPU  ['10.24.60.50:8470']\n"
          ],
          "name": "stdout"
        },
        {
          "output_type": "stream",
          "text": [
            "INFO:absl:Entering into master device scope: /job:worker/replica:0/task:0/device:CPU:0\n"
          ],
          "name": "stderr"
        },
        {
          "output_type": "stream",
          "text": [
            "REPLICAS:  8\n"
          ],
          "name": "stdout"
        }
      ]
    },
    {
      "cell_type": "code",
      "metadata": {
        "id": "0hpahHHg6Zpi"
      },
      "source": [
        "data = pd.read_json(\"/content/flat_list.json\")\n",
        "data.to_csv(\"/content/data.csv\", index=False)\n"
      ],
      "execution_count": 15,
      "outputs": []
    },
    {
      "cell_type": "code",
      "metadata": {
        "id": "bWBOHeba-I8F"
      },
      "source": [
        "data[:100]"
      ],
      "execution_count": null,
      "outputs": []
    },
    {
      "cell_type": "code",
      "metadata": {
        "colab": {
          "base_uri": "https://localhost:8080/"
        },
        "id": "LJt6sbRY8nbr",
        "outputId": "b3d89962-e421-4db5-de23-04b72039fbd3"
      },
      "source": [
        "data = pd.read_csv(\"/content/data.csv\")\n",
        "data = Dataset.from_pandas(data)\n",
        "data.rename_column(\"0\", \"text\")"
      ],
      "execution_count": 22,
      "outputs": [
        {
          "output_type": "execute_result",
          "data": {
            "text/plain": [
              "Dataset({\n",
              "    features: ['text'],\n",
              "    num_rows: 7651\n",
              "})"
            ]
          },
          "metadata": {},
          "execution_count": 22
        }
      ]
    },
    {
      "cell_type": "code",
      "metadata": {
        "colab": {
          "base_uri": "https://localhost:8080/"
        },
        "id": "4vGlDHYD6SjT",
        "outputId": "b1d3f70b-87c5-45b4-832e-984abb5e1668"
      },
      "source": [
        "EOS_TOKEN = \"<|endoftext|>\"\n",
        "PAD_TOKEN = \"<|pad|>\"\n",
        "MAX_TOKENS = 256 # was 128\n",
        "\n",
        "tokenizer = AutoTokenizer.from_pretrained(\n",
        "    \"gpt2\",\n",
        "    eos_token=EOS_TOKEN,\n",
        "    pad_token=PAD_TOKEN,\n",
        "    max_length=MAX_TOKENS,\n",
        "    is_split_into_words=True,\n",
        ")\n",
        "\n",
        "# adding further special cases\n",
        "special_cases = ['Cir.','Fed.','No.','NO','App.','Civ.', 'Dkt.', 'et al.','Nos.','U.S.C.','F.',\n",
        "                 'R.', 'n.', 'v.', 'Univ.', 'Jr.','I.N.S.', 'OR.', 'REV.', 'STAT.','D.C.']\n",
        "\n",
        "tokenizer.add_tokens(special_cases, special_tokens = False)\n"
      ],
      "execution_count": 23,
      "outputs": [
        {
          "output_type": "stream",
          "text": [
            "Special tokens have been added in the vocabulary, make sure the associated word embeddings are fine-tuned or trained.\n"
          ],
          "name": "stderr"
        },
        {
          "output_type": "execute_result",
          "data": {
            "text/plain": [
              "20"
            ]
          },
          "metadata": {},
          "execution_count": 23
        }
      ]
    },
    {
      "cell_type": "code",
      "metadata": {
        "id": "em7H8Fet6eu3"
      },
      "source": [
        "output = {}\n",
        "\n",
        "# defining tokenizer function\n",
        "def tokenize_function(examples, tokenizer=tokenizer):\n",
        "    # Add start and end token to each comment\n",
        "    examples = [ex + EOS_TOKEN for ex in examples[\"0\"]]\n",
        "    # tokenizer created input_ids and attention_mask as output\n",
        "    output = tokenizer(\n",
        "        examples,\n",
        "        add_special_tokens=True,  # Only adds pad not eos and bos\n",
        "        max_length=MAX_TOKENS,\n",
        "        truncation=True,\n",
        "        pad_to_max_length=True,\n",
        "    )\n",
        "    # shift labels for next token prediction\n",
        "    # set padding token labels to -100 which is ignored in loss computation\n",
        "    output[\"labels\"] = [x[1:] for x in output[\"input_ids\"]]\n",
        "    output[\"labels\"] = [\n",
        "        [-100 if x == tokenizer.pad_token_id else x for x in y]\n",
        "        for y in output[\"labels\"]\n",
        "    ]\n",
        "    # truncate input ids and attention mask to account for label shift\n",
        "    output[\"input_ids\"] = [x[:-1] for x in output[\"input_ids\"]]\n",
        "    output[\"attention_mask\"] = [x[:-1] for x in output[\"attention_mask\"]]\n",
        "    return output\n",
        "\n",
        "data = data.map(\n",
        "    tokenize_function,\n",
        "    batched=True,\n",
        "    num_proc=strategy.num_replicas_in_sync,\n",
        "    remove_columns=[\"0\"],\n",
        "    load_from_cache_file=True,\n",
        ")\n",
        "data.save_to_disk(\"/content/dataset_format\")\n",
        "data = datasets.load_from_disk(\"/content/dataset_format\")\n",
        "data.set_format(type=\"python\", columns=[\"input_ids\", \"attention_mask\", \"labels\"])\n",
        "data = data.train_test_split(\n",
        "    test_size=0.20, shuffle=True, seed=1, load_from_cache_file=True\n",
        ")"
      ],
      "execution_count": 24,
      "outputs": []
    },
    {
      "cell_type": "code",
      "metadata": {
        "id": "cJbmIVAH6g_H"
      },
      "source": [
        "# convert to tensors and split data\n",
        "train_tensor_inputs = tf.convert_to_tensor(data[\"train\"][\"input_ids\"])\n",
        "train_tensor_labels = tf.convert_to_tensor(data[\"train\"][\"labels\"])\n",
        "train_tensor_mask = tf.convert_to_tensor(data[\"train\"][\"attention_mask\"])\n",
        "train = tf.data.Dataset.from_tensor_slices(\n",
        "    (\n",
        "        {\"input_ids\": train_tensor_inputs, \"attention_mask\": train_tensor_mask},\n",
        "        train_tensor_labels,\n",
        "    )\n",
        ")\n",
        "\n",
        "test_tensor_inputs = tf.convert_to_tensor(data[\"test\"][\"input_ids\"])\n",
        "test_tensor_labels = tf.convert_to_tensor(data[\"test\"][\"labels\"])\n",
        "test_tensor_mask = tf.convert_to_tensor(data[\"test\"][\"attention_mask\"])\n",
        "test = tf.data.Dataset.from_tensor_slices(\n",
        "    (\n",
        "        {\"input_ids\": test_tensor_inputs, \"attention_mask\": test_tensor_mask},\n",
        "        test_tensor_labels,\n",
        "    )\n",
        ")\n",
        "\n",
        "BATCH_SIZE_PER_REPLICA = 28\n",
        "EPOCHS = 6\n",
        "INITAL_LEARNING_RATE = 0.001\n",
        "try:\n",
        "    BATCH_SIZE = BATCH_SIZE_PER_REPLICA * strategy.num_replicas_in_sync\n",
        "except NameError as e:\n",
        "    BATCH_SIZE = BATCH_SIZE_PER_REPLICA\n",
        "BUFFER_SIZE = len(train)\n"
      ],
      "execution_count": 46,
      "outputs": []
    },
    {
      "cell_type": "code",
      "metadata": {
        "colab": {
          "base_uri": "https://localhost:8080/"
        },
        "id": "rHRv5lfP6ip7",
        "outputId": "25b2db36-e4d5-48c0-b52d-4066efbe808d"
      },
      "source": [
        "# prepare data for consumption\n",
        "train_ds = (train.shuffle(BUFFER_SIZE).batch(BATCH_SIZE, drop_remainder=True))\n",
        "test_ds = test.batch(BATCH_SIZE, drop_remainder=True)\n",
        "\n",
        "# Drecreasing learning rate scheduler\n",
        "lr_schedule = tf.keras.optimizers.schedules.ExponentialDecay(\n",
        "    INITAL_LEARNING_RATE,\n",
        "    decay_steps=500,\n",
        "    decay_rate=0.7,\n",
        "    staircase=True)\n",
        "# reference note:\n",
        "# initialize model, use_cache=False important! else wrong shape at loss calc\n",
        "with strategy.scope():\n",
        "    model = TFGPT2LMHeadModel.from_pretrained(\n",
        "        \"distilgpt2\",\n",
        "        use_cache=False,\n",
        "        pad_token_id=tokenizer.pad_token_id,\n",
        "        eos_token_id=tokenizer.eos_token_id,\n",
        "    )\n",
        "    model.resize_token_embeddings(len(tokenizer))\n",
        "    optimizer = tf.keras.optimizers.Adam(learning_rate=lr_schedule)\n",
        "    model.compile(optimizer=optimizer, loss=model.compute_loss)\n",
        "    model.summary()\n",
        "\n"
      ],
      "execution_count": 47,
      "outputs": [
        {
          "output_type": "stream",
          "text": [
            "All model checkpoint layers were used when initializing TFGPT2LMHeadModel.\n",
            "\n",
            "All the layers of TFGPT2LMHeadModel were initialized from the model checkpoint at distilgpt2.\n",
            "If your task is similar to the task the model of the checkpoint was trained on, you can already use TFGPT2LMHeadModel for predictions without further training.\n"
          ],
          "name": "stderr"
        },
        {
          "output_type": "stream",
          "text": [
            "Model: \"tfgp_t2lm_head_model_1\"\n",
            "_________________________________________________________________\n",
            "Layer (type)                 Output Shape              Param #   \n",
            "=================================================================\n",
            "transformer (TFGPT2MainLayer multiple                  81928704  \n",
            "=================================================================\n",
            "Total params: 81,928,704\n",
            "Trainable params: 81,928,704\n",
            "Non-trainable params: 0\n",
            "_________________________________________________________________\n"
          ],
          "name": "stdout"
        }
      ]
    },
    {
      "cell_type": "code",
      "metadata": {
        "colab": {
          "base_uri": "https://localhost:8080/"
        },
        "id": "DbMJZXqJ6nMO",
        "outputId": "146f1867-6037-4c79-e7ba-3ce9320a353d"
      },
      "source": [
        "steps_per_epoch = int(BUFFER_SIZE // BATCH_SIZE)\n",
        "print(\n",
        "    f\"Model Params:\\nbatch_size: {BATCH_SIZE}\\nEpochs: {EPOCHS}\\n\"\n",
        "    f\"Step p. Epoch: {steps_per_epoch}\\n\"\n",
        "    f\"Initial Learning rate: {INITAL_LEARNING_RATE}\"\n",
        ")"
      ],
      "execution_count": 48,
      "outputs": [
        {
          "output_type": "stream",
          "text": [
            "Model Params:\n",
            "batch_size: 224\n",
            "Epochs: 8\n",
            "Step p. Epoch: 27\n",
            "Initial Learning rate: 0.001\n"
          ],
          "name": "stdout"
        }
      ]
    },
    {
      "cell_type": "code",
      "metadata": {
        "id": "saWavEDN6oXW"
      },
      "source": [
        "hist = model.fit(\n",
        "    train_ds,\n",
        "    validation_data=test_ds,\n",
        "    batch_size=BATCH_SIZE,\n",
        "    epochs=6,\n",
        "    verbose=1,\n",
        ")"
      ],
      "execution_count": null,
      "outputs": []
    },
    {
      "cell_type": "code",
      "metadata": {
        "id": "nDeGshdS_G3v"
      },
      "source": [
        "# save model\n",
        "hist.save(\"model\")"
      ],
      "execution_count": null,
      "outputs": []
    },
    {
      "cell_type": "code",
      "metadata": {
        "colab": {
          "base_uri": "https://localhost:8080/",
          "height": 294
        },
        "id": "e-0a9vux6peD",
        "outputId": "bb8eefdb-87dc-42cf-aa6a-9f8543ca6d10"
      },
      "source": [
        "# plotting the loss\n",
        "loss = pd.DataFrame(\n",
        "    {\"train loss\": hist.history[\"loss\"], \"test loss\": hist.history[\"val_loss\"]}\n",
        ").melt()\n",
        "loss[\"epoch\"] = loss.groupby(\"variable\").cumcount() + 1\n",
        "sns.lineplot(x=\"epoch\", y=\"value\", hue=\"variable\", data=loss).set(\n",
        "    title=\"Model loss\",\n",
        "    ylabel=\"\",\n",
        "    xticks=range(1, loss[\"epoch\"].max() + 1),\n",
        "    xticklabels=loss[\"epoch\"].unique(),\n",
        ");\n",
        "\n",
        "# load model"
      ],
      "execution_count": 45,
      "outputs": [
        {
          "output_type": "display_data",
          "data": {
            "image/png": "[encoded data removed]",
            "text/plain": [
              "<Figure size 432x288 with 1 Axes>"
            ]
          },
          "metadata": {
            "needs_background": "light"
          }
        }
      ]
    }
  ]
}